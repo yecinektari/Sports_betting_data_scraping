{
 "cells": [
  {
   "cell_type": "code",
   "execution_count": 1,
   "metadata": {},
   "outputs": [
    {
     "name": "stderr",
     "output_type": "stream",
     "text": [
      "<ipython-input-1-14cb60356e8b>:15: DeprecationWarning: executable_path has been deprecated, please pass in a Service object\n",
      "  browser = webdriver.Chrome(\n"
     ]
    }
   ],
   "source": [
    "from selenium import webdriver\n",
    "from selenium.webdriver.common.keys import Keys\n",
    "import time\n",
    "import os  # permet d'aller écrire dans les répertoires\n",
    "from openpyxl import Workbook\n",
    "import pandas as pd\n",
    "\n",
    "\n",
    "option = webdriver.ChromeOptions()\n",
    "option.add_argument(\"--incognito\")  # Navigation privée\n",
    "# option.add_argument(\"kiosk\")  # grand ecran sur mac\n",
    "#prefs={\"profile.managed_default_content_settings.images\": 2, 'disk-cache-size': 4096 }\n",
    "#option.add_experimental_option('prefs', prefs)\n",
    "\n",
    "browser = webdriver.Chrome(\n",
    "    executable_path=\"/Users/thomasbouiniere/Desktop/Scrapping/chromedriver\", options=option)\n",
    "\n"
   ]
  },
  {
   "cell_type": "code",
   "execution_count": 2,
   "metadata": {},
   "outputs": [
    {
     "name": "stderr",
     "output_type": "stream",
     "text": [
      "<ipython-input-2-fa0598465e63>:19: DeprecationWarning: find_element_by_xpath is deprecated. Please use find_element(by=By.XPATH, value=xpath) instead\n",
      "  button = browser.find_element_by_xpath(\n",
      "<ipython-input-2-fa0598465e63>:23: DeprecationWarning: find_elements_by_xpath is deprecated. Please use find_elements(by=By.XPATH, value=xpath) instead\n",
      "  cotes_temp = browser.find_elements_by_xpath(\n",
      "<ipython-input-2-fa0598465e63>:28: DeprecationWarning: find_elements_by_xpath is deprecated. Please use find_elements(by=By.XPATH, value=xpath) instead\n",
      "  nom_temp = browser.find_elements_by_xpath(\n",
      "<ipython-input-2-fa0598465e63>:33: DeprecationWarning: find_elements_by_xpath is deprecated. Please use find_elements(by=By.XPATH, value=xpath) instead\n",
      "  date_temp = browser.find_elements_by_xpath(\n"
     ]
    }
   ],
   "source": [
    "# ---------------------------------------------------------------\n",
    "# Betclic\n",
    "# ---------------------------------------------------------------\n",
    "compets_betclic = {'ldc': 'https://www.betclic.fr/football-s1/ligue-des-champions-c8',\n",
    "                   'pl': 'https://www.betclic.fr/football-s1/angl-premier-league-c3',\n",
    "                   'l1': 'https://www.betclic.fr/football-s1/ligue-1-uber-eats-c4',\n",
    "                   'liga': 'https://www.betclic.fr/football-s1/espagne-liga-primera-c7'}\n",
    "\n",
    "res_betclic = {'ldc': {'cotes': [], 'noms': [], 'dates': []},\n",
    "               'pl': {'cotes': [], 'noms': [], 'dates': []},\n",
    "               'l1': {'cotes': [], 'noms': [], 'dates': []},\n",
    "               'liga': {'cotes': [], 'noms': [], 'dates': []}}\n",
    "\n",
    "for i, compet in enumerate(compets_betclic):\n",
    "    browser.get(compets_betclic[compet])\n",
    "    time.sleep(1)\n",
    "    if i in [0]:\n",
    "        time.sleep(2)\n",
    "        button = browser.find_element_by_xpath(\n",
    "            '//*[@id=\"popin_tc_privacy_button_2\"]')\n",
    "        button.click()\n",
    "\n",
    "    cotes_temp = browser.find_elements_by_xpath(\n",
    "        '/html/body/app-desktop/div[1]/div/bcdk-content-scroller/div/sports-competition/div/sports-events-list/bcdk-vertical-scroller/div/div[2]/div/div/div/div[2]/div/sports-events-event/a/sports-events-event-markets/sports-markets-default[1]/div/sports-selections-selection/div[1]/span[2]')\n",
    "    for x in cotes_temp:\n",
    "        res_betclic[compet]['cotes'].append(x.text)\n",
    "\n",
    "    nom_temp = browser.find_elements_by_xpath(\n",
    "        '/html/body/app-desktop/div[1]/div/bcdk-content-scroller/div/sports-competition/div/sports-events-list/bcdk-vertical-scroller/div/div[2]/div/div/div/div[2]/div/sports-events-event/a/div/scoreboards-scoreboard/scoreboards-scoreboard-global/div/div/div')\n",
    "    for x in nom_temp:\n",
    "        res_betclic[compet]['noms'].append(x.text)\n",
    "\n",
    "    date_temp = browser.find_elements_by_xpath(\n",
    "        '/html/body/app-desktop/div[1]/div/bcdk-content-scroller/div/sports-competition/div/sports-events-list/bcdk-vertical-scroller/div/div[2]/div/div/div/div[2]/div/sports-events-event/a/div/sports-events-event-info/div')\n",
    "    for x in date_temp:\n",
    "        res_betclic[compet]['dates'].append(x.text)\n"
   ]
  },
  {
   "cell_type": "code",
   "execution_count": 3,
   "metadata": {},
   "outputs": [
    {
     "name": "stderr",
     "output_type": "stream",
     "text": [
      "<ipython-input-3-1ebacfd403d1>:21: DeprecationWarning: find_elements_by_xpath is deprecated. Please use find_elements(by=By.XPATH, value=xpath) instead\n",
      "  cotes_liga_temp = browser.find_elements_by_xpath(\n",
      "<ipython-input-3-1ebacfd403d1>:40: DeprecationWarning: find_elements_by_xpath is deprecated. Please use find_elements(by=By.XPATH, value=xpath) instead\n",
      "  noms_temp = browser.find_elements_by_xpath(\n",
      "<ipython-input-3-1ebacfd403d1>:47: DeprecationWarning: find_elements_by_xpath is deprecated. Please use find_elements(by=By.XPATH, value=xpath) instead\n",
      "  dates_temp = browser.find_elements_by_xpath(\n"
     ]
    }
   ],
   "source": [
    "\n",
    "# ---------------------------------------------------------------\n",
    "# Winamax\n",
    "# ---------------------------------------------------------------\n",
    "\n",
    "compets_winamax = {'ldc': 'https://www.winamax.fr/paris-sportifs/sports/1/800000542/23',\n",
    "                   'pl': 'https://www.winamax.fr/paris-sportifs/sports/1/1/1',\n",
    "                   'l1': 'https://www.winamax.fr/paris-sportifs/sports/1/7/4',\n",
    "                   'liga': 'https://www.winamax.fr/paris-sportifs/sports/1/32/36'}\n",
    "\n",
    "res_winamax = {'ldc': {'cotes': [], 'noms': [], 'dates': []},\n",
    "               'pl': {'cotes': [], 'noms': [], 'dates': []},\n",
    "               'l1': {'cotes': [], 'noms': [], 'dates': []},\n",
    "               'liga': {'cotes': [], 'noms': [], 'dates': []}}\n",
    "\n",
    "for i, compet in enumerate(compets_winamax):\n",
    "    browser.get(compets_winamax[compet])\n",
    "    time.sleep(1)\n",
    "\n",
    "    '''On récupère les cotes'''\n",
    "\n",
    "    cotes_liga_temp = browser.find_elements_by_xpath(\n",
    "        '//*[@id=\"app\"]/div[1]/div[1]/div/div[2]/div/section/div[3]/div[1]/div/div/div/div/div[1]/a')\n",
    "    cotes_liga = []\n",
    "    try:\n",
    "        for lien in cotes_liga_temp:\n",
    "            for i in range(0, 3):\n",
    "                x = lien.get_property('lastChild')\n",
    "                x = x.get_property('lastChild')\n",
    "                x = x.get_property('lastChild')\n",
    "                x = x.get_property('children')[0]\n",
    "                x = x.get_property('children')[i]\n",
    "                x = x.get_property('children')[1]\n",
    "                x = x.get_property('children')[0]\n",
    "                x = x.get_property('children')[1]\n",
    "                res_winamax[compet]['cotes'].append(x.text)\n",
    "    except:\n",
    "        None\n",
    "\n",
    "    '''On récupère les noms d'équipes'''\n",
    "    noms_temp = browser.find_elements_by_xpath(\n",
    "        '//*[@id=\"app\"]/div/div[1]/div/div[2]/div/section/div[3]/div[1]/div/div/div/div/div[1]/a/div[2]/div[1]/div[1]/div[1]/div/span')\n",
    "    for x in noms_temp:\n",
    "        res_winamax[compet]['noms'].append(x.text)\n",
    "\n",
    "    '''On récupère les dates des matchs'''\n",
    "\n",
    "    dates_temp = browser.find_elements_by_xpath(\n",
    "        '//*[@id=\"app\"]/div/div[1]/div/div[2]/div/section/div[3]/div[1]/div/div/div/div/div[1]/a/div[1]/div[2]/div')\n",
    "    dates_temp = dates_temp[:-1]\n",
    "\n",
    "    for x in dates_temp:\n",
    "        res_winamax[compet]['dates'].append(x.text)"
   ]
  },
  {
   "cell_type": "code",
   "execution_count": 4,
   "metadata": {},
   "outputs": [
    {
     "name": "stderr",
     "output_type": "stream",
     "text": [
      "<ipython-input-4-14dea39b756c>:19: DeprecationWarning: find_elements_by_xpath is deprecated. Please use find_elements(by=By.XPATH, value=xpath) instead\n",
      "  cotes_temp = browser.find_elements_by_xpath(\n",
      "<ipython-input-4-14dea39b756c>:34: DeprecationWarning: find_elements_by_xpath is deprecated. Please use find_elements(by=By.XPATH, value=xpath) instead\n",
      "  noms_temp = browser.find_elements_by_xpath(\n"
     ]
    }
   ],
   "source": [
    "\n",
    "# ---------------------------------------------------------------\n",
    "# Unibet\n",
    "# ---------------------------------------------------------------\n",
    "\n",
    "compets_unibet = {'ldc': 'https://www.unibet.fr/sport/football/ligue-des-champions/ligue-des-champions-matchs',\n",
    "                  'pl': 'https://www.unibet.fr/sport/football/premier-league/matchs',\n",
    "                  'l1': 'https://www.unibet.fr/sport/football/ligue-1-ubereats/ligue-1-matchs',\n",
    "                  'liga': 'https://www.unibet.fr/sport/football/liga/matchs'}\n",
    "\n",
    "res_unibet = {'ldc': {'cotes': [], 'noms': [], 'dates': []},\n",
    "              'pl': {'cotes': [], 'noms': [], 'dates': []},\n",
    "              'l1': {'cotes': [], 'noms': [], 'dates': []},\n",
    "              'liga': {'cotes': [], 'noms': [], 'dates': []}}\n",
    "\n",
    "for i, compet in enumerate(compets_unibet):\n",
    "    browser.get(compets_unibet[compet])\n",
    "    time.sleep(2)\n",
    "    '''On cherche les côtes '''\n",
    "    cotes_temp = browser.find_elements_by_xpath(\n",
    "        '//*[@id=\"page__competitionview\"]/div[1]/div/div[2]/div/div/div[2]/div[2]/div/div/div/div[2]')\n",
    "    for match in cotes_temp:\n",
    "        for i in range(0, 3):\n",
    "            x = match.get_property('children')[0]\n",
    "            x = x.get_property('children')[0]\n",
    "            x = x.get_property('children')[0]\n",
    "            x = x.get_property('children')[0]\n",
    "            x = x.get_property('children')[i]\n",
    "            x = x.get_property('children')[0]\n",
    "            x = x.get_property('children')[2]\n",
    "            res_unibet[compet]['cotes'].append(x.text)\n",
    "\n",
    "    '''On cherche les noms d'équipes'''\n",
    "\n",
    "    noms_temp = browser.find_elements_by_xpath(\n",
    "        '//*[@id=\"page__competitionview\"]/div[1]/div/div[2]/div/div/div[2]/div[2]/div/div/div/div/div/div[2]/div[1]/div/span')\n",
    "    for x in noms_temp:\n",
    "        res_unibet[compet]['noms'].append(x.text.split('-'))\n"
   ]
  },
  {
   "cell_type": "code",
   "execution_count": 5,
   "metadata": {},
   "outputs": [],
   "source": [
    "\"On retire les tirets dans la liste des noms d'équipes\"\n",
    "for comp in res_winamax:\n",
    "    while ' - ' in res_winamax[comp]['noms']:\n",
    "        res_winamax[comp]['noms'].remove(' - ')\n",
    "\n"
   ]
  },
  {
   "cell_type": "code",
   "execution_count": 6,
   "metadata": {},
   "outputs": [
    {
     "name": "stdout",
     "output_type": "stream",
     "text": [
      "{'cotes': ['1,38', '4,35', '6,55', '7,70', '4,30', '1,34', '4,95', '4,00', '1,53', '2,03', '3,25', '3,25'], 'noms': ['Manchester City', 'Atletico Madrid', 'Benfica', 'Liverpool', 'Villarreal', 'Bayern Munich', 'Chelsea', 'Real Madrid'], 'dates': ['05/04/2022 21:00', '05/04/2022 21:00', '06/04/2022 21:00', '06/04/2022 21:00']}\n"
     ]
    }
   ],
   "source": [
    "\"on redivise les listes par paquets de matchs\"\n",
    "print(res_betclic['ldc'])"
   ]
  }
 ],
 "metadata": {
  "interpreter": {
   "hash": "40d3a090f54c6569ab1632332b64b2c03c39dcf918b08424e98f38b5ae0af88f"
  },
  "kernelspec": {
   "display_name": "Python 3.8.3 ('base')",
   "language": "python",
   "name": "python3"
  },
  "language_info": {
   "codemirror_mode": {
    "name": "ipython",
    "version": 3
   },
   "file_extension": ".py",
   "mimetype": "text/x-python",
   "name": "python",
   "nbconvert_exporter": "python",
   "pygments_lexer": "ipython3",
   "version": "3.8.3"
  },
  "orig_nbformat": 4
 },
 "nbformat": 4,
 "nbformat_minor": 2
}
