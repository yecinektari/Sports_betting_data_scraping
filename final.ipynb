{
 "cells": [
  {
   "cell_type": "code",
   "execution_count": 3,
   "metadata": {},
   "outputs": [],
   "source": [
    "from selenium import webdriver\n",
    "from selenium.webdriver.common.keys import Keys\n",
    "import time\n",
    "import os  # permet d'aller écrire dans les répertoires\n",
    "from openpyxl import Workbook\n",
    "import pandas as pd"
   ]
  },
  {
   "cell_type": "code",
   "execution_count": 2,
   "metadata": {},
   "outputs": [],
   "source": [
    "option = webdriver.ChromeOptions()\n",
    "option.add_argument(\"--incognito\")  # Navigation privée\n",
    "# option.add_argument(\"kiosk\")  # grand ecran sur mac\n",
    "#prefs={\"profile.managed_default_content_settings.images\": 2, 'disk-cache-size': 4096 }\n",
    "#option.add_experimental_option('prefs', prefs)"
   ]
  },
  {
   "cell_type": "code",
   "execution_count": 3,
   "metadata": {},
   "outputs": [
    {
     "name": "stderr",
     "output_type": "stream",
     "text": [
      "C:\\Users\\HP\\AppData\\Local\\Temp\\ipykernel_9632\\2160365811.py:6: DeprecationWarning: executable_path has been deprecated, please pass in a Service object\n",
      "  browser = webdriver.Chrome(\n"
     ]
    }
   ],
   "source": [
    "# # Pour Mac\n",
    "# browser = webdriver.Chrome(\n",
    "#    executable_path=\"/Users/thomasbouiniere/Desktop/Scrapping/chromedriver\", options=option)\n",
    "\n",
    "#Pour windows\n",
    "browser = webdriver.Chrome(\n",
    "    executable_path=r\"C:/Users/HP/OneDrive/Bureau/scrap/chromedriver.exe\", options=option)"
   ]
  },
  {
   "cell_type": "code",
   "execution_count": 4,
   "metadata": {},
   "outputs": [],
   "source": [
    "# ---------------------------------------------------------------\n",
    "# Betclic\n",
    "# ---------------------------------------------------------------\n",
    "compets_betclic = {'ldc': 'https://www.betclic.fr/football-s1/ligue-des-champions-c8',\n",
    "                   'pl': 'https://www.betclic.fr/football-s1/angl-premier-league-c3',\n",
    "                   'l1': 'https://www.betclic.fr/football-s1/ligue-1-uber-eats-c4',\n",
    "                   'liga': 'https://www.betclic.fr/football-s1/espagne-liga-primera-c7'}\n",
    "\n",
    "res_betclic = {'ldc': {'cotes': [], 'noms': [], 'dates': []},\n",
    "               'pl': {'cotes': [], 'noms': [], 'dates': []},\n",
    "               'l1': {'cotes': [], 'noms': [], 'dates': []},\n",
    "               'liga': {'cotes': [], 'noms': [], 'dates': []}}"
   ]
  },
  {
   "cell_type": "code",
   "execution_count": 5,
   "metadata": {},
   "outputs": [
    {
     "name": "stderr",
     "output_type": "stream",
     "text": [
      "C:\\Users\\HP\\AppData\\Local\\Temp\\ipykernel_9632\\1071817512.py:10: DeprecationWarning: find_elements_by_xpath is deprecated. Please use find_elements(by=By.XPATH, value=xpath) instead\n",
      "  cotes_temp = browser.find_elements_by_xpath(\n",
      "C:\\Users\\HP\\AppData\\Local\\Temp\\ipykernel_9632\\1071817512.py:16: DeprecationWarning: find_elements_by_xpath is deprecated. Please use find_elements(by=By.XPATH, value=xpath) instead\n",
      "  nom_temp = browser.find_elements_by_xpath(\n",
      "C:\\Users\\HP\\AppData\\Local\\Temp\\ipykernel_9632\\1071817512.py:21: DeprecationWarning: find_elements_by_xpath is deprecated. Please use find_elements(by=By.XPATH, value=xpath) instead\n",
      "  date_temp = browser.find_elements_by_xpath(\n",
      "C:\\Users\\HP\\AppData\\Local\\Temp\\ipykernel_9632\\1071817512.py:6: DeprecationWarning: find_element_by_xpath is deprecated. Please use find_element(by=By.XPATH, value=xpath) instead\n",
      "  button = browser.find_element_by_xpath(\n"
     ]
    }
   ],
   "source": [
    "for i, compet in enumerate(compets_betclic):\n",
    "    browser.get(compets_betclic[compet])\n",
    "    time.sleep(10)\n",
    "    if i ==1:\n",
    "        time.sleep(10)\n",
    "        button = browser.find_element_by_xpath(\n",
    "            '//*[@id=\"popin_tc_privacy_button_2\"]')\n",
    "        button.click()\n",
    "\n",
    "    cotes_temp = browser.find_elements_by_xpath(\n",
    "        '/html/body/app-desktop/div[1]/div/bcdk-content-scroller/div/sports-competition/div/sports-events-list/bcdk-vertical-scroller/div/div[2]/div/div/div/div[2]/div/sports-events-event/a/sports-events-event-markets/sports-markets-default[1]/div/sports-selections-selection/div[1]/span[2]')\n",
    "    for x in cotes_temp:\n",
    "        res_betclic[compet]['cotes'].append(x.text)\n",
    "\n",
    "\n",
    "    nom_temp = browser.find_elements_by_xpath(\n",
    "        '/html/body/app-desktop/div[1]/div/bcdk-content-scroller/div/sports-competition/div/sports-events-list/bcdk-vertical-scroller/div/div[2]/div/div/div/div[2]/div/sports-events-event/a/div/scoreboards-scoreboard/scoreboards-scoreboard-global/div/div/div')\n",
    "    for x in nom_temp:\n",
    "        res_betclic[compet]['noms'].append(x.text)\n",
    "\n",
    "    date_temp = browser.find_elements_by_xpath(\n",
    "        '/html/body/app-desktop/div[1]/div/bcdk-content-scroller/div/sports-competition/div/sports-events-list/bcdk-vertical-scroller/div/div[2]/div/div/div/div[2]/div/sports-events-event/a/div/sports-events-event-info/div')\n",
    "    for x in date_temp:\n",
    "        res_betclic[compet]['dates'].append(x.text)"
   ]
  },
  {
   "cell_type": "code",
   "execution_count": 6,
   "metadata": {},
   "outputs": [
    {
     "name": "stdout",
     "output_type": "stream",
     "text": [
      "[['Manchester City', 'Atletico Madrid'], ['Benfica', 'Liverpool'], ['Villarreal', 'Bayern Munich'], ['Chelsea', 'Real Madrid']]\n"
     ]
    }
   ],
   "source": [
    "for compet in res_betclic:\n",
    "    res_betclic[compet]['cotes']= [[res_betclic[compet]['cotes'][i],res_betclic[compet]['cotes'][i+1],res_betclic[compet]['cotes'][i+2]] for i in range(len(res_betclic[compet]['cotes'])-2) if i%3==0]\n",
    "    res_betclic[compet]['noms']=[[res_betclic[compet]['noms'][i],res_betclic[compet]['noms'][i+1]] for i in range(len(res_betclic[compet]['noms'])-1) if i%2 ==0]\n",
    "print(res_betclic['ldc']['noms'])\n",
    "\n"
   ]
  },
  {
   "cell_type": "code",
   "execution_count": 7,
   "metadata": {},
   "outputs": [
    {
     "name": "stdout",
     "output_type": "stream",
     "text": [
      "{'ldc': {'cotes': [['1,36', '4,40', '6,75'], ['7,70', '4,30', '1,34'], ['4,95', '4,00', '1,53'], ['2,03', '3,25', '3,25']], 'noms': [['Manchester City', 'Atletico Madrid'], ['Benfica', 'Liverpool'], ['Villarreal', 'Bayern Munich'], ['Chelsea', 'Real Madrid']], 'dates': ['05/04/2022 21:00', '05/04/2022 21:00', '06/04/2022 21:00', '06/04/2022 21:00']}, 'pl': {'cotes': [['1,11', '8,50', '17'], ['11,50', '6,00', '1,20'], ['2,30', '3,45', '2,75'], ['1,33', '4,65', '8,15'], ['2,78', '3,00', '2,52'], ['1,56', '3,70', '5,70'], ['1,50', '4,25', '5,25'], ['1,73', '3,60', '4,25'], ['1,48', '4,15', '5,85'], ['3,80', '3,25', '1,93'], ['2,55', '3,10', '2,65'], ['2,38', '3,00', '2,82'], ['4,00', '3,55', '1,72'], ['2,65', '3,15', '2,40'], ['4,60', '3,65', '1,62'], ['1,56', '3,65', '5,15'], ['2,85', '3,15', '2,25'], ['2,65', '3,05', '2,48'], ['2,07', '3,25', '3,15'], ['3,05', '3,20', '2,13']], 'noms': [['Liverpool', 'Watford'], ['Burnley', 'Manchester City'], ['Leeds', 'Southampton'], ['Chelsea', 'Brentford'], ['Wolverhampton', 'Aston Villa'], ['Brighton', 'Norwich City'], ['Manchester Utd', 'Leicester'], ['West Ham', 'Everton'], ['Tottenham', 'Newcastle'], ['Crystal Palace', 'Arsenal'], ['Burnley', 'Everton'], ['Newcastle', 'Wolverhampton'], ['Everton', 'Manchester Utd'], ['Watford', 'Leeds'], ['Southampton', 'Chelsea'], ['Arsenal', 'Brighton'], ['Aston Villa', 'Tottenham'], ['Norwich City', 'Burnley'], ['Leicester', 'Crystal Palace'], ['Brentford', 'West Ham']], 'dates': ['02/04/2022 13:30', '02/04/2022 16:00', '02/04/2022 16:00', '02/04/2022 16:00', '02/04/2022 16:00', '02/04/2022 16:00', '02/04/2022 18:30', '03/04/2022 15:00', '03/04/2022 17:30', '04/04/2022 21:00', '06/04/2022 20:30', '08/04/2022 21:00', '09/04/2022 13:30', '09/04/2022 16:00', '09/04/2022 16:00', '09/04/2022 16:00', '09/04/2022 18:30', '10/04/2022 15:00', '10/04/2022 15:00', '10/04/2022 15:00']}, 'l1': {'cotes': [['3,00', '3,20', '2,28'], ['1,49', '4,10', '5,80'], ['3,45', '3,25', '2,03'], ['2,12', '3,20', '3,30'], ['2,55', '3,00', '2,75'], ['2,10', '3,30', '3,25'], ['5,45', '3,85', '1,55'], ['2,50', '2,90', '2,88'], ['1,40', '4,45', '6,60'], ['1,16', '6,75', '12,50'], ['2,25', '3,10', '2,95'], ['3,80', '3,25', '1,85'], ['6,20', '4,65', '1,36'], ['1,80', '3,35', '3,90'], ['2,32', '3,15', '2,78'], ['1,28', '4,75', '8,55'], ['3,10', '3,05', '2,17'], ['2,13', '3,25', '3,00'], ['2,58', '3,30', '2,40'], ['1,45', '4,10', '5,65']], 'noms': [['Nice', 'Rennes'], ['Lille', 'Bordeaux'], ['Saint-Etienne', 'Marseille'], ['Strasbourg', 'Lens'], ['Clermont', 'Nantes'], ['Montpellier', 'Brest'], ['Metz', 'Monaco'], ['Troyes', 'Reims'], ['Lyon', 'Angers'], ['Paris SG', 'Lorient'], ['Lorient', 'Saint-Etienne'], ['Reims', 'Rennes'], ['Clermont', 'Paris SG'], ['Bordeaux', 'Metz'], ['Brest', 'Nantes'], ['Monaco', 'Troyes'], ['Angers', 'Lille'], ['Lens', 'Nice'], ['Strasbourg', 'Lyon'], ['Marseille', 'Montpellier']], 'dates': ['02/04/2022 17:00', '02/04/2022 19:00', '02/04/2022 21:00', '03/04/2022 13:00', '03/04/2022 15:00', '03/04/2022 15:00', '03/04/2022 15:00', '03/04/2022 15:00', '03/04/2022 17:05', '03/04/2022 20:45', '08/04/2022 21:00', '09/04/2022 17:00', '09/04/2022 21:00', '10/04/2022 13:00', '10/04/2022 15:00', '10/04/2022 15:00', '10/04/2022 15:00', '10/04/2022 17:05', '10/04/2022 19:00', '10/04/2022 21:00']}, 'liga': {'cotes': [['2,08', '2,90', '3,75'], ['3,45', '3,45', '1,96'], ['3,80', '3,50', '1,85'], ['1,34', '4,50', '8,10'], ['1,47', '4,00', '6,25'], ['1,80', '3,50', '4,10'], ['1,85', '3,30', '4,15'], ['2,72', '3,00', '2,55'], ['1,49', '4,00', '5,90'], ['1,67', '3,60', '4,65'], ['1,38', '4,10', '7,20'], ['3,20', '3,15', '2,07'], ['4,15', '3,25', '1,77'], ['2,03', '3,25', '3,25'], ['1,36', '4,30', '7,20'], ['1,76', '3,25', '4,25'], ['2,50', '3,05', '2,62'], ['2,85', '3,05', '2,30'], ['5,20', '4,25', '1,46'], ['2,13', '3,10', '3,15']], 'noms': [['Getafe', 'Majorque'], ['Levante', 'Villarreal'], ['Celta Vigo', 'Real Madrid'], ['Atletico Madrid', 'Alaves'], ['Athletic Bilbao', 'Elche'], ['Betis', 'Osasuna'], ['Valence', 'Cadix'], ['Grenade', 'Rayo Vallecano'], ['Barcelone', 'Séville'], ['Real Sociedad', 'Espanyol'], ['Séville', 'Grenade'], ['Cadix', 'Betis'], ['Majorque', 'Atletico Madrid'], ['Villarreal', 'Athletic Bilbao'], ['Real Madrid', 'Getafe'], ['Osasuna', 'Alavés'], ['Espanyol', 'Celta Vigo'], ['Elche', 'Real Sociedad'], ['Levante', 'Barcelone'], ['Rayo Vallecano', 'Valence']], 'dates': ['02/04/2022 14:00', '02/04/2022 16:15', '02/04/2022 18:30', '02/04/2022 21:00', '03/04/2022 14:00', '03/04/2022 16:15', '03/04/2022 18:30', '03/04/2022 18:30', '03/04/2022 21:00', '04/04/2022 21:00', '08/04/2022 21:00', '09/04/2022 14:00', '09/04/2022 16:15', '09/04/2022 18:30', '09/04/2022 21:00', '10/04/2022 14:00', '10/04/2022 16:15', '10/04/2022 18:30', '10/04/2022 21:00', '11/04/2022 21:00']}}\n"
     ]
    }
   ],
   "source": [
    "print(res_betclic)\n"
   ]
  },
  {
   "cell_type": "code",
   "execution_count": 8,
   "metadata": {},
   "outputs": [],
   "source": [
    "# ---------------------------------------------------------------\n",
    "# Winamax\n",
    "# ---------------------------------------------------------------\n",
    "\n",
    "compets_winamax = {'ldc': 'https://www.winamax.fr/paris-sportifs/sports/1/800000542/23',\n",
    "                   'pl': 'https://www.winamax.fr/paris-sportifs/sports/1/1/1',\n",
    "                   'l1': 'https://www.winamax.fr/paris-sportifs/sports/1/7/4',\n",
    "                   'liga': 'https://www.winamax.fr/paris-sportifs/sports/1/32/36'}\n",
    "\n",
    "res_winamax = {'ldc': {'cotes': [], 'noms': [], 'dates': []},\n",
    "               'pl': {'cotes': [], 'noms': [], 'dates': []},\n",
    "               'l1': {'cotes': [], 'noms': [], 'dates': []},\n",
    "               'liga': {'cotes': [], 'noms': [], 'dates': []}}"
   ]
  },
  {
   "cell_type": "code",
   "execution_count": 9,
   "metadata": {},
   "outputs": [
    {
     "name": "stderr",
     "output_type": "stream",
     "text": [
      "C:\\Users\\HP\\AppData\\Local\\Temp\\ipykernel_9632\\4109540383.py:7: DeprecationWarning: find_elements_by_xpath is deprecated. Please use find_elements(by=By.XPATH, value=xpath) instead\n",
      "  cotes_liga_temp = browser.find_elements_by_xpath(\n",
      "C:\\Users\\HP\\AppData\\Local\\Temp\\ipykernel_9632\\4109540383.py:26: DeprecationWarning: find_elements_by_xpath is deprecated. Please use find_elements(by=By.XPATH, value=xpath) instead\n",
      "  noms_temp = browser.find_elements_by_xpath(\n",
      "C:\\Users\\HP\\AppData\\Local\\Temp\\ipykernel_9632\\4109540383.py:33: DeprecationWarning: find_elements_by_xpath is deprecated. Please use find_elements(by=By.XPATH, value=xpath) instead\n",
      "  dates_temp = browser.find_elements_by_xpath(\n"
     ]
    }
   ],
   "source": [
    "for i, compet in enumerate(compets_winamax):\n",
    "    browser.get(compets_winamax[compet])\n",
    "    time.sleep(1)\n",
    "\n",
    "    '''On récupère les cotes'''\n",
    "\n",
    "    cotes_liga_temp = browser.find_elements_by_xpath(\n",
    "        '//*[@id=\"app\"]/div[1]/div[1]/div/div[2]/div/section/div[3]/div[1]/div/div/div/div/div[1]/a')\n",
    "    cotes_liga = []\n",
    "    try:\n",
    "        for lien in cotes_liga_temp:\n",
    "            for i in range(0, 3):\n",
    "                x = lien.get_property('lastChild')\n",
    "                x = x.get_property('lastChild')\n",
    "                x = x.get_property('lastChild')\n",
    "                x = x.get_property('children')[0]\n",
    "                x = x.get_property('children')[i]\n",
    "                x = x.get_property('children')[1]\n",
    "                x = x.get_property('children')[0]\n",
    "                x = x.get_property('children')[1]\n",
    "                res_winamax[compet]['cotes'].append(x.text)\n",
    "    except:\n",
    "        None\n",
    "\n",
    "    '''On récupère les noms d'équipes'''\n",
    "    noms_temp = browser.find_elements_by_xpath(\n",
    "        '//*[@id=\"app\"]/div/div[1]/div/div[2]/div/section/div[3]/div[1]/div/div/div/div/div[1]/a/div[2]/div[1]/div[1]/div[1]/div/span')\n",
    "    for x in noms_temp:\n",
    "        res_winamax[compet]['noms'].append(x.text)\n",
    "\n",
    "    '''On récupère les dates des matchs'''\n",
    "\n",
    "    dates_temp = browser.find_elements_by_xpath(\n",
    "        '//*[@id=\"app\"]/div/div[1]/div/div[2]/div/section/div[3]/div[1]/div/div/div/div/div[1]/a/div[1]/div[2]/div')\n",
    "    dates_temp = dates_temp[:-1]\n",
    "\n",
    "    for x in dates_temp:\n",
    "        res_winamax[compet]['dates'].append(x.text)"
   ]
  },
  {
   "cell_type": "code",
   "execution_count": 10,
   "metadata": {},
   "outputs": [
    {
     "name": "stdout",
     "output_type": "stream",
     "text": [
      "{'ldc': {'cotes': [['1,40', '4,75', '8,50'], ['8,50', '4,80', '1,37'], ['2,05', '3,40', '3,75'], ['5,75', '4,25', '1,55']], 'noms': [['Manchester City', 'Atletico Madrid'], ['Benfica', 'Liverpool'], ['Chelsea', 'Real Madrid'], ['Villarreal', 'Bayern Munich']], 'dates': ['5 AVR. 2022 À 21:00', '5 AVR. 2022 À 21:00', '6 AVR. 2022 À 21:00', '6 AVR. 2022 À 21:00']}, 'pl': {'cotes': [['1,11', '9,50', '21'], ['12,50', '6,50', '1,21'], ['1,33', '5,00', '10'], ['2,85', '3,10', '2,60'], ['1,58', '3,85', '6,00'], ['2,35', '3,55', '2,85'], ['1,54', '4,40', '5,50'], ['1,78', '3,75', '4,40'], ['1,50', '4,30', '6,00'], ['3,95', '3,35', '1,98'], ['2,55', '3,15', '2,70'], ['2,45', '3,05', '2,90'], ['4,20', '3,70', '1,76'], ['1,58', '3,80', '5,40'], ['4,80', '3,80', '1,66'], ['2,75', '3,25', '2,45'], ['2,95', '3,25', '2,30'], ['3,15', '3,30', '2,20'], ['2,10', '3,35', '3,25'], ['2,70', '3,15', '2,55'], ['2,05', '3,50', '3,20']], 'noms': [['Liverpool', 'Watford'], ['Burnley', 'Manchester City'], ['Chelsea', 'Brentford'], ['Wolverhampton', 'Aston Villa'], ['Brighton', 'Norwich'], ['Leeds', 'Southampton'], ['Manchester United', 'Leicester'], ['West Ham', 'Everton'], ['Tottenham', 'Newcastle'], ['Crystal Palace', 'Arsenal'], ['Burnley', 'Everton'], ['Newcastle', 'Wolverhampton'], ['Everton', 'Manchester United'], ['Arsenal', 'Brighton'], ['Southampton', 'Chelsea'], ['Watford', 'Leeds'], ['Aston Villa', 'Tottenham'], ['Brentford', 'West Ham'], ['Leicester', 'Crystal Palace'], ['Norwich', 'Burnley'], ['Manchester City', 'Liverpool']], 'dates': ['2 AVR. 2022 À 13:30', '2 AVR. 2022 À 16:00', '2 AVR. 2022 À 16:00', '2 AVR. 2022 À 16:00', '2 AVR. 2022 À 16:00', '2 AVR. 2022 À 16:00', '2 AVR. 2022 À 18:30', '3 AVR. 2022 À 15:00', '3 AVR. 2022 À 17:30', '4 AVR. 2022 À 21:00', '6 AVR. 2022 À 20:30', '8 AVR. 2022 À 21:00', '9 AVR. 2022 À 13:30', '9 AVR. 2022 À 16:00', '9 AVR. 2022 À 16:00', '9 AVR. 2022 À 16:00', '9 AVR. 2022 À 18:30', '10 AVR. 2022 À 15:00', '10 AVR. 2022 À 15:00', '10 AVR. 2022 À 15:00', '10 AVR. 2022 À 17:30']}, 'l1': {'cotes': [], 'noms': [['Nice', 'Rennes'], ['Lille', 'Bordeaux'], ['Saint-Étienne', 'Marseille'], ['Strasbourg', 'Lens'], ['Metz', 'Monaco'], ['Montpellier', 'Brest'], ['Clermont', 'Nantes'], ['Troyes', 'Reims'], ['Lyon', 'Angers'], ['Paris SG', 'Lorient'], ['Lorient', 'Saint-Étienne'], ['Reims', 'Rennes'], ['Clermont', 'Paris SG'], ['Bordeaux', 'Metz'], ['Monaco', 'Troyes'], ['Angers', 'Lille'], ['Brest', 'Nantes'], ['Lens', 'Nice'], ['Strasbourg', 'Lyon'], ['Marseille', 'Montpellier']], 'dates': ['2 AVR. 2022 À 17:00', '2 AVR. 2022 À 19:00', '2 AVR. 2022 À 21:00', '3 AVR. 2022 À 13:00', '3 AVR. 2022 À 15:00', '3 AVR. 2022 À 15:00', '3 AVR. 2022 À 15:00', '3 AVR. 2022 À 15:00', '3 AVR. 2022 À 17:05', '3 AVR. 2022 À 20:45', '8 AVR. 2022 À 21:00', '9 AVR. 2022 À 17:00', '9 AVR. 2022 À 21:00', '10 AVR. 2022 À 13:00', '10 AVR. 2022 À 15:00', '10 AVR. 2022 À 15:00', '10 AVR. 2022 À 15:00', '10 AVR. 2022 À 17:05', '10 AVR. 2022 À 19:00', '10 AVR. 2022 À 21:00']}, 'liga': {'cotes': [['2,15', '3,00', '3,90'], ['3,55', '3,60', '2,00'], ['3,95', '3,65', '1,90'], ['1,34', '4,80', '10'], ['1,50', '4,20', '6,50'], ['1,84', '3,65', '4,20'], ['1,88', '3,40', '4,30'], ['2,80', '3,10', '2,65'], ['1,52', '4,20', '6,25'], ['1,70', '3,75', '4,90'], ['1,40', '4,30', '7,50'], ['3,30', '3,30', '2,10'], ['4,30', '3,40', '1,82'], ['2,05', '3,35', '3,35'], ['1,38', '4,50', '7,50'], ['1,80', '3,40', '4,40'], ['2,55', '3,15', '2,70'], ['2,95', '3,15', '2,35'], ['5,50', '4,40', '1,49'], ['2,15', '3,20', '3,30']], 'noms': [['Getafe', 'Majorque'], ['Levante', 'Villarreal'], ['Celta Vigo', 'Real Madrid'], ['Atletico Madrid', 'Alaves'], ['Athletic Bilbao', 'Elche'], ['Betis Séville', 'Osasuna'], ['Valence', 'CF Cadiz'], ['Grenade', 'Rayo Vallecano'], ['FC Barcelone', 'FC Séville'], ['Real Sociedad', 'Espanyol Barcelone'], ['FC Séville', 'Grenade'], ['CF Cadiz', 'Betis Séville'], ['Majorque', 'Atletico Madrid'], ['Villarreal', 'Athletic Bilbao'], ['Real Madrid', 'Getafe'], ['Osasuna', 'Alaves'], ['Espanyol Barcelone', 'Celta Vigo'], ['Elche', 'Real Sociedad'], ['Levante', 'FC Barcelone'], ['Rayo Vallecano', 'Valence']], 'dates': ['2 AVR. 2022 À 14:00', '2 AVR. 2022 À 16:15', '2 AVR. 2022 À 18:30', '2 AVR. 2022 À 21:00', '3 AVR. 2022 À 14:00', '3 AVR. 2022 À 16:15', '3 AVR. 2022 À 18:30', '3 AVR. 2022 À 18:30', '3 AVR. 2022 À 21:00', '4 AVR. 2022 À 21:00', '8 AVR. 2022 À 21:00', '9 AVR. 2022 À 14:00', '9 AVR. 2022 À 16:15', '9 AVR. 2022 À 18:30', '9 AVR. 2022 À 21:00', '10 AVR. 2022 À 14:00', '10 AVR. 2022 À 16:15', '10 AVR. 2022 À 18:30', '10 AVR. 2022 À 21:00', '11 AVR. 2022 À 21:00']}}\n"
     ]
    }
   ],
   "source": [
    "for compet in res_winamax: \n",
    "    while ' - ' in res_winamax[compet]['noms']:\n",
    "        res_winamax[compet]['noms'].remove(' - ')\n",
    "        \n",
    "\n",
    "for compet in res_betclic:\n",
    "    res_winamax[compet]['cotes']= [[res_winamax[compet]['cotes'][i],res_winamax[compet]['cotes'][i+1],res_winamax[compet]['cotes'][i+2]] for i in range(len(res_winamax[compet]['cotes'])-2) if i%3==0]\n",
    "    res_winamax[compet]['noms']=[[res_winamax[compet]['noms'][i],res_winamax[compet]['noms'][i+1]] for i in range(len(res_winamax[compet]['noms'])-1) if i%2 ==0]\n",
    "\n",
    "print(res_winamax)"
   ]
  },
  {
   "cell_type": "code",
   "execution_count": 11,
   "metadata": {},
   "outputs": [],
   "source": [
    "# ---------------------------------------------------------------\n",
    "# unibet\n",
    "# ---------------------------------------------------------------\n",
    "\n",
    "compets_unibet = {'ldc': 'https://www.unibet.fr/sport/football/ligue-des-champions/ligue-des-champions-matchs',\n",
    "                  'pl': 'https://www.unibet.fr/sport/football/premier-league/matchs',\n",
    "                  'l1': 'https://www.unibet.fr/sport/football/ligue-1-ubereats/ligue-1-matchs',\n",
    "                  'liga': 'https://www.unibet.fr/sport/football/liga/matchs'}\n",
    "\n",
    "res_unibet = {'ldc': {'cotes': [], 'noms': [], 'dates': []},\n",
    "              'pl': {'cotes': [], 'noms': [], 'dates': []},\n",
    "              'l1': {'cotes': [], 'noms': [], 'dates': []},\n",
    "              'liga': {'cotes': [], 'noms': [], 'dates': []}}"
   ]
  },
  {
   "cell_type": "code",
   "execution_count": 12,
   "metadata": {},
   "outputs": [
    {
     "name": "stderr",
     "output_type": "stream",
     "text": [
      "C:\\Users\\HP\\AppData\\Local\\Temp\\ipykernel_9632\\857201331.py:5: DeprecationWarning: find_elements_by_xpath is deprecated. Please use find_elements(by=By.XPATH, value=xpath) instead\n",
      "  cotes_temp = browser.find_elements_by_xpath(\n",
      "C:\\Users\\HP\\AppData\\Local\\Temp\\ipykernel_9632\\857201331.py:20: DeprecationWarning: find_elements_by_xpath is deprecated. Please use find_elements(by=By.XPATH, value=xpath) instead\n",
      "  noms_temp = browser.find_elements_by_xpath(\n"
     ]
    }
   ],
   "source": [
    "for i, compet in enumerate(compets_unibet):\n",
    "    browser.get(compets_unibet[compet])\n",
    "    time.sleep(2)\n",
    "    '''On cherche les côtes '''\n",
    "    cotes_temp = browser.find_elements_by_xpath(\n",
    "        '//*[@id=\"page__competitionview\"]/div[1]/div/div[2]/div/div/div[2]/div[2]/div/div/div/div[2]')\n",
    "    for match in cotes_temp:\n",
    "        for i in range(0, 3):\n",
    "            x = match.get_property('children')[0]\n",
    "            x = x.get_property('children')[0]\n",
    "            x = x.get_property('children')[0]\n",
    "            x = x.get_property('children')[0]\n",
    "            x = x.get_property('children')[i]\n",
    "            x = x.get_property('children')[0]\n",
    "            x = x.get_property('children')[2]\n",
    "            res_unibet[compet]['cotes'].append(x.text)\n",
    "\n",
    "    '''On cherche les noms d'équipes'''\n",
    "\n",
    "    noms_temp = browser.find_elements_by_xpath(\n",
    "        '//*[@id=\"page__competitionview\"]/div[1]/div/div[2]/div/div/div[2]/div[2]/div/div/div/div/div/div[2]/div[1]/div/span')\n",
    "    for x in noms_temp:\n",
    "        res_unibet[compet]['noms'].append(x.text.split('-'))"
   ]
  },
  {
   "cell_type": "code",
   "execution_count": 65,
   "metadata": {},
   "outputs": [
    {
     "name": "stderr",
     "output_type": "stream",
     "text": [
      "C:\\Users\\HP\\AppData\\Local\\Temp\\ipykernel_12828\\3488377589.py:9: DeprecationWarning: executable_path has been deprecated, please pass in a Service object\n",
      "  browser = webdriver.Chrome(\n",
      "C:\\Users\\HP\\AppData\\Local\\Temp\\ipykernel_12828\\3488377589.py:13: DeprecationWarning: find_elements_by_xpath is deprecated. Please use find_elements(by=By.XPATH, value=xpath) instead\n",
      "  liste = browser.find_elements_by_xpath(\n",
      "C:\\Users\\HP\\AppData\\Local\\Temp\\ipykernel_12828\\3488377589.py:32: DeprecationWarning: find_element_by_xpath is deprecated. Please use find_element(by=By.XPATH, value=xpath) instead\n",
      "  tick = browser.find_element_by_xpath('/html/body/div[4]/form/div[3]/div[1]/div[1]/div/div[3]/ol/li['+str(i+1)+']/div/div[3]/a')\n"
     ]
    },
    {
     "name": "stdout",
     "output_type": "stream",
     "text": [
      "0\n",
      "1\n"
     ]
    },
    {
     "ename": "StaleElementReferenceException",
     "evalue": "Message: stale element reference: element is not attached to the page document\n  (Session info: chrome=99.0.4844.82)\nStacktrace:\nBacktrace:\n\tOrdinal0 [0x00579943+2595139]\n\tOrdinal0 [0x0050C9F1+2148849]\n\tOrdinal0 [0x00404528+1066280]\n\tOrdinal0 [0x00406E04+1076740]\n\tOrdinal0 [0x00406CBE+1076414]\n\tOrdinal0 [0x0040763A+1078842]\n\tOrdinal0 [0x0045C529+1426729]\n\tOrdinal0 [0x0044B9EC+1358316]\n\tOrdinal0 [0x0045BAF2+1424114]\n\tOrdinal0 [0x0044B806+1357830]\n\tOrdinal0 [0x00426086+1204358]\n\tOrdinal0 [0x00426F96+1208214]\n\tGetHandleVerifier [0x0071B232+1658114]\n\tGetHandleVerifier [0x007D312C+2411516]\n\tGetHandleVerifier [0x0060F261+560433]\n\tGetHandleVerifier [0x0060E366+556598]\n\tOrdinal0 [0x0051286B+2173035]\n\tOrdinal0 [0x005175F8+2192888]\n\tOrdinal0 [0x005176E5+2193125]\n\tOrdinal0 [0x005211FC+2232828]\n\tBaseThreadInitThunk [0x7612FA29+25]\n\tRtlGetAppContainerNamedObjectPath [0x77427A7E+286]\n\tRtlGetAppContainerNamedObjectPath [0x77427A4E+238]\n",
     "output_type": "error",
     "traceback": [
      "\u001b[1;31m---------------------------------------------------------------------------\u001b[0m",
      "\u001b[1;31mStaleElementReferenceException\u001b[0m            Traceback (most recent call last)",
      "File \u001b[1;32m~\\AppData\\Local\\Programs\\Python\\Python310\\lib\\site-packages\\selenium\\webdriver\\remote\\webelement.py:108\u001b[0m, in \u001b[0;36mWebElement.get_property\u001b[1;34m(self, name)\u001b[0m\n\u001b[0;32m    <a href='file:///c%3A/Users/HP/AppData/Local/Programs/Python/Python310/lib/site-packages/selenium/webdriver/remote/webelement.py?line=106'>107</a>\u001b[0m \u001b[39mtry\u001b[39;00m:\n\u001b[1;32m--> <a href='file:///c%3A/Users/HP/AppData/Local/Programs/Python/Python310/lib/site-packages/selenium/webdriver/remote/webelement.py?line=107'>108</a>\u001b[0m     \u001b[39mreturn\u001b[39;00m \u001b[39mself\u001b[39;49m\u001b[39m.\u001b[39;49m_execute(Command\u001b[39m.\u001b[39;49mGET_ELEMENT_PROPERTY, {\u001b[39m\"\u001b[39;49m\u001b[39mname\u001b[39;49m\u001b[39m\"\u001b[39;49m: name})[\u001b[39m\"\u001b[39m\u001b[39mvalue\u001b[39m\u001b[39m\"\u001b[39m]\n\u001b[0;32m    <a href='file:///c%3A/Users/HP/AppData/Local/Programs/Python/Python310/lib/site-packages/selenium/webdriver/remote/webelement.py?line=108'>109</a>\u001b[0m \u001b[39mexcept\u001b[39;00m WebDriverException:\n\u001b[0;32m    <a href='file:///c%3A/Users/HP/AppData/Local/Programs/Python/Python310/lib/site-packages/selenium/webdriver/remote/webelement.py?line=109'>110</a>\u001b[0m     \u001b[39m# if we hit an end point that doesn't understand getElementProperty lets fake it\u001b[39;00m\n",
      "File \u001b[1;32m~\\AppData\\Local\\Programs\\Python\\Python310\\lib\\site-packages\\selenium\\webdriver\\remote\\webelement.py:710\u001b[0m, in \u001b[0;36mWebElement._execute\u001b[1;34m(self, command, params)\u001b[0m\n\u001b[0;32m    <a href='file:///c%3A/Users/HP/AppData/Local/Programs/Python/Python310/lib/site-packages/selenium/webdriver/remote/webelement.py?line=708'>709</a>\u001b[0m params[\u001b[39m'\u001b[39m\u001b[39mid\u001b[39m\u001b[39m'\u001b[39m] \u001b[39m=\u001b[39m \u001b[39mself\u001b[39m\u001b[39m.\u001b[39m_id\n\u001b[1;32m--> <a href='file:///c%3A/Users/HP/AppData/Local/Programs/Python/Python310/lib/site-packages/selenium/webdriver/remote/webelement.py?line=709'>710</a>\u001b[0m \u001b[39mreturn\u001b[39;00m \u001b[39mself\u001b[39;49m\u001b[39m.\u001b[39;49m_parent\u001b[39m.\u001b[39;49mexecute(command, params)\n",
      "File \u001b[1;32m~\\AppData\\Local\\Programs\\Python\\Python310\\lib\\site-packages\\selenium\\webdriver\\remote\\webdriver.py:425\u001b[0m, in \u001b[0;36mWebDriver.execute\u001b[1;34m(self, driver_command, params)\u001b[0m\n\u001b[0;32m    <a href='file:///c%3A/Users/HP/AppData/Local/Programs/Python/Python310/lib/site-packages/selenium/webdriver/remote/webdriver.py?line=423'>424</a>\u001b[0m \u001b[39mif\u001b[39;00m response:\n\u001b[1;32m--> <a href='file:///c%3A/Users/HP/AppData/Local/Programs/Python/Python310/lib/site-packages/selenium/webdriver/remote/webdriver.py?line=424'>425</a>\u001b[0m     \u001b[39mself\u001b[39;49m\u001b[39m.\u001b[39;49merror_handler\u001b[39m.\u001b[39;49mcheck_response(response)\n\u001b[0;32m    <a href='file:///c%3A/Users/HP/AppData/Local/Programs/Python/Python310/lib/site-packages/selenium/webdriver/remote/webdriver.py?line=425'>426</a>\u001b[0m     response[\u001b[39m'\u001b[39m\u001b[39mvalue\u001b[39m\u001b[39m'\u001b[39m] \u001b[39m=\u001b[39m \u001b[39mself\u001b[39m\u001b[39m.\u001b[39m_unwrap_value(\n\u001b[0;32m    <a href='file:///c%3A/Users/HP/AppData/Local/Programs/Python/Python310/lib/site-packages/selenium/webdriver/remote/webdriver.py?line=426'>427</a>\u001b[0m         response\u001b[39m.\u001b[39mget(\u001b[39m'\u001b[39m\u001b[39mvalue\u001b[39m\u001b[39m'\u001b[39m, \u001b[39mNone\u001b[39;00m))\n",
      "File \u001b[1;32m~\\AppData\\Local\\Programs\\Python\\Python310\\lib\\site-packages\\selenium\\webdriver\\remote\\errorhandler.py:247\u001b[0m, in \u001b[0;36mErrorHandler.check_response\u001b[1;34m(self, response)\u001b[0m\n\u001b[0;32m    <a href='file:///c%3A/Users/HP/AppData/Local/Programs/Python/Python310/lib/site-packages/selenium/webdriver/remote/errorhandler.py?line=245'>246</a>\u001b[0m     \u001b[39mraise\u001b[39;00m exception_class(message, screen, stacktrace, alert_text)  \u001b[39m# type: ignore[call-arg]  # mypy is not smart enough here\u001b[39;00m\n\u001b[1;32m--> <a href='file:///c%3A/Users/HP/AppData/Local/Programs/Python/Python310/lib/site-packages/selenium/webdriver/remote/errorhandler.py?line=246'>247</a>\u001b[0m \u001b[39mraise\u001b[39;00m exception_class(message, screen, stacktrace)\n",
      "\u001b[1;31mStaleElementReferenceException\u001b[0m: Message: stale element reference: element is not attached to the page document\n  (Session info: chrome=99.0.4844.82)\nStacktrace:\nBacktrace:\n\tOrdinal0 [0x00579943+2595139]\n\tOrdinal0 [0x0050C9F1+2148849]\n\tOrdinal0 [0x00404528+1066280]\n\tOrdinal0 [0x00406E04+1076740]\n\tOrdinal0 [0x00406CBE+1076414]\n\tOrdinal0 [0x00406F50+1077072]\n\tOrdinal0 [0x00429F31+1220401]\n\tOrdinal0 [0x0044B9EC+1358316]\n\tOrdinal0 [0x00427474+1209460]\n\tOrdinal0 [0x0044BC04+1358852]\n\tOrdinal0 [0x0045BAF2+1424114]\n\tOrdinal0 [0x0044B806+1357830]\n\tOrdinal0 [0x00426086+1204358]\n\tOrdinal0 [0x00426F96+1208214]\n\tGetHandleVerifier [0x0071B232+1658114]\n\tGetHandleVerifier [0x007D312C+2411516]\n\tGetHandleVerifier [0x0060F261+560433]\n\tGetHandleVerifier [0x0060E366+556598]\n\tOrdinal0 [0x0051286B+2173035]\n\tOrdinal0 [0x005175F8+2192888]\n\tOrdinal0 [0x005176E5+2193125]\n\tOrdinal0 [0x005211FC+2232828]\n\tBaseThreadInitThunk [0x7612FA29+25]\n\tRtlGetAppContainerNamedObjectPath [0x77427A7E+286]\n\tRtlGetAppContainerNamedObjectPath [0x77427A4E+238]\n",
      "\nDuring handling of the above exception, another exception occurred:\n",
      "\u001b[1;31mStaleElementReferenceException\u001b[0m            Traceback (most recent call last)",
      "\u001b[1;32mc:\\Users\\HP\\OneDrive\\Bureau\\scrap\\final.ipynb Cell 13'\u001b[0m in \u001b[0;36m<module>\u001b[1;34m\u001b[0m\n\u001b[0;32m     <a href='vscode-notebook-cell:/c%3A/Users/HP/OneDrive/Bureau/scrap/final.ipynb#ch0000015?line=16'>17</a>\u001b[0m \u001b[39mprint\u001b[39m(i)\n\u001b[0;32m     <a href='vscode-notebook-cell:/c%3A/Users/HP/OneDrive/Bureau/scrap/final.ipynb#ch0000015?line=17'>18</a>\u001b[0m x\u001b[39m=\u001b[39mliste[i]\n\u001b[1;32m---> <a href='vscode-notebook-cell:/c%3A/Users/HP/OneDrive/Bureau/scrap/final.ipynb#ch0000015?line=18'>19</a>\u001b[0m x\u001b[39m=\u001b[39mx\u001b[39m.\u001b[39;49mget_property(\u001b[39m'\u001b[39;49m\u001b[39mchildren\u001b[39;49m\u001b[39m'\u001b[39;49m)\n\u001b[0;32m     <a href='vscode-notebook-cell:/c%3A/Users/HP/OneDrive/Bureau/scrap/final.ipynb#ch0000015?line=19'>20</a>\u001b[0m x\u001b[39m=\u001b[39mx[\u001b[39m0\u001b[39m]\u001b[39m.\u001b[39mtext\u001b[39m.\u001b[39msplit(\u001b[39m'\u001b[39m\u001b[39m\\n\u001b[39;00m\u001b[39m'\u001b[39m)\n\u001b[0;32m     <a href='vscode-notebook-cell:/c%3A/Users/HP/OneDrive/Bureau/scrap/final.ipynb#ch0000015?line=20'>21</a>\u001b[0m \u001b[39mtry\u001b[39;00m:\n",
      "File \u001b[1;32m~\\AppData\\Local\\Programs\\Python\\Python310\\lib\\site-packages\\selenium\\webdriver\\remote\\webelement.py:111\u001b[0m, in \u001b[0;36mWebElement.get_property\u001b[1;34m(self, name)\u001b[0m\n\u001b[0;32m    <a href='file:///c%3A/Users/HP/AppData/Local/Programs/Python/Python310/lib/site-packages/selenium/webdriver/remote/webelement.py?line=107'>108</a>\u001b[0m     \u001b[39mreturn\u001b[39;00m \u001b[39mself\u001b[39m\u001b[39m.\u001b[39m_execute(Command\u001b[39m.\u001b[39mGET_ELEMENT_PROPERTY, {\u001b[39m\"\u001b[39m\u001b[39mname\u001b[39m\u001b[39m\"\u001b[39m: name})[\u001b[39m\"\u001b[39m\u001b[39mvalue\u001b[39m\u001b[39m\"\u001b[39m]\n\u001b[0;32m    <a href='file:///c%3A/Users/HP/AppData/Local/Programs/Python/Python310/lib/site-packages/selenium/webdriver/remote/webelement.py?line=108'>109</a>\u001b[0m \u001b[39mexcept\u001b[39;00m WebDriverException:\n\u001b[0;32m    <a href='file:///c%3A/Users/HP/AppData/Local/Programs/Python/Python310/lib/site-packages/selenium/webdriver/remote/webelement.py?line=109'>110</a>\u001b[0m     \u001b[39m# if we hit an end point that doesn't understand getElementProperty lets fake it\u001b[39;00m\n\u001b[1;32m--> <a href='file:///c%3A/Users/HP/AppData/Local/Programs/Python/Python310/lib/site-packages/selenium/webdriver/remote/webelement.py?line=110'>111</a>\u001b[0m     \u001b[39mreturn\u001b[39;00m \u001b[39mself\u001b[39;49m\u001b[39m.\u001b[39;49mparent\u001b[39m.\u001b[39;49mexecute_script(\u001b[39m'\u001b[39;49m\u001b[39mreturn arguments[0][arguments[1]]\u001b[39;49m\u001b[39m'\u001b[39;49m, \u001b[39mself\u001b[39;49m, name)\n",
      "File \u001b[1;32m~\\AppData\\Local\\Programs\\Python\\Python310\\lib\\site-packages\\selenium\\webdriver\\remote\\webdriver.py:879\u001b[0m, in \u001b[0;36mWebDriver.execute_script\u001b[1;34m(self, script, *args)\u001b[0m\n\u001b[0;32m    <a href='file:///c%3A/Users/HP/AppData/Local/Programs/Python/Python310/lib/site-packages/selenium/webdriver/remote/webdriver.py?line=875'>876</a>\u001b[0m converted_args \u001b[39m=\u001b[39m \u001b[39mlist\u001b[39m(args)\n\u001b[0;32m    <a href='file:///c%3A/Users/HP/AppData/Local/Programs/Python/Python310/lib/site-packages/selenium/webdriver/remote/webdriver.py?line=876'>877</a>\u001b[0m command \u001b[39m=\u001b[39m Command\u001b[39m.\u001b[39mW3C_EXECUTE_SCRIPT\n\u001b[1;32m--> <a href='file:///c%3A/Users/HP/AppData/Local/Programs/Python/Python310/lib/site-packages/selenium/webdriver/remote/webdriver.py?line=878'>879</a>\u001b[0m \u001b[39mreturn\u001b[39;00m \u001b[39mself\u001b[39;49m\u001b[39m.\u001b[39;49mexecute(command, {\n\u001b[0;32m    <a href='file:///c%3A/Users/HP/AppData/Local/Programs/Python/Python310/lib/site-packages/selenium/webdriver/remote/webdriver.py?line=879'>880</a>\u001b[0m     \u001b[39m'\u001b[39;49m\u001b[39mscript\u001b[39;49m\u001b[39m'\u001b[39;49m: script,\n\u001b[0;32m    <a href='file:///c%3A/Users/HP/AppData/Local/Programs/Python/Python310/lib/site-packages/selenium/webdriver/remote/webdriver.py?line=880'>881</a>\u001b[0m     \u001b[39m'\u001b[39;49m\u001b[39margs\u001b[39;49m\u001b[39m'\u001b[39;49m: converted_args})[\u001b[39m'\u001b[39m\u001b[39mvalue\u001b[39m\u001b[39m'\u001b[39m]\n",
      "File \u001b[1;32m~\\AppData\\Local\\Programs\\Python\\Python310\\lib\\site-packages\\selenium\\webdriver\\remote\\webdriver.py:425\u001b[0m, in \u001b[0;36mWebDriver.execute\u001b[1;34m(self, driver_command, params)\u001b[0m\n\u001b[0;32m    <a href='file:///c%3A/Users/HP/AppData/Local/Programs/Python/Python310/lib/site-packages/selenium/webdriver/remote/webdriver.py?line=422'>423</a>\u001b[0m response \u001b[39m=\u001b[39m \u001b[39mself\u001b[39m\u001b[39m.\u001b[39mcommand_executor\u001b[39m.\u001b[39mexecute(driver_command, params)\n\u001b[0;32m    <a href='file:///c%3A/Users/HP/AppData/Local/Programs/Python/Python310/lib/site-packages/selenium/webdriver/remote/webdriver.py?line=423'>424</a>\u001b[0m \u001b[39mif\u001b[39;00m response:\n\u001b[1;32m--> <a href='file:///c%3A/Users/HP/AppData/Local/Programs/Python/Python310/lib/site-packages/selenium/webdriver/remote/webdriver.py?line=424'>425</a>\u001b[0m     \u001b[39mself\u001b[39;49m\u001b[39m.\u001b[39;49merror_handler\u001b[39m.\u001b[39;49mcheck_response(response)\n\u001b[0;32m    <a href='file:///c%3A/Users/HP/AppData/Local/Programs/Python/Python310/lib/site-packages/selenium/webdriver/remote/webdriver.py?line=425'>426</a>\u001b[0m     response[\u001b[39m'\u001b[39m\u001b[39mvalue\u001b[39m\u001b[39m'\u001b[39m] \u001b[39m=\u001b[39m \u001b[39mself\u001b[39m\u001b[39m.\u001b[39m_unwrap_value(\n\u001b[0;32m    <a href='file:///c%3A/Users/HP/AppData/Local/Programs/Python/Python310/lib/site-packages/selenium/webdriver/remote/webdriver.py?line=426'>427</a>\u001b[0m         response\u001b[39m.\u001b[39mget(\u001b[39m'\u001b[39m\u001b[39mvalue\u001b[39m\u001b[39m'\u001b[39m, \u001b[39mNone\u001b[39;00m))\n\u001b[0;32m    <a href='file:///c%3A/Users/HP/AppData/Local/Programs/Python/Python310/lib/site-packages/selenium/webdriver/remote/webdriver.py?line=427'>428</a>\u001b[0m     \u001b[39mreturn\u001b[39;00m response\n",
      "File \u001b[1;32m~\\AppData\\Local\\Programs\\Python\\Python310\\lib\\site-packages\\selenium\\webdriver\\remote\\errorhandler.py:247\u001b[0m, in \u001b[0;36mErrorHandler.check_response\u001b[1;34m(self, response)\u001b[0m\n\u001b[0;32m    <a href='file:///c%3A/Users/HP/AppData/Local/Programs/Python/Python310/lib/site-packages/selenium/webdriver/remote/errorhandler.py?line=244'>245</a>\u001b[0m         alert_text \u001b[39m=\u001b[39m value[\u001b[39m'\u001b[39m\u001b[39malert\u001b[39m\u001b[39m'\u001b[39m]\u001b[39m.\u001b[39mget(\u001b[39m'\u001b[39m\u001b[39mtext\u001b[39m\u001b[39m'\u001b[39m)\n\u001b[0;32m    <a href='file:///c%3A/Users/HP/AppData/Local/Programs/Python/Python310/lib/site-packages/selenium/webdriver/remote/errorhandler.py?line=245'>246</a>\u001b[0m     \u001b[39mraise\u001b[39;00m exception_class(message, screen, stacktrace, alert_text)  \u001b[39m# type: ignore[call-arg]  # mypy is not smart enough here\u001b[39;00m\n\u001b[1;32m--> <a href='file:///c%3A/Users/HP/AppData/Local/Programs/Python/Python310/lib/site-packages/selenium/webdriver/remote/errorhandler.py?line=246'>247</a>\u001b[0m \u001b[39mraise\u001b[39;00m exception_class(message, screen, stacktrace)\n",
      "\u001b[1;31mStaleElementReferenceException\u001b[0m: Message: stale element reference: element is not attached to the page document\n  (Session info: chrome=99.0.4844.82)\nStacktrace:\nBacktrace:\n\tOrdinal0 [0x00579943+2595139]\n\tOrdinal0 [0x0050C9F1+2148849]\n\tOrdinal0 [0x00404528+1066280]\n\tOrdinal0 [0x00406E04+1076740]\n\tOrdinal0 [0x00406CBE+1076414]\n\tOrdinal0 [0x0040763A+1078842]\n\tOrdinal0 [0x0045C529+1426729]\n\tOrdinal0 [0x0044B9EC+1358316]\n\tOrdinal0 [0x0045BAF2+1424114]\n\tOrdinal0 [0x0044B806+1357830]\n\tOrdinal0 [0x00426086+1204358]\n\tOrdinal0 [0x00426F96+1208214]\n\tGetHandleVerifier [0x0071B232+1658114]\n\tGetHandleVerifier [0x007D312C+2411516]\n\tGetHandleVerifier [0x0060F261+560433]\n\tGetHandleVerifier [0x0060E366+556598]\n\tOrdinal0 [0x0051286B+2173035]\n\tOrdinal0 [0x005175F8+2192888]\n\tOrdinal0 [0x005176E5+2193125]\n\tOrdinal0 [0x005211FC+2232828]\n\tBaseThreadInitThunk [0x7612FA29+25]\n\tRtlGetAppContainerNamedObjectPath [0x77427A7E+286]\n\tRtlGetAppContainerNamedObjectPath [0x77427A4E+238]\n"
     ]
    }
   ],
   "source": [
    "sites={'ldc': \"https://www.livefootballtickets.com/champions-league-tickets.html\" ,\n",
    "        'lp': \"https://www.livefootballtickets.com/english-championship-tickets.html\",\n",
    "        'liga':'https://www.livefootballtickets.com/la-liga-tickets.html',\n",
    "        'l1':'https://www.livefootballtickets.com/ligue-1-tickets.html'}\n",
    "\n",
    "k={'ldc':{},'lp':{},'liga':{},'l1':{}}\n",
    "option = webdriver.ChromeOptions()\n",
    "option.add_argument(\"--incognito\") \n",
    "browser = webdriver.Chrome(\n",
    "    executable_path=r\"C:/Users/HP/OneDrive/Bureau/scrap/chromedriver.exe\", options=option)\n",
    "for compet in sites:\n",
    "    browser.get(sites[compet])\n",
    "    liste = browser.find_elements_by_xpath(\n",
    "        '/html/body/div[4]/form/div[3]/div[1]/div[1]/div/div[3]/ol/li')\n",
    "\n",
    "    for i in range(len(liste)):\n",
    "        print(i)\n",
    "        x=liste[i]\n",
    "        x=x.get_property('children')\n",
    "        x=x[0].text.split('\\n')\n",
    "        try:\n",
    "            k[compet][x[4]]={}\n",
    "            k[compet][x[4]]['date']= x[1]+' '+x[0]+' '+x[2]\n",
    "            k[compet][x[4]]['hour'],k[compet][x[4]]['place']= x[5].split(' - ')[0],x[5].split(' - ')[1]\n",
    "            k[compet][x[4]]['equip1'],k[compet][x[4]]['equip2']= x[4].split(' v ')[0],x[4].split(' v ')[1]\n",
    "        except:\n",
    "            pass\n",
    "        \n",
    "\n",
    "        \n",
    "        try:\n",
    "            tick = browser.find_element_by_xpath('/html/body/div[4]/form/div[3]/div[1]/div[1]/div/div[3]/ol/li['+str(i+1)+']/div/div[3]/a')\n",
    "            browser.get(tick.get_attribute('href'))\n",
    "            #available=browser.find_elements_by_xpath('/html/body/div[4]/form/div[3]/div[1]/div[2]/div[1]/div/h3/span')\n",
    "            #k[compet][x[4]]['Tickets']=available.text         \n",
    "            time.sleep(2)\n",
    "        except:\n",
    "            pass\n",
    "        browser.get(sites[compet])\n",
    "\n",
    "\n",
    "print(k)"
   ]
  },
  {
   "cell_type": "code",
   "execution_count": 13,
   "metadata": {},
   "outputs": [
    {
     "name": "stdout",
     "output_type": "stream",
     "text": [
      "1\n",
      "1\n",
      "{'ldc': {'cotes': [['7.80', '4.35', '1.35'], ['1.37', '4.45', '6.85'], ['2.05', '3.28', '3.25'], ['5.00', '4.05', '1.53']], 'noms': [['Benfica ', 'Liverpool'], ['Manchester City ', 'Atletico Madrid'], ['Chelsea ', 'Real Madrid'], ['Villarreal ', 'Bayern Munich']], 'dates': []}, 'pl': {'cotes': [['1.08', '7.35', '15.20'], ['1.51', '3.58', '5.50'], ['10.80', '5.70', '1.17'], ['1.29', '4.45', '7.85'], ['2.20', '3.35', '2.68'], ['2.72', '2.95', '2.41'], ['1.46', '4.10', '5.10'], ['1.68', '3.48', '4.15'], ['1.43', '4.00', '5.65'], ['3.70', '3.18', '1.86'], ['2.43', '3.05', '2.60'], ['2.31', '2.95', '2.82'], ['4.00', '3.55', '1.68'], ['1.53', '3.65', '5.15'], ['4.60', '3.62', '1.59'], ['2.65', '3.12', '2.35'], ['2.85', '3.15', '2.20'], ['3.02', '3.18', '2.09'], ['2.02', '3.25', '3.12'], ['2.62', '3.05', '2.41'], ['1.98', '3.38', '3.10']], 'noms': [['Liverpool ', 'Watford'], ['Brighton ', 'Norwich City'], ['Burnley ', 'Manchester City'], ['Chelsea ', 'Brentford'], ['Leeds United ', 'Southampton'], ['Wolverhampton ', 'Aston Villa'], ['Manchester United ', 'Leicester'], ['West Ham ', 'Everton'], ['Tottenham ', 'Newcastle'], ['Crystal Palace ', 'Arsenal'], ['Burnley ', 'Everton'], ['Newcastle ', 'Wolverhampton'], ['Everton ', 'Manchester United'], ['Arsenal ', 'Brighton'], ['Southampton ', 'Chelsea'], ['Watford ', 'Leeds United'], ['Aston Villa ', 'Tottenham'], ['Brentford ', 'West Ham'], ['Leicester ', 'Crystal Palace'], ['Norwich City ', 'Burnley'], ['Manchester City ', 'Liverpool']], 'dates': []}, 'l1': {'cotes': [['2.92', '3.12', '2.17'], ['1.44', '3.98', '5.60'], ['3.35', '3.18', '1.96'], ['2.03', '3.12', '3.20'], ['2.43', '2.95', '2.68'], ['5.25', '3.75', '1.50'], ['2.02', '3.20', '3.15'], ['2.40', '2.85', '2.80'], ['1.36', '4.30', '6.35'], ['1.14', '6.30', '11.50'], ['2.18', '3.10', '2.92'], ['3.80', '3.25', '1.81'], ['6.15', '4.65', '1.34'], ['1.77', '3.32', '3.90'], ['3.10', '3.05', '2.11'], ['2.26', '3.12', '2.78'], ['1.26', '4.75', '8.55'], ['2.08', '3.22', '3.00'], ['2.55', '3.28', '2.33'], ['1.43', '4.05', '5.65']], 'noms': [['Nice ', 'Rennes'], ['Lille ', 'Bordeaux'], ['Saint', 'tienne ', ' Marseille'], ['Strasbourg ', 'Lens'], ['Clermont ', 'Nantes'], ['Metz ', 'Monaco'], ['Montpellier ', 'Brest'], ['Troyes ', 'Reims'], ['Lyon ', 'Angers'], ['Paris SG ', 'Lorient'], ['Lorient ', 'Saint', 'Etienne'], ['Reims ', 'Rennes'], ['Clermont ', 'Paris SG'], ['Bordeaux ', 'Metz'], ['Angers ', 'Lille'], ['Brest ', 'Nantes'], ['Monaco ', 'Troyes'], ['Lens ', 'Nice'], ['Strasbourg ', 'Lyon'], ['Marseille ', 'Montpellier']], 'dates': []}, 'liga': {'cotes': [['2.01', '2.85', '3.65'], ['3.35', '3.38', '1.89'], ['3.72', '3.40', '1.78'], ['1.31', '4.35', '7.75'], ['1.43', '3.85', '6.00'], ['1.73', '3.40', '3.95'], ['2.65', '2.95', '2.45'], ['1.78', '3.20', '4.00'], ['1.45', '3.90', '5.70'], ['1.61', '3.52', '4.50'], ['1.35', '4.05', '7.20'], ['3.20', '3.15', '2.02'], ['4.15', '3.25', '1.74'], ['1.98', '3.22', '3.25'], ['1.33', '4.25', '7.15'], ['1.72', '3.25', '4.20'], ['2.44', '3.05', '2.60'], ['2.85', '3.05', '2.24'], ['5.20', '4.20', '1.44'], ['2.08', '3.05', '3.15']], 'noms': [['Getafe ', 'Majorque'], ['Levante ', 'Villarreal'], ['Celta Vigo ', 'Real Madrid'], ['Atletico Madrid ', 'Alaves'], ['Athletic Bilbao ', 'Elche'], ['Betis Séville ', 'Osasuna'], ['Grenade ', 'Rayo Vallecano'], ['Valence ', 'Cadiz CF'], ['FC Barcelone ', 'FC Séville'], ['Real Sociedad ', 'Espanyol Barcelone'], ['FC Séville ', 'Grenade'], ['Cadiz CF ', 'Betis Séville'], ['Majorque ', 'Atletico Madrid'], ['Villarreal ', 'Athletic Bilbao'], ['Real Madrid ', 'Getafe'], ['Osasuna ', 'Alaves'], ['Espanyol Barcelone ', 'Celta Vigo'], ['Elche ', 'Real Sociedad'], ['Levante ', 'FC Barcelone'], ['Rayo Vallecano ', 'Valence']], 'dates': []}}\n"
     ]
    }
   ],
   "source": [
    "for compet in res_unibet:\n",
    "    res_unibet[compet]['cotes']= [[res_unibet[compet]['cotes'][i],res_unibet[compet]['cotes'][i+1],res_unibet[compet]['cotes'][i+2]] for i in range(len(res_unibet[compet]['cotes'])-2) if i%3==0]\n",
    "for compet in res_unibet:\n",
    "    for x in res_unibet[compet]['noms']:\n",
    "        x[1]=x[1][1:]\n",
    "for compet in res_unibet:\n",
    "    for x in res_unibet[compet]['noms']:\n",
    "        if len(x)==3:\n",
    "            print(1)\n",
    "\n",
    "print(res_unibet)"
   ]
  },
  {
   "cell_type": "code",
   "execution_count": 25,
   "metadata": {},
   "outputs": [
    {
     "name": "stdout",
     "output_type": "stream",
     "text": [
      "{'ldc': {'MaAt': {'equip1': 'Manchester City', 'equip2': 'Atletico Madrid', 'betclic': ['1,36', '4,40', '6,75'], 'winamax': ['1,40', '4,75', '8,50'], 'unibet': ['1.37', '4.45', '6.85']}, 'BeLi': {'equip1': 'Benfica', 'equip2': 'Liverpool', 'betclic': ['7,70', '4,30', '1,34'], 'winamax': ['8,50', '4,80', '1,37'], 'unibet': ['7.80', '4.35', '1.35']}, 'ViBa': {'equip1': 'Villarreal', 'equip2': 'Bayern Munich', 'betclic': ['4,95', '4,00', '1,53'], 'winamax': ['5,75', '4,25', '1,55'], 'unibet': ['5.00', '4.05', '1.53']}, 'ChRe': {'equip1': 'Chelsea', 'equip2': 'Real Madrid', 'betclic': ['2,03', '3,25', '3,25'], 'winamax': ['2,05', '3,40', '3,75'], 'unibet': ['2.05', '3.28', '3.25']}}, 'pl': {'LiWa': {'equip1': 'Liverpool', 'equip2': 'Watford', 'betclic': ['1,11', '8,50', '17'], 'winamax': ['1,11', '9,50', '21'], 'unibet': ['1.08', '7.35', '15.20']}, 'BuMa': {'equip1': 'Burnley', 'equip2': 'Manchester City', 'betclic': ['11,50', '6,00', '1,20'], 'winamax': ['12,50', '6,50', '1,21'], 'unibet': ['10.80', '5.70', '1.17']}, 'LeSo': {'equip1': 'Leeds', 'equip2': 'Southampton', 'betclic': ['2,30', '3,45', '2,75'], 'winamax': ['2,35', '3,55', '2,85'], 'unibet': ['2.20', '3.35', '2.68']}, 'ChBr': {'equip1': 'Chelsea', 'equip2': 'Brentford', 'betclic': ['1,33', '4,65', '8,15'], 'winamax': ['1,33', '5,00', '10'], 'unibet': ['1.29', '4.45', '7.85']}, 'WoAs': {'equip1': 'Wolverhampton', 'equip2': 'Aston Villa', 'betclic': ['2,78', '3,00', '2,52'], 'winamax': ['2,85', '3,10', '2,60'], 'unibet': ['2.72', '2.95', '2.41']}, 'BrNo': {'equip1': 'Brighton', 'equip2': 'Norwich City', 'betclic': ['1,56', '3,70', '5,70'], 'winamax': ['1,58', '3,85', '6,00'], 'unibet': ['1.51', '3.58', '5.50']}, 'MaLe': {'equip1': 'Manchester Utd', 'equip2': 'Leicester', 'betclic': ['1,50', '4,25', '5,25'], 'winamax': ['1,54', '4,40', '5,50'], 'unibet': ['1.46', '4.10', '5.10']}, 'WeEv': {'equip1': 'West Ham', 'equip2': 'Everton', 'betclic': ['1,73', '3,60', '4,25'], 'winamax': ['1,78', '3,75', '4,40'], 'unibet': ['1.68', '3.48', '4.15']}, 'ToNe': {'equip1': 'Tottenham', 'equip2': 'Newcastle', 'betclic': ['1,48', '4,15', '5,85'], 'winamax': ['1,50', '4,30', '6,00'], 'unibet': ['1.43', '4.00', '5.65']}, 'CrAr': {'equip1': 'Crystal Palace', 'equip2': 'Arsenal', 'betclic': ['3,80', '3,25', '1,93'], 'winamax': ['3,95', '3,35', '1,98'], 'unibet': ['3.70', '3.18', '1.86']}, 'BuEv': {'equip1': 'Burnley', 'equip2': 'Everton', 'betclic': ['2,55', '3,10', '2,65'], 'winamax': ['2,55', '3,15', '2,70'], 'unibet': ['2.43', '3.05', '2.60']}, 'NeWo': {'equip1': 'Newcastle', 'equip2': 'Wolverhampton', 'betclic': ['2,38', '3,00', '2,82'], 'winamax': ['2,45', '3,05', '2,90'], 'unibet': ['2.31', '2.95', '2.82']}, 'EvMa': {'equip1': 'Everton', 'equip2': 'Manchester Utd', 'betclic': ['4,00', '3,55', '1,72'], 'winamax': ['4,20', '3,70', '1,76'], 'unibet': ['4.00', '3.55', '1.68']}, 'WaLe': {'equip1': 'Watford', 'equip2': 'Leeds', 'betclic': ['2,65', '3,15', '2,40'], 'winamax': ['2,75', '3,25', '2,45'], 'unibet': ['2.65', '3.12', '2.35']}, 'SoCh': {'equip1': 'Southampton', 'equip2': 'Chelsea', 'betclic': ['4,60', '3,65', '1,62'], 'winamax': ['4,80', '3,80', '1,66'], 'unibet': ['4.60', '3.62', '1.59']}, 'ArBr': {'equip1': 'Arsenal', 'equip2': 'Brighton', 'betclic': ['1,56', '3,65', '5,15'], 'winamax': ['1,58', '3,80', '5,40'], 'unibet': ['1.53', '3.65', '5.15']}, 'AsTo': {'equip1': 'Aston Villa', 'equip2': 'Tottenham', 'betclic': ['2,85', '3,15', '2,25'], 'winamax': ['2,95', '3,25', '2,30'], 'unibet': ['2.85', '3.15', '2.20']}, 'NoBu': {'equip1': 'Norwich City', 'equip2': 'Burnley', 'betclic': ['2,65', '3,05', '2,48'], 'winamax': ['2,70', '3,15', '2,55'], 'unibet': ['2.62', '3.05', '2.41']}, 'LeCr': {'equip1': 'Leicester', 'equip2': 'Crystal Palace', 'betclic': ['2,07', '3,25', '3,15'], 'winamax': ['2,10', '3,35', '3,25'], 'unibet': ['2.02', '3.25', '3.12']}, 'BrWe': {'equip1': 'Brentford', 'equip2': 'West Ham', 'betclic': ['3,05', '3,20', '2,13'], 'winamax': ['3,15', '3,30', '2,20'], 'unibet': ['3.02', '3.18', '2.09']}, 'MaLi': {'equip1': 'Manchester City', 'equip2': 'Liverpool', 'winamax': ['2,05', '3,50', '3,20'], 'unibet': ['1.98', '3.38', '3.10']}}, 'l1': {'NiRe': {'equip1': 'Nice', 'equip2': 'Rennes', 'betclic': ['3,00', '3,20', '2,28'], 'unibet': ['2.92', '3.12', '2.17']}, 'LiBo': {'equip1': 'Lille', 'equip2': 'Bordeaux', 'betclic': ['1,49', '4,10', '5,80'], 'unibet': ['1.44', '3.98', '5.60']}, 'SaMa': {'equip1': 'Saint-Etienne', 'equip2': 'Marseille', 'betclic': ['3,45', '3,25', '2,03']}, 'StLe': {'equip1': 'Strasbourg', 'equip2': 'Lens', 'betclic': ['2,12', '3,20', '3,30'], 'unibet': ['2.03', '3.12', '3.20']}, 'ClNa': {'equip1': 'Clermont', 'equip2': 'Nantes', 'betclic': ['2,55', '3,00', '2,75'], 'unibet': ['2.43', '2.95', '2.68']}, 'MoBr': {'equip1': 'Montpellier', 'equip2': 'Brest', 'betclic': ['2,10', '3,30', '3,25'], 'unibet': ['2.02', '3.20', '3.15']}, 'MeMo': {'equip1': 'Metz', 'equip2': 'Monaco', 'betclic': ['5,45', '3,85', '1,55'], 'unibet': ['5.25', '3.75', '1.50']}, 'TrRe': {'equip1': 'Troyes', 'equip2': 'Reims', 'betclic': ['2,50', '2,90', '2,88'], 'unibet': ['2.40', '2.85', '2.80']}, 'LyAn': {'equip1': 'Lyon', 'equip2': 'Angers', 'betclic': ['1,40', '4,45', '6,60'], 'unibet': ['1.36', '4.30', '6.35']}, 'PaLo': {'equip1': 'Paris SG', 'equip2': 'Lorient', 'betclic': ['1,16', '6,75', '12,50'], 'unibet': ['1.14', '6.30', '11.50']}, 'LoSa': {'equip1': 'Lorient', 'equip2': 'Saint-Etienne', 'betclic': ['2,25', '3,10', '2,95'], 'unibet': ['2.18', '3.10', '2.92']}, 'ReRe': {'equip1': 'Reims', 'equip2': 'Rennes', 'betclic': ['3,80', '3,25', '1,85'], 'unibet': ['3.80', '3.25', '1.81']}, 'ClPa': {'equip1': 'Clermont', 'equip2': 'Paris SG', 'betclic': ['6,20', '4,65', '1,36'], 'unibet': ['6.15', '4.65', '1.34']}, 'BoMe': {'equip1': 'Bordeaux', 'equip2': 'Metz', 'betclic': ['1,80', '3,35', '3,90'], 'unibet': ['1.77', '3.32', '3.90']}, 'BrNa': {'equip1': 'Brest', 'equip2': 'Nantes', 'betclic': ['2,32', '3,15', '2,78'], 'unibet': ['2.26', '3.12', '2.78']}, 'MoTr': {'equip1': 'Monaco', 'equip2': 'Troyes', 'betclic': ['1,28', '4,75', '8,55'], 'unibet': ['1.26', '4.75', '8.55']}, 'AnLi': {'equip1': 'Angers', 'equip2': 'Lille', 'betclic': ['3,10', '3,05', '2,17'], 'unibet': ['3.10', '3.05', '2.11']}, 'LeNi': {'equip1': 'Lens', 'equip2': 'Nice', 'betclic': ['2,13', '3,25', '3,00'], 'unibet': ['2.08', '3.22', '3.00']}, 'StLy': {'equip1': 'Strasbourg', 'equip2': 'Lyon', 'betclic': ['2,58', '3,30', '2,40'], 'unibet': ['2.55', '3.28', '2.33']}, 'MaMo': {'equip1': 'Marseille', 'equip2': 'Montpellier', 'betclic': ['1,45', '4,10', '5,65'], 'unibet': ['1.43', '4.05', '5.65']}, 'Sati': {'equip1': 'Saint', 'equip2': 'tienne ', 'unibet': ['3.35', '3.18', '1.96']}}, 'liga': {'GeMa': {'equip1': 'Getafe', 'equip2': 'Majorque', 'betclic': ['2,08', '2,90', '3,75'], 'winamax': ['2,15', '3,00', '3,90'], 'unibet': ['2.01', '2.85', '3.65']}, 'LeVi': {'equip1': 'Levante', 'equip2': 'Villarreal', 'betclic': ['3,45', '3,45', '1,96'], 'winamax': ['3,55', '3,60', '2,00'], 'unibet': ['3.35', '3.38', '1.89']}, 'CeRe': {'equip1': 'Celta Vigo', 'equip2': 'Real Madrid', 'betclic': ['3,80', '3,50', '1,85'], 'winamax': ['3,95', '3,65', '1,90'], 'unibet': ['3.72', '3.40', '1.78']}, 'AtAl': {'equip1': 'Atletico Madrid', 'equip2': 'Alaves', 'betclic': ['1,34', '4,50', '8,10'], 'winamax': ['1,34', '4,80', '10'], 'unibet': ['1.31', '4.35', '7.75']}, 'AtEl': {'equip1': 'Athletic Bilbao', 'equip2': 'Elche', 'betclic': ['1,47', '4,00', '6,25'], 'winamax': ['1,50', '4,20', '6,50'], 'unibet': ['1.43', '3.85', '6.00']}, 'BeOs': {'equip1': 'Betis', 'equip2': 'Osasuna', 'betclic': ['1,80', '3,50', '4,10'], 'winamax': ['1,84', '3,65', '4,20'], 'unibet': ['1.73', '3.40', '3.95']}, 'VaCa': {'equip1': 'Valence', 'equip2': 'Cadix', 'betclic': ['1,85', '3,30', '4,15'], 'unibet': ['1.78', '3.20', '4.00']}, 'GrRa': {'equip1': 'Grenade', 'equip2': 'Rayo Vallecano', 'betclic': ['2,72', '3,00', '2,55'], 'winamax': ['2,80', '3,10', '2,65'], 'unibet': ['2.65', '2.95', '2.45']}, 'BaSé': {'equip1': 'Barcelone', 'equip2': 'Séville', 'betclic': ['1,49', '4,00', '5,90']}, 'ReEs': {'equip1': 'Real Sociedad', 'equip2': 'Espanyol', 'betclic': ['1,67', '3,60', '4,65'], 'winamax': ['1,70', '3,75', '4,90'], 'unibet': ['1.61', '3.52', '4.50']}, 'SéGr': {'equip1': 'Séville', 'equip2': 'Grenade', 'betclic': ['1,38', '4,10', '7,20']}, 'CaBe': {'equip1': 'Cadix', 'equip2': 'Betis', 'betclic': ['3,20', '3,15', '2,07'], 'unibet': ['3.20', '3.15', '2.02']}, 'MaAt': {'equip1': 'Majorque', 'equip2': 'Atletico Madrid', 'betclic': ['4,15', '3,25', '1,77'], 'winamax': ['4,30', '3,40', '1,82'], 'unibet': ['4.15', '3.25', '1.74']}, 'ViAt': {'equip1': 'Villarreal', 'equip2': 'Athletic Bilbao', 'betclic': ['2,03', '3,25', '3,25'], 'winamax': ['2,05', '3,35', '3,35'], 'unibet': ['1.98', '3.22', '3.25']}, 'ReGe': {'equip1': 'Real Madrid', 'equip2': 'Getafe', 'betclic': ['1,36', '4,30', '7,20'], 'winamax': ['1,38', '4,50', '7,50'], 'unibet': ['1.33', '4.25', '7.15']}, 'OsAl': {'equip1': 'Osasuna', 'equip2': 'Alavés', 'betclic': ['1,76', '3,25', '4,25'], 'winamax': ['1,80', '3,40', '4,40'], 'unibet': ['1.72', '3.25', '4.20']}, 'EsCe': {'equip1': 'Espanyol', 'equip2': 'Celta Vigo', 'betclic': ['2,50', '3,05', '2,62'], 'winamax': ['2,55', '3,15', '2,70'], 'unibet': ['2.44', '3.05', '2.60']}, 'ElRe': {'equip1': 'Elche', 'equip2': 'Real Sociedad', 'betclic': ['2,85', '3,05', '2,30'], 'winamax': ['2,95', '3,15', '2,35'], 'unibet': ['2.85', '3.05', '2.24']}, 'LeBa': {'equip1': 'Levante', 'equip2': 'Barcelone', 'betclic': ['5,20', '4,25', '1,46']}, 'RaVa': {'equip1': 'Rayo Vallecano', 'equip2': 'Valence', 'betclic': ['2,13', '3,10', '3,15'], 'winamax': ['2,15', '3,20', '3,30'], 'unibet': ['2.08', '3.05', '3.15']}, 'VaCF': {'equip1': 'Valence', 'equip2': 'CF Cadiz', 'winamax': ['1,88', '3,40', '4,30']}, 'FCFC': {'equip1': 'FC Barcelone', 'equip2': 'FC Séville', 'winamax': ['1,52', '4,20', '6,25'], 'unibet': ['1.45', '3.90', '5.70']}, 'FCGr': {'equip1': 'FC Séville', 'equip2': 'Grenade', 'winamax': ['1,40', '4,30', '7,50'], 'unibet': ['1.35', '4.05', '7.20']}, 'CFBe': {'equip1': 'CF Cadiz', 'equip2': 'Betis Séville', 'winamax': ['3,30', '3,30', '2,10']}, 'LeFC': {'equip1': 'Levante', 'equip2': 'FC Barcelone', 'winamax': ['5,50', '4,40', '1,49'], 'unibet': ['5.20', '4.20', '1.44']}}}\n"
     ]
    }
   ],
   "source": [
    "res = {\n",
    "    'ldc' : {},\n",
    "    'pl' : {},\n",
    "    'l1' : {},\n",
    "    'liga'  : {}\n",
    "    }\n",
    "sites = {'betclic': res_betclic,'winamax': res_winamax, 'unibet':res_unibet}\n",
    "for site in sites:\n",
    "    for comp in sites[site]:\n",
    "        for i,match in enumerate(sites[site][comp]['noms']):\n",
    "            if match[0][:2]+match[1][:2] not in res[comp]:\n",
    "                res[comp][match[0][:2]+match[1][:2]] = {}\n",
    "                res[comp][match[0][:2]+match[1][:2]]['equip1'] = match[0]\n",
    "                res[comp][match[0][:2]+match[1][:2]]['equip2'] = match[1]\n",
    "            try:\n",
    "                res[comp][match[0][:2]+match[1][:2]][site] = sites[site][comp]['cotes'][i]\n",
    "            except:\n",
    "                pass\n",
    "            \n",
    "\n",
    "print(res)\n",
    "\n"
   ]
  },
  {
   "cell_type": "code",
   "execution_count": 42,
   "metadata": {},
   "outputs": [],
   "source": [
    "wb = Workbook() # création du classeur\n",
    "for i, compet in enumerate(res.keys()):\n",
    "    if i==0:\n",
    "        ws= wb.active \n",
    "        ws.title = compet\n",
    "    else:\n",
    "        ws = wb.create_sheet(compet)  \n",
    "    ws.merge_cells('A1:K1', 'Merged Range')\n",
    "    ws.cell(1,1).value= compet\n",
    "    ws.cell(2,1).value= 'equip1'\n",
    "    ws.cell(2,2).value= 'equip2'\n",
    "    ws.merge_cells('C2:E2', 'Merged Range')\n",
    "    ws.merge_cells('F2:H2', 'Merged Range')\n",
    "    ws.merge_cells('I2:K2', 'Merged Range')\n",
    "    ws.cell(2,3).value= 'betclic'\n",
    "    ws.cell(2,6).value= 'winamax'\n",
    "    ws.cell(2,9).value= 'unibet'\n",
    "    r,c=2,1\n",
    "    for match in res[compet]:\n",
    "        r+=1\n",
    "        ws.cell(r,c).value=res[compet][match]['equip1']\n",
    "        c+=1\n",
    "        ws.cell(r,c).value=res[compet][match]['equip2']\n",
    "        c+=1\n",
    "        for element in res[compet][match]:\n",
    "            if element != 'equip1' and element != 'equip2':\n",
    "                for cote in res[compet][match][element]:\n",
    "                    ws.cell(r,c).value= cote\n",
    "                    c+=1\n",
    "        c=1     \n",
    "# ws.cell(1,1).value= 'Ligue des Champions'\n",
    "# sites=[res_betclic,res_winamax,res_unibet]\n",
    "# name=['Betclic','winamax' ,'unibet']\n",
    "# r,c=-5,1\n",
    "# o=-1\n",
    "# for compet in sites:\n",
    "#     o+=1\n",
    "#     r+=7\n",
    "#     ws.cell(r,c).value = name[o]\n",
    "#     r+=1\n",
    "#     row,column=r,c\n",
    "#     ws.cell(row, column).value = 'Match'\n",
    "#     ws.cell(row, column+1).value = 'dates'\n",
    "#     # Merge 3 cells.\n",
    "#     ws.merge_cells('C'+str(row)+':E'+str(row), 'Merged Range')\n",
    "#     ws.cell(row,column+2).value = 'cotes'\n",
    "#     # on set le \"curseur\"\n",
    "#     row+=1\n",
    "#     for i in range(len(res_betclic['ldc']['noms'])):\n",
    "#         if i%2==0:\n",
    "#             ws.cell(row, column).value = res_betclic['ldc']['noms'][i] +'-'+ res_betclic['ldc']['noms'][i+1]\n",
    "#             row += 1  # sur une ligne on change de colonne\n",
    "    \n",
    "#     row=r+1\n",
    "#     column+=1\n",
    "\n",
    "#     for i in range(len(res_betclic['ldc']['dates'])):\n",
    "#         # assigne la valeur info à la cellule en ligne(row) et en colonne (column)  \n",
    "#         ws.cell(row, column).value = res_betclic['ldc']['dates'][i] \n",
    "#         row += 1  # sur une ligne on change de colonne\n",
    "#     row=r+1\n",
    "#     column+=1\n",
    "\n",
    "#     for i in range(len(res_betclic['ldc']['cotes'])):\n",
    "        \n",
    "#         # assigne la valeur info à la cellule en ligne(row) et en colonne (column)\n",
    "#         if i%3==0:\n",
    "#             ws.cell(row, column).value = compet['ldc']['cotes'][i] \n",
    "#             column += 1  # sur une ligne on change de colonne\n",
    "#             ws.cell(row, column).value = compet['ldc']['cotes'][i+1] \n",
    "#             column += 1  # sur une ligne on change de colonne\n",
    "#             ws.cell(row, column).value = compet['ldc']['cotes'][i+2] \n",
    "#             column += 1  # sur une ligne on change de colonne\n",
    "#             row+=1\n",
    "#         column = 3\n",
    "        \n",
    "    \n",
    "try:\n",
    "    # on sauve l'excel sous la forme xls.\n",
    "    #Pour windows\n",
    "    # wb.save(\"C:/Users/HP/OneDrive/Bureau/scrap/paris_sportif\"+\".xlsx\")\n",
    "    #Pour Mac\n",
    "    wb.save(\"C:/Users/HP/OneDrive/Bureau/scrap/paris\"+\".xlsx\")\n",
    "\n",
    "except:\n",
    "    print('Problème pour sauver l Excel')\n",
    "browser.quit()\n"
   ]
  }
 ],
 "metadata": {
  "interpreter": {
   "hash": "9bf2ca0f4a7adc3ce2f237ca763c1538d3ef289a4e7face3612a01cdae9f6807"
  },
  "kernelspec": {
   "display_name": "Python 3.10.2 64-bit",
   "language": "python",
   "name": "python3"
  },
  "language_info": {
   "codemirror_mode": {
    "name": "ipython",
    "version": 3
   },
   "file_extension": ".py",
   "mimetype": "text/x-python",
   "name": "python",
   "nbconvert_exporter": "python",
   "pygments_lexer": "ipython3",
   "version": "3.10.2"
  },
  "orig_nbformat": 4
 },
 "nbformat": 4,
 "nbformat_minor": 2
}
