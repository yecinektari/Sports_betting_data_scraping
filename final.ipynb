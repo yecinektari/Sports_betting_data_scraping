{
 "cells": [
  {
   "cell_type": "code",
   "execution_count": 30,
   "metadata": {},
   "outputs": [],
   "source": [
    "from selenium import webdriver\n",
    "from selenium.webdriver.common.keys import Keys\n",
    "import time\n",
    "import os  # permet d'aller écrire dans les répertoires\n",
    "from openpyxl import Workbook\n",
    "import pandas as pd"
   ]
  },
  {
   "cell_type": "code",
   "execution_count": 8,
   "metadata": {},
   "outputs": [],
   "source": [
    "option = webdriver.ChromeOptions()\n",
    "option.add_argument(\"--incognito\")  # Navigation privée\n",
    "# option.add_argument(\"kiosk\")  # grand ecran sur mac\n",
    "#prefs={\"profile.managed_default_content_settings.images\": 2, 'disk-cache-size': 4096 }\n",
    "#option.add_experimental_option('prefs', prefs)"
   ]
  },
  {
   "cell_type": "code",
   "execution_count": 9,
   "metadata": {},
   "outputs": [
    {
     "name": "stderr",
     "output_type": "stream",
     "text": [
      "C:\\Users\\HP\\AppData\\Local\\Temp\\ipykernel_1744\\4201514216.py:6: DeprecationWarning: executable_path has been deprecated, please pass in a Service object\n",
      "  browser = webdriver.Chrome(\n"
     ]
    }
   ],
   "source": [
    "# Pour Mac\n",
    "# browser = webdriver.Chrome(\n",
    "#    executable_path=\"/Users/thomasbouiniere/Desktop/Scrapping/chromedriver\", options=option)\n",
    "\n",
    "# Pour windows\n",
    "browser = webdriver.Chrome(\n",
    "    executable_path=r\"C:/Users/HP/OneDrive/Bureau/scrap/chromedriver.exe\", options=option)"
   ]
  },
  {
   "cell_type": "code",
   "execution_count": 10,
   "metadata": {},
   "outputs": [],
   "source": [
    "# ---------------------------------------------------------------\n",
    "# Betclic\n",
    "# ---------------------------------------------------------------\n",
    "compets_betclic = {'ldc': 'https://www.betclic.fr/football-s1/ligue-des-champions-c8',\n",
    "                   'pl': 'https://www.betclic.fr/football-s1/angl-premier-league-c3',\n",
    "                   'l1': 'https://www.betclic.fr/football-s1/ligue-1-uber-eats-c4',\n",
    "                   'liga': 'https://www.betclic.fr/football-s1/espagne-liga-primera-c7'}\n",
    "\n",
    "res_betclic = {'ldc': {'cotes': [], 'noms': [], 'dates': []},\n",
    "               'pl': {'cotes': [], 'noms': [], 'dates': []},\n",
    "               'l1': {'cotes': [], 'noms': [], 'dates': []},\n",
    "               'liga': {'cotes': [], 'noms': [], 'dates': []}}"
   ]
  },
  {
   "cell_type": "code",
   "execution_count": 12,
   "metadata": {},
   "outputs": [
    {
     "name": "stderr",
     "output_type": "stream",
     "text": [
      "C:\\Users\\HP\\AppData\\Local\\Temp\\ipykernel_1744\\218458822.py:10: DeprecationWarning: find_elements_by_xpath is deprecated. Please use find_elements(by=By.XPATH, value=xpath) instead\n",
      "  cotes_temp = browser.find_elements_by_xpath(\n",
      "C:\\Users\\HP\\AppData\\Local\\Temp\\ipykernel_1744\\218458822.py:15: DeprecationWarning: find_elements_by_xpath is deprecated. Please use find_elements(by=By.XPATH, value=xpath) instead\n",
      "  nom_temp = browser.find_elements_by_xpath(\n",
      "C:\\Users\\HP\\AppData\\Local\\Temp\\ipykernel_1744\\218458822.py:20: DeprecationWarning: find_elements_by_xpath is deprecated. Please use find_elements(by=By.XPATH, value=xpath) instead\n",
      "  date_temp = browser.find_elements_by_xpath(\n",
      "C:\\Users\\HP\\AppData\\Local\\Temp\\ipykernel_1744\\218458822.py:6: DeprecationWarning: find_element_by_xpath is deprecated. Please use find_element(by=By.XPATH, value=xpath) instead\n",
      "  button = browser.find_element_by_xpath(\n"
     ]
    }
   ],
   "source": [
    "for i, compet in enumerate(compets_betclic):\n",
    "    browser.get(compets_betclic[compet])\n",
    "    time.sleep(1)\n",
    "    if i == 1:\n",
    "        time.sleep(2)\n",
    "        button = browser.find_element_by_xpath(\n",
    "            '//*[@id=\"popin_tc_privacy_button_2\"]')\n",
    "        button.click()\n",
    "\n",
    "    cotes_temp = browser.find_elements_by_xpath(\n",
    "        '/html/body/app-desktop/div[1]/div/bcdk-content-scroller/div/sports-competition/div/sports-events-list/bcdk-vertical-scroller/div/div[2]/div/div/div/div[2]/div/sports-events-event/a/sports-events-event-markets/sports-markets-default[1]/div/sports-selections-selection/div[1]/span[2]')\n",
    "    for x in cotes_temp:\n",
    "        res_betclic[compet]['cotes'].append(x.text)\n",
    "\n",
    "    nom_temp = browser.find_elements_by_xpath(\n",
    "        '/html/body/app-desktop/div[1]/div/bcdk-content-scroller/div/sports-competition/div/sports-events-list/bcdk-vertical-scroller/div/div[2]/div/div/div/div[2]/div/sports-events-event/a/div/scoreboards-scoreboard/scoreboards-scoreboard-global/div/div/div')\n",
    "    for x in nom_temp:\n",
    "        res_betclic[compet]['noms'].append(x.text)\n",
    "\n",
    "    date_temp = browser.find_elements_by_xpath(\n",
    "        '/html/body/app-desktop/div[1]/div/bcdk-content-scroller/div/sports-competition/div/sports-events-list/bcdk-vertical-scroller/div/div[2]/div/div/div/div[2]/div/sports-events-event/a/div/sports-events-event-info/div')\n",
    "    for x in date_temp:\n",
    "        res_betclic[compet]['dates'].append(x.text)"
   ]
  },
  {
   "cell_type": "code",
   "execution_count": 13,
   "metadata": {},
   "outputs": [
    {
     "name": "stdout",
     "output_type": "stream",
     "text": [
      "{'ldc': {'cotes': ['1,38', '4,35', '6,50', '7,70', '4,30', '1,34', '4,95', '3,95', '1,53', '2,10', '3,05', '3,25', '', '', '', '', '', '', '', '', '', '', '', '', '1,38', '4,35', '6,50', '7,70', '4,30', '1,34', '4,95', '3,95', '1,53', '2,10', '3,05', '3,25'], 'noms': ['Manchester City', 'Atletico Madrid', 'Benfica', 'Liverpool', 'Villarreal', 'Bayern Munich', 'Chelsea', 'Real Madrid', '', '', '', '', '', '', '', '', 'Manchester City', 'Atletico Madrid', 'Benfica', 'Liverpool', 'Villarreal', 'Bayern Munich', 'Chelsea', 'Real Madrid'], 'dates': ['05/04/2022 21:00', '05/04/2022 21:00', '06/04/2022 21:00', '06/04/2022 21:00', '', '', '', '', '05/04/2022 21:00', '05/04/2022 21:00', '06/04/2022 21:00', '06/04/2022 21:00']}, 'pl': {'cotes': ['2,17', '3,40', '3,30', '1,68', '3,85', '4,90', '1,12', '8,20', '15', '12', '6,25', '1,18', '2,32', '3,30', '2,80', '1,31', '4,75', '8,70', '2,68', '3,00', '2,60', '1,55', '3,70', '5,60', '1,50', '4,30', '5,20', '1,77', '3,50', '4,15', '1,48', '4,15', '5,65', '3,95', '3,25', '1,82'], 'noms': ['Leicester', 'Brentford', 'Tottenham', 'West Ham', 'Liverpool', 'Watford', 'Burnley', 'Manchester City', 'Leeds', 'Southampton', 'Chelsea', 'Brentford', 'Wolverhampton', 'Aston Villa', 'Brighton', 'Norwich City', 'Manchester Utd', 'Leicester', 'West Ham', 'Everton', 'Tottenham', 'Newcastle', 'Crystal Palace', 'Arsenal'], 'dates': ['Demain 15:00', 'Demain 17:30', '02/04/2022 13:30', '02/04/2022 16:00', '02/04/2022 16:00', '02/04/2022 16:00', '02/04/2022 16:00', '02/04/2022 16:00', '02/04/2022 18:30', '03/04/2022 15:00', '03/04/2022 17:30', '04/04/2022 21:00']}, 'l1': {'cotes': ['2,78', '3,00', '2,80', '3,55', '3,85', '1,92', '1,24', '5,50', '13,50', '3,40', '3,25', '2,18', '2,35', '3,55', '2,85', '2,15', '3,20', '3,55', '4,20', '3,70', '1,82', '2,08', '3,25', '3,50', '2,78', '3,25', '2,35', '1,52', '4,00', '5,55', '3,70', '3,35', '1,92', '2,10', '3,20', '3,30', '2,62', '3,00', '2,65', '2,02', '3,35', '3,40', '4,95', '3,75', '1,60', '2,50', '3,00', '2,80', '1,39', '4,50', '6,75', '1,15', '7,25', '13'], 'noms': ['Nantes', 'Lille', 'Monaco', 'Paris SG', 'Rennes', 'Metz', 'Lorient', 'Strasbourg', 'Bordeaux', 'Montpellier', 'Angers', 'Brest', 'Reims', 'Lyon', 'Marseille', 'Nice', 'Nice', 'Rennes', 'Lille', 'Bordeaux', 'Saint-Etienne', 'Marseille', 'Strasbourg', 'Lens', 'Clermont', 'Nantes', 'Montpellier', 'Brest', 'Metz', 'Monaco', 'Troyes', 'Reims', 'Lyon', 'Angers', 'Paris SG', 'Lorient'], 'dates': [\"Aujourd'hui 21:00\", 'Demain 13:00', 'Demain 15:00', 'Demain 15:00', 'Demain 15:00', 'Demain 15:00', 'Demain 17:05', 'Demain 20:45', '02/04/2022 17:00', '02/04/2022 19:00', '02/04/2022 21:00', '03/04/2022 13:00', '03/04/2022 15:00', '03/04/2022 15:00', '03/04/2022 15:00', '03/04/2022 15:00', '03/04/2022 17:05', '03/04/2022 20:45']}, 'liga': {'cotes': ['4,10', '3,20', '2,00', '2,07', '3,35', '3,60', '4,40', '3,55', '1,82', '2,18', '3,40', '3,25', '2,00', '3,20', '4,00', '2,25', '3,50', '2,95', '2,08', '2,90', '3,75', '3,65', '3,45', '1,90', '4,35', '3,70', '1,70', '1,28', '4,85', '9,70', '1,48', '4,10', '5,90', '1,80', '3,50', '4,00', '1,78', '3,45', '4,15', '2,55', '3,00', '2,75', '1,63', '3,70', '4,80', '1,65', '3,55', '4,50'], 'noms': ['Rayo Vallecano', 'Atletico Madrid', 'Espanyol', 'Majorque', 'Cadix', 'Villarreal', 'Celta Vigo', 'Betis', 'Séville', 'Real Sociedad', 'Real Madrid', 'Barcelone', 'Getafe', 'Majorque', 'Levante', 'Villarreal', 'Celta Vigo', 'Real Madrid', 'Atletico Madrid', 'Alaves', 'Athletic Bilbao', 'Elche', 'Betis', 'Osasuna', 'Valence', 'Cadix', 'Grenade', 'Rayo Vallecano', 'Barcelone', 'Séville', 'Real Sociedad', 'Espanyol'], 'dates': [\"Aujourd'hui 21:00\", 'Demain 14:00', 'Demain 16:15', 'Demain 16:15', 'Demain 18:30', 'Demain 21:00', '02/04/2022 14:00', '02/04/2022 16:15', '02/04/2022 18:30', '02/04/2022 21:00', '03/04/2022 14:00', '03/04/2022 16:15', '03/04/2022 18:30', '03/04/2022 18:30', '03/04/2022 21:00', '04/04/2022 21:00']}}\n"
     ]
    }
   ],
   "source": [
    "print (res_betclic)"
   ]
  },
  {
   "cell_type": "code",
   "execution_count": 14,
   "metadata": {},
   "outputs": [],
   "source": [
    "# ---------------------------------------------------------------\n",
    "# Winamax\n",
    "# ---------------------------------------------------------------\n",
    "\n",
    "compets_winamax = {'ldc': 'https://www.winamax.fr/paris-sportifs/sports/1/800000542/23',\n",
    "                   'pl': 'https://www.winamax.fr/paris-sportifs/sports/1/1/1',\n",
    "                   'l1': 'https://www.winamax.fr/paris-sportifs/sports/1/7/4',\n",
    "                   'liga': 'https://www.winamax.fr/paris-sportifs/sports/1/32/36'}\n",
    "\n",
    "res_winamax = {'ldc': {'cotes': [], 'noms': [], 'dates': []},\n",
    "               'pl': {'cotes': [], 'noms': [], 'dates': []},\n",
    "               'l1': {'cotes': [], 'noms': [], 'dates': []},\n",
    "               'liga': {'cotes': [], 'noms': [], 'dates': []}}"
   ]
  },
  {
   "cell_type": "code",
   "execution_count": 15,
   "metadata": {},
   "outputs": [
    {
     "name": "stderr",
     "output_type": "stream",
     "text": [
      "C:\\Users\\HP\\AppData\\Local\\Temp\\ipykernel_1744\\4109540383.py:7: DeprecationWarning: find_elements_by_xpath is deprecated. Please use find_elements(by=By.XPATH, value=xpath) instead\n",
      "  cotes_liga_temp = browser.find_elements_by_xpath(\n",
      "C:\\Users\\HP\\AppData\\Local\\Temp\\ipykernel_1744\\4109540383.py:26: DeprecationWarning: find_elements_by_xpath is deprecated. Please use find_elements(by=By.XPATH, value=xpath) instead\n",
      "  noms_temp = browser.find_elements_by_xpath(\n",
      "C:\\Users\\HP\\AppData\\Local\\Temp\\ipykernel_1744\\4109540383.py:33: DeprecationWarning: find_elements_by_xpath is deprecated. Please use find_elements(by=By.XPATH, value=xpath) instead\n",
      "  dates_temp = browser.find_elements_by_xpath(\n"
     ]
    }
   ],
   "source": [
    "for i, compet in enumerate(compets_winamax):\n",
    "    browser.get(compets_winamax[compet])\n",
    "    time.sleep(1)\n",
    "\n",
    "    '''On récupère les cotes'''\n",
    "\n",
    "    cotes_liga_temp = browser.find_elements_by_xpath(\n",
    "        '//*[@id=\"app\"]/div[1]/div[1]/div/div[2]/div/section/div[3]/div[1]/div/div/div/div/div[1]/a')\n",
    "    cotes_liga = []\n",
    "    try:\n",
    "        for lien in cotes_liga_temp:\n",
    "            for i in range(0, 3):\n",
    "                x = lien.get_property('lastChild')\n",
    "                x = x.get_property('lastChild')\n",
    "                x = x.get_property('lastChild')\n",
    "                x = x.get_property('children')[0]\n",
    "                x = x.get_property('children')[i]\n",
    "                x = x.get_property('children')[1]\n",
    "                x = x.get_property('children')[0]\n",
    "                x = x.get_property('children')[1]\n",
    "                res_winamax[compet]['cotes'].append(x.text)\n",
    "    except:\n",
    "        None\n",
    "\n",
    "    '''On récupère les noms d'équipes'''\n",
    "    noms_temp = browser.find_elements_by_xpath(\n",
    "        '//*[@id=\"app\"]/div/div[1]/div/div[2]/div/section/div[3]/div[1]/div/div/div/div/div[1]/a/div[2]/div[1]/div[1]/div[1]/div/span')\n",
    "    for x in noms_temp:\n",
    "        res_winamax[compet]['noms'].append(x.text)\n",
    "\n",
    "    '''On récupère les dates des matchs'''\n",
    "\n",
    "    dates_temp = browser.find_elements_by_xpath(\n",
    "        '//*[@id=\"app\"]/div/div[1]/div/div[2]/div/section/div[3]/div[1]/div/div/div/div/div[1]/a/div[1]/div[2]/div')\n",
    "    dates_temp = dates_temp[:-1]\n",
    "\n",
    "    for x in dates_temp:\n",
    "        res_winamax[compet]['dates'].append(x.text)"
   ]
  },
  {
   "cell_type": "code",
   "execution_count": 16,
   "metadata": {},
   "outputs": [
    {
     "name": "stdout",
     "output_type": "stream",
     "text": [
      "{'ldc': {'cotes': ['1,38', '4,40', '6,50', '7,75', '4,30', '1,34', '2,00', '3,20', '3,40', '5,00', '3,95', '1,54'], 'noms': ['Manchester City', ' - ', 'Atletico Madrid', 'Benfica', ' - ', 'Liverpool', 'Chelsea', ' - ', 'Real Madrid', 'Villarreal', ' - ', 'Bayern Munich'], 'dates': ['5 AVR. 2022 À 21:00', '5 AVR. 2022 À 21:00', '6 AVR. 2022 À 21:00', '6 AVR. 2022 À 21:00']}, 'pl': {'cotes': ['2,20', '3,45', '3,30', '1,70', '4,00', '5,00', '1,11', '9,00', '21', '12', '6,50', '1,19', '1,32', '4,90', '9,00', '2,70', '3,05', '2,60', '1,56', '3,80', '5,70', '2,35', '3,35', '2,85', '1,50', '4,40', '5,30', '1,78', '3,55', '4,20', '1,50', '4,20', '5,80', '4,10', '3,40', '1,86'], 'noms': ['Leicester', ' - ', 'Brentford', 'Tottenham', ' - ', 'West Ham', 'Liverpool', ' - ', 'Watford', 'Burnley', ' - ', 'Manchester City', 'Chelsea', ' - ', 'Brentford', 'Wolverhampton', ' - ', 'Aston Villa', 'Brighton', ' - ', 'Norwich', 'Leeds', ' - ', 'Southampton', 'Manchester United', ' - ', 'Leicester', 'West Ham', ' - ', 'Everton', 'Tottenham', ' - ', 'Newcastle', 'Crystal Palace', ' - ', 'Arsenal'], 'dates': ['DEMAIN À 15:00', 'DEMAIN À 17:30', '2 AVR. 2022 À 13:30', '2 AVR. 2022 À 16:00', '2 AVR. 2022 À 16:00', '2 AVR. 2022 À 16:00', '2 AVR. 2022 À 16:00', '2 AVR. 2022 À 16:00', '2 AVR. 2022 À 18:30', '3 AVR. 2022 À 15:00', '3 AVR. 2022 À 17:30']}, 'l1': {'cotes': ['2,90', '2,95', '2,80', '3,70', '3,85', '1,95', '1,28', '5,70', '12', '2,25', '3,15', '3,60', '2,40', '3,55', '2,95', '3,45', '3,30', '2,25', '4,30', '3,80', '1,85', '2,15', '3,50', '3,50', '2,75', '3,20', '2,30', '1,52', '4,10', '5,70', '3,75', '3,40', '1,94', '2,10', '3,25', '3,35', '5,00', '3,80', '1,62', '2,00', '3,35', '3,45', '2,65', '3,05', '2,70', '2,50', '3,00', '2,85', '1,38', '4,40', '6,50', '1,15', '7,25', '14'], 'noms': ['Nantes', ' - ', 'Lille', 'Monaco', ' - ', 'Paris SG', 'Rennes', ' - ', 'Metz', 'Angers', ' - ', 'Brest', 'Bordeaux', ' - ', 'Montpellier', 'Lorient', ' - ', 'Strasbourg', 'Reims', ' - ', 'Lyon', 'Marseille', ' - ', 'Nice', 'Nice', ' - ', 'Rennes', 'Lille', ' - ', 'Bordeaux', 'Saint-Étienne', ' - ', 'Marseille', 'Strasbourg', ' - ', 'Lens', 'Metz', ' - ', 'Monaco', 'Montpellier', ' - ', 'Brest', 'Clermont', ' - ', 'Nantes', 'Troyes', ' - ', 'Reims', 'Lyon', ' - ', 'Angers', 'Paris SG', ' - ', 'Lorient'], 'dates': ['AUJOURD’HUI À 21:00', 'DEMAIN À 13:00', 'DEMAIN À 15:00', 'DEMAIN À 15:00', 'DEMAIN À 15:00', 'DEMAIN À 15:00', 'DEMAIN À 17:05', 'DEMAIN À 20:45', '2 AVR. 2022 À 17:00', '2 AVR. 2022 À 19:00', '2 AVR. 2022 À 21:00', '3 AVR. 2022 À 13:00', '3 AVR. 2022 À 15:00', '3 AVR. 2022 À 15:00', '3 AVR. 2022 À 15:00', '3 AVR. 2022 À 15:00', '3 AVR. 2022 À 17:05']}, 'liga': {'cotes': ['4,20', '3,15', '2,00', '2,15', '3,35', '3,55', '4,75', '3,60', '1,80', '2,25', '3,45', '3,20', '2,10', '3,20', '4,00', '2,35', '3,50', '3,05', '2,10', '2,95', '3,80', '3,70', '3,50', '1,92', '4,40', '3,75', '1,72', '1,29', '5,00', '10', '1,50', '4,10', '6,00', '1,82', '3,55', '4,10', '1,80', '3,50', '4,20', '2,55', '3,05', '2,75', '1,64', '3,80', '4,90', '1,68', '3,70', '4,70'], 'noms': ['Rayo Vallecano', ' - ', 'Atletico Madrid', 'Espanyol Barcelone', ' - ', 'Majorque', 'CF Cadiz', ' - ', 'Villarreal', 'Celta Vigo', ' - ', 'Betis Séville', 'FC Séville', ' - ', 'Real Sociedad', 'Real Madrid', ' - ', 'FC Barcelone', 'Getafe', ' - ', 'Majorque', 'Levante', ' - ', 'Villarreal', 'Celta Vigo', ' - ', 'Real Madrid', 'Atletico Madrid', ' - ', 'Alaves', 'Athletic Bilbao', ' - ', 'Elche', 'Betis Séville', ' - ', 'Osasuna', 'Valence', ' - ', 'CF Cadiz', 'Grenade', ' - ', 'Rayo Vallecano', 'FC Barcelone', ' - ', 'FC Séville', 'Real Sociedad', ' - ', 'Espanyol Barcelone'], 'dates': ['AUJOURD’HUI À 21:00', 'DEMAIN À 14:00', 'DEMAIN À 16:15', 'DEMAIN À 16:15', 'DEMAIN À 18:30', 'DEMAIN À 21:00', '2 AVR. 2022 À 14:00', '2 AVR. 2022 À 16:15', '2 AVR. 2022 À 18:30', '2 AVR. 2022 À 21:00', '3 AVR. 2022 À 14:00', '3 AVR. 2022 À 16:15', '3 AVR. 2022 À 18:30', '3 AVR. 2022 À 18:30', '3 AVR. 2022 À 21:00']}}\n"
     ]
    }
   ],
   "source": [
    "print (res_winamax)"
   ]
  },
  {
   "cell_type": "code",
   "execution_count": 17,
   "metadata": {},
   "outputs": [],
   "source": [
    "# ---------------------------------------------------------------\n",
    "# unibet\n",
    "# ---------------------------------------------------------------\n",
    "\n",
    "compets_unibet = {'ldc': 'https://www.unibet.fr/sport/football/ligue-des-champions/ligue-des-champions-matchs',\n",
    "                  'pl': 'https://www.unibet.fr/sport/football/premier-league/matchs',\n",
    "                  'l1': 'https://www.unibet.fr/sport/football/ligue-1-ubereats/ligue-1-matchs',\n",
    "                  'liga': 'https://www.unibet.fr/sport/football/liga/matchs'}\n",
    "\n",
    "res_unibet = {'ldc': {'cotes': [], 'noms': [], 'dates': []},\n",
    "              'pl': {'cotes': [], 'noms': [], 'dates': []},\n",
    "              'l1': {'cotes': [], 'noms': [], 'dates': []},\n",
    "              'liga': {'cotes': [], 'noms': [], 'dates': []}}"
   ]
  },
  {
   "cell_type": "code",
   "execution_count": 18,
   "metadata": {},
   "outputs": [
    {
     "name": "stderr",
     "output_type": "stream",
     "text": [
      "C:\\Users\\HP\\AppData\\Local\\Temp\\ipykernel_1744\\857201331.py:5: DeprecationWarning: find_elements_by_xpath is deprecated. Please use find_elements(by=By.XPATH, value=xpath) instead\n",
      "  cotes_temp = browser.find_elements_by_xpath(\n",
      "C:\\Users\\HP\\AppData\\Local\\Temp\\ipykernel_1744\\857201331.py:20: DeprecationWarning: find_elements_by_xpath is deprecated. Please use find_elements(by=By.XPATH, value=xpath) instead\n",
      "  noms_temp = browser.find_elements_by_xpath(\n"
     ]
    }
   ],
   "source": [
    "for i, compet in enumerate(compets_unibet):\n",
    "    browser.get(compets_unibet[compet])\n",
    "    time.sleep(2)\n",
    "    '''On cherche les côtes '''\n",
    "    cotes_temp = browser.find_elements_by_xpath(\n",
    "        '//*[@id=\"page__competitionview\"]/div[1]/div/div[2]/div/div/div[2]/div[2]/div/div/div/div[2]')\n",
    "    for match in cotes_temp:\n",
    "        for i in range(0, 3):\n",
    "            x = match.get_property('children')[0]\n",
    "            x = x.get_property('children')[0]\n",
    "            x = x.get_property('children')[0]\n",
    "            x = x.get_property('children')[0]\n",
    "            x = x.get_property('children')[i]\n",
    "            x = x.get_property('children')[0]\n",
    "            x = x.get_property('children')[2]\n",
    "            res_unibet[compet]['cotes'].append(x.text)\n",
    "\n",
    "    '''On cherche les noms d'équipes'''\n",
    "\n",
    "    noms_temp = browser.find_elements_by_xpath(\n",
    "        '//*[@id=\"page__competitionview\"]/div[1]/div/div[2]/div/div/div[2]/div[2]/div/div/div/div/div/div[2]/div[1]/div/span')\n",
    "    for x in noms_temp:\n",
    "        res_unibet[compet]['noms'].append(x.text.split('-'))"
   ]
  },
  {
   "cell_type": "code",
   "execution_count": 19,
   "metadata": {},
   "outputs": [
    {
     "name": "stdout",
     "output_type": "stream",
     "text": [
      "{'ldc': {'cotes': ['7.80', '4.35', '1.35', '1.38', '4.40', '6.60', '2.05', '3.28', '3.25', '5.00', '3.98', '1.54'], 'noms': [['Benfica ', ' Liverpool'], ['Manchester City ', ' Atletico Madrid'], ['Chelsea ', ' Real Madrid'], ['Villarreal ', ' Bayern Munich']], 'dates': []}, 'pl': {'cotes': ['2.16', '3.45', '3.32', '1.68', '3.92', '5.00', '1.09', '7.20', '14.20', '1.51', '3.62', '5.45', '11.20', '5.95', '1.15', '1.27', '4.55', '8.35', '2.22', '3.22', '2.75', '2.62', '2.95', '2.49', '1.46', '4.15', '5.05', '1.71', '3.42', '4.05', '1.44', '4.05', '5.50', '3.92', '3.25', '1.78'], 'noms': [['Leicester ', ' Brentford'], ['Tottenham ', ' West Ham'], ['Liverpool ', ' Watford'], ['Brighton ', ' Norwich City'], ['Burnley ', ' Manchester City'], ['Chelsea ', ' Brentford'], ['Leeds United ', ' Southampton'], ['Wolverhampton ', ' Aston Villa'], ['Manchester United ', ' Leicester'], ['West Ham ', ' Everton'], ['Tottenham ', ' Newcastle'], ['Crystal Palace ', ' Arsenal']], 'dates': []}, 'l1': {'cotes': ['2.80', '3.00', '2.78', '3.70', '3.85', '1.92', '2.22', '3.20', '3.48', '2.34', '3.52', '2.92', '3.45', '3.28', '2.18', '1.24', '5.90', '13.50', '4.25', '3.78', '1.82', '2.08', '3.28', '3.65', '2.72', '3.18', '2.26', '1.47', '3.92', '5.35', '3.60', '3.28', '1.85', '2.02', '3.12', '3.22', '2.50', '2.92', '2.60', '4.80', '3.65', '1.56', '1.94', '3.25', '3.32', '2.40', '2.92', '2.75', '1.35', '4.35', '6.50', '1.12', '6.65', '12.20'], 'noms': [['Nantes ', ' Lille'], ['Monaco ', ' Paris SG'], ['Angers ', ' Brest'], ['Bordeaux ', ' Montpellier'], ['Lorient ', ' Strasbourg'], ['Rennes ', ' Metz'], ['Reims ', ' Lyon'], ['Marseille ', ' Nice'], ['Nice ', ' Rennes'], ['Lille ', ' Bordeaux'], ['Saint', 'Etienne ', ' Marseille'], ['Strasbourg ', ' Lens'], ['Clermont ', ' Nantes'], ['Metz ', ' Monaco'], ['Montpellier ', ' Brest'], ['Troyes ', ' Reims'], ['Lyon ', ' Angers'], ['Paris SG ', ' Lorient']], 'dates': []}, 'liga': {'cotes': ['4.20', '3.20', '2.00', '2.08', '3.38', '3.62', '4.50', '3.60', '1.82', '2.14', '3.50', '3.32', '2.04', '3.30', '3.85', '2.25', '3.50', '3.02', '2.01', '2.85', '3.65', '3.55', '3.35', '1.84', '4.20', '3.58', '1.65', '1.25', '4.65', '9.25', '1.44', '3.95', '5.70', '1.74', '3.42', '3.92', '2.43', '2.95', '2.68', '1.73', '3.38', '4.00', '1.58', '3.62', '4.70', '1.62', '3.52', '4.45'], 'noms': [['Rayo Vallecano ', ' Atletico Madrid'], ['Espanyol Barcelone ', ' Majorque'], ['Cadiz CF ', ' Villarreal'], ['Celta Vigo ', ' Betis Séville'], ['FC Séville ', ' Real Sociedad'], ['Real Madrid ', ' FC Barcelone'], ['Getafe ', ' Majorque'], ['Levante ', ' Villarreal'], ['Celta Vigo ', ' Real Madrid'], ['Atletico Madrid ', ' Alaves'], ['Athletic Bilbao ', ' Elche'], ['Betis Séville ', ' Osasuna'], ['Grenade ', ' Rayo Vallecano'], ['Valence ', ' Cadiz CF'], ['FC Barcelone ', ' FC Séville'], ['Real Sociedad ', ' Espanyol Barcelone']], 'dates': []}}\n"
     ]
    }
   ],
   "source": [
    "print(res_unibet)"
   ]
  },
  {
   "cell_type": "code",
   "execution_count": 94,
   "metadata": {},
   "outputs": [
    {
     "name": "stdout",
     "output_type": "stream",
     "text": [
      "['05/04/2022 21:00', '05/04/2022 21:00', '06/04/2022 21:00', '06/04/2022 21:00', '', '', '', '', '05/04/2022 21:00', '05/04/2022 21:00', '06/04/2022 21:00', '06/04/2022 21:00']\n"
     ]
    }
   ],
   "source": [
    "print(res_betclic['ldc']['dates'])\n",
    "\n",
    "\n"
   ]
  },
  {
   "cell_type": "code",
   "execution_count": 98,
   "metadata": {},
   "outputs": [
    {
     "ename": "SyntaxError",
     "evalue": "unterminated string literal (detected at line 6) (53336569.py, line 6)",
     "output_type": "error",
     "traceback": [
      "\u001b[1;36m  Input \u001b[1;32mIn [98]\u001b[1;36m\u001b[0m\n\u001b[1;33m    name=['Betclic','winamax,'unibet']\u001b[0m\n\u001b[1;37m                                    ^\u001b[0m\n\u001b[1;31mSyntaxError\u001b[0m\u001b[1;31m:\u001b[0m unterminated string literal (detected at line 6)\n"
     ]
    }
   ],
   "source": [
    "wb = Workbook()  # création du classeur\n",
    "ws = wb.active  # création de la feuille\n",
    "ws.title = \"ldc\"  # titre de la feuille\n",
    "ws.cell(1,1).value= 'Ligue des Champions'\n",
    "sites=[res_betclic,res_winamax,res_unibet]\n",
    "name=['Betclic','winamax' ,'unibet']\n",
    "r,c=-5,1\n",
    "o=0\n",
    "for compet in sites:\n",
    "    o+=1\n",
    "    r+=8\n",
    "    ws.cell(r,c).value = name[o]\n",
    "    r+=1\n",
    "    row,column=r,c\n",
    "    ws.cell(row, column).value = 'Match'\n",
    "    ws.cell(row, column+1).value = 'dates'\n",
    "    # Merge 3 cells.\n",
    "    ws.merge_cells('C'+str(row)+':E'+str(row), 'Merged Range')\n",
    "    ws.cell(row,column+2).value = 'cotes'\n",
    "    # on set le \"curseur\"\n",
    "    row+=1\n",
    "    for i in range(9):\n",
    "        if i%2==0:\n",
    "            ws.cell(row, column).value = res_betclic['ldc']['noms'][i] +'-'+ res_betclic['ldc']['noms'][i+1]\n",
    "            row += 1  # sur une ligne on change de colonne\n",
    "    \n",
    "    row=r+1\n",
    "    column+=1\n",
    "\n",
    "    for i in range(4):\n",
    "        # assigne la valeur info à la cellule en ligne(row) et en colonne (column)  \n",
    "        ws.cell(row, column).value = res_betclic['ldc']['dates'][i] \n",
    "        row += 1  # sur une ligne on change de colonne\n",
    "    row=r+1\n",
    "    column+=1\n",
    "\n",
    "    for i in range(12):\n",
    "        # assigne la valeur info à la cellule en ligne(row) et en colonne (column)\n",
    "        if i%3==0:\n",
    "            ws.cell(row, column).value = compet['ldc']['cotes'][i] \n",
    "            column += 1  # sur une ligne on change de colonne\n",
    "            ws.cell(row, column).value = compet['ldc']['cotes'][i+1] \n",
    "            column += 1  # sur une ligne on change de colonne\n",
    "            ws.cell(row, column).value = compet['ldc']['cotes'][i+2] \n",
    "            column += 1  # sur une ligne on change de colonne\n",
    "            row+=1\n",
    "        column = 3\n",
    "        \n",
    "    \n",
    "try:\n",
    "    # on sauve l'excel sous la forme xls.\n",
    "    wb.save(\"C:/Users/HP/OneDrive/Bureau/scrap/paris_sportif\"+\".xlsx\")\n",
    "\n",
    "except:\n",
    "    wb.save(\"C:\\\\Users\\\\rapha\\\\Desktop\\\\JCS\\\\JCS Academy\\\\LeNomAPasMarche.xlsx\")\n",
    "\n",
    "browser.quit()\n"
   ]
  }
 ],
 "metadata": {
  "interpreter": {
   "hash": "9bf2ca0f4a7adc3ce2f237ca763c1538d3ef289a4e7face3612a01cdae9f6807"
  },
  "kernelspec": {
   "display_name": "Python 3.10.2 64-bit",
   "language": "python",
   "name": "python3"
  },
  "language_info": {
   "codemirror_mode": {
    "name": "ipython",
    "version": 3
   },
   "file_extension": ".py",
   "mimetype": "text/x-python",
   "name": "python",
   "nbconvert_exporter": "python",
   "pygments_lexer": "ipython3",
   "version": "3.10.2"
  },
  "orig_nbformat": 4
 },
 "nbformat": 4,
 "nbformat_minor": 2
}
