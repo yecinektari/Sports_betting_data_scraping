{
 "cells": [
  {
   "cell_type": "code",
   "execution_count": 61,
   "metadata": {},
   "outputs": [],
   "source": [
    "from selenium import webdriver\n",
    "from selenium.webdriver.common.keys import Keys\n",
    "import time\n",
    "import os  # permet d'aller écrire dans les répertoires\n",
    "from openpyxl import Workbook\n",
    "from openpyxl.styles.fills import PatternFill, FILL_SOLID\n",
    "import pandas as pd"
   ]
  },
  {
   "cell_type": "code",
   "execution_count": 42,
   "metadata": {},
   "outputs": [],
   "source": [
    "option = webdriver.ChromeOptions()\n",
    "option.add_argument(\"--incognito\")  # Navigation privée\n",
    "# option.add_argument(\"kiosk\")  # grand ecran sur mac\n",
    "#prefs={\"profile.managed_default_content_settings.images\": 2, 'disk-cache-size': 4096 }\n",
    "#option.add_experimental_option('prefs', prefs)"
   ]
  },
  {
   "cell_type": "code",
   "execution_count": 43,
   "metadata": {},
   "outputs": [
    {
     "name": "stderr",
     "output_type": "stream",
     "text": [
      "<ipython-input-43-3bc954d34f69>:2: DeprecationWarning: executable_path has been deprecated, please pass in a Service object\n",
      "  browser = webdriver.Chrome(\n"
     ]
    }
   ],
   "source": [
    "# # Pour Mac\n",
    "browser = webdriver.Chrome(\n",
    "   executable_path=\"/Users/thomasbouiniere/Desktop/Scrapping/chromedriver\", options=option)\n",
    "\n",
    "# #Pour windows\n",
    "# browser = webdriver.Chrome(\n",
    "#     executable_path=r\"C:/Users/HP/OneDrive/Bureau/scrap/chromedriver.exe\", options=option)"
   ]
  },
  {
   "cell_type": "code",
   "execution_count": 44,
   "metadata": {},
   "outputs": [],
   "source": [
    "# ---------------------------------------------------------------\n",
    "# Betclic\n",
    "# ---------------------------------------------------------------\n",
    "compets_betclic = {'ldc': 'https://www.betclic.fr/football-s1/ligue-des-champions-c8',\n",
    "                   'pl': 'https://www.betclic.fr/football-s1/angl-premier-league-c3',\n",
    "                   'l1': 'https://www.betclic.fr/football-s1/ligue-1-uber-eats-c4',\n",
    "                   'liga': 'https://www.betclic.fr/football-s1/espagne-liga-primera-c7'}\n",
    "\n",
    "res_betclic = {'ldc': {'cotes': [], 'noms': [], 'dates': []},\n",
    "               'pl': {'cotes': [], 'noms': [], 'dates': []},\n",
    "               'l1': {'cotes': [], 'noms': [], 'dates': []},\n",
    "               'liga': {'cotes': [], 'noms': [], 'dates': []}}"
   ]
  },
  {
   "cell_type": "code",
   "execution_count": 45,
   "metadata": {},
   "outputs": [
    {
     "name": "stderr",
     "output_type": "stream",
     "text": [
      "<ipython-input-45-52f6c4760421>:10: DeprecationWarning: find_elements_by_xpath is deprecated. Please use find_elements(by=By.XPATH, value=xpath) instead\n",
      "  cotes_temp = browser.find_elements_by_xpath(\n",
      "<ipython-input-45-52f6c4760421>:16: DeprecationWarning: find_elements_by_xpath is deprecated. Please use find_elements(by=By.XPATH, value=xpath) instead\n",
      "  nom_temp = browser.find_elements_by_xpath(\n",
      "<ipython-input-45-52f6c4760421>:21: DeprecationWarning: find_elements_by_xpath is deprecated. Please use find_elements(by=By.XPATH, value=xpath) instead\n",
      "  date_temp = browser.find_elements_by_xpath(\n",
      "<ipython-input-45-52f6c4760421>:6: DeprecationWarning: find_element_by_xpath is deprecated. Please use find_element(by=By.XPATH, value=xpath) instead\n",
      "  button = browser.find_element_by_xpath(\n"
     ]
    }
   ],
   "source": [
    "for i, compet in enumerate(compets_betclic):\n",
    "    browser.get(compets_betclic[compet])\n",
    "    time.sleep(2)\n",
    "    if i ==1:\n",
    "        time.sleep(2)\n",
    "        button = browser.find_element_by_xpath(\n",
    "            '//*[@id=\"popin_tc_privacy_button_2\"]')\n",
    "        button.click()\n",
    "\n",
    "    cotes_temp = browser.find_elements_by_xpath(\n",
    "        '/html/body/app-desktop/div[1]/div/bcdk-content-scroller/div/sports-competition/div/sports-events-list/bcdk-vertical-scroller/div/div[2]/div/div/div/div[2]/div/sports-events-event/a/sports-events-event-markets/sports-markets-default[1]/div/sports-selections-selection/div[1]/span[2]')\n",
    "    for x in cotes_temp:\n",
    "        res_betclic[compet]['cotes'].append(x.text)\n",
    "\n",
    "\n",
    "    nom_temp = browser.find_elements_by_xpath(\n",
    "        '/html/body/app-desktop/div[1]/div/bcdk-content-scroller/div/sports-competition/div/sports-events-list/bcdk-vertical-scroller/div/div[2]/div/div/div/div[2]/div/sports-events-event/a/div/scoreboards-scoreboard/scoreboards-scoreboard-global/div/div/div')\n",
    "    for x in nom_temp:\n",
    "        res_betclic[compet]['noms'].append(x.text)\n",
    "\n",
    "    date_temp = browser.find_elements_by_xpath(\n",
    "        '/html/body/app-desktop/div[1]/div/bcdk-content-scroller/div/sports-competition/div/sports-events-list/bcdk-vertical-scroller/div/div[2]/div/div/div/div[2]/div/sports-events-event/a/div/sports-events-event-info/div')\n",
    "    for x in date_temp:\n",
    "        res_betclic[compet]['dates'].append(x.text)"
   ]
  },
  {
   "cell_type": "code",
   "execution_count": 46,
   "metadata": {},
   "outputs": [
    {
     "name": "stdout",
     "output_type": "stream",
     "text": [
      "[['Benfica', 'Liverpool'], ['Manchester City', 'Atletico Madrid'], ['Villarreal', 'Bayern Munich'], ['Chelsea', 'Real Madrid']]\n"
     ]
    }
   ],
   "source": [
    "for compet in res_betclic:\n",
    "    for i,name in enumerate(res_betclic[compet]['noms']):\n",
    "        if name =='Barcelone':\n",
    "            res_betclic[compet]['noms'][i] = 'FC Barcelone'\n",
    "        elif name == 'Séville':\n",
    "            res_betclic[compet]['noms'][i] = 'FC Séville'\n",
    "    res_betclic[compet]['cotes']= [[res_betclic[compet]['cotes'][i],res_betclic[compet]['cotes'][i+1],res_betclic[compet]['cotes'][i+2]] for i in range(len(res_betclic[compet]['cotes'])-2) if i%3==0]\n",
    "    res_betclic[compet]['noms']=[[res_betclic[compet]['noms'][i],res_betclic[compet]['noms'][i+1]] for i in range(len(res_betclic[compet]['noms'])-1) if i%2 ==0]\n",
    "print(res_betclic['ldc']['noms'])\n",
    "\n"
   ]
  },
  {
   "cell_type": "code",
   "execution_count": 91,
   "metadata": {},
   "outputs": [
    {
     "name": "stdout",
     "output_type": "stream",
     "text": [
      "1\n",
      "1\n",
      "1\n",
      "1\n",
      "1\n",
      "1\n"
     ]
    }
   ],
   "source": [
    "for compet in res_betclic:\n",
    "    for cote in res_betclic[compet]['cotes']:\n",
    "        for i,x in enumerate(cote):\n",
    "            if x =='':\n",
    "                cote[i]='0'\n"
   ]
  },
  {
   "cell_type": "code",
   "execution_count": 92,
   "metadata": {},
   "outputs": [
    {
     "name": "stdout",
     "output_type": "stream",
     "text": [
      "{'ldc': {'cotes': [['7,70', '4,30', '1,34'], ['1,34', '4,45', '7,25'], ['4,95', '4,00', '1,52'], ['0', '0', '0']], 'noms': [['Benfica', 'Liverpool'], ['Manchester City', 'Atletico Madrid'], ['Villarreal', 'Bayern Munich'], ['Chelsea', 'Real Madrid']], 'dates': ['05/04/2022 21:00', '05/04/2022 21:00', '06/04/2022 21:00', '06/04/2022 21:00']}, 'pl': {'cotes': [['1,11', '9,00', '18'], ['12', '6,25', '1,21'], ['1,33', '4,85', '8,90'], ['1,47', '4,15', '6,80'], ['2,88', '3,05', '2,52'], ['2,35', '3,60', '2,72'], ['1,49', '4,60', '5,55'], ['1,75', '3,70', '4,35'], ['1,47', '4,40', '6,20'], ['3,90', '3,40', '1,93'], ['2,60', '3,15', '2,72'], ['2,40', '3,00', '2,90'], ['4,25', '3,55', '1,75'], ['2,72', '3,15', '2,48'], ['4,75', '3,65', '1,66'], ['1,56', '3,75', '5,45'], ['3,10', '3,20', '2,20'], ['2,70', '3,05', '2,55'], ['2,15', '3,30', '3,10'], ['2,95', '3,15', '2,28']], 'noms': [['Liverpool', 'Watford'], ['Burnley', 'Manchester City'], ['Chelsea', 'Brentford'], ['Brighton', 'Norwich City'], ['Wolverhampton', 'Aston Villa'], ['Leeds', 'Southampton'], ['Manchester Utd', 'Leicester'], ['West Ham', 'Everton'], ['Tottenham', 'Newcastle'], ['Crystal Palace', 'Arsenal'], ['Burnley', 'Everton'], ['Newcastle', 'Wolverhampton'], ['Everton', 'Manchester Utd'], ['Watford', 'Leeds'], ['Southampton', 'Chelsea'], ['Arsenal', 'Brighton'], ['Aston Villa', 'Tottenham'], ['Norwich City', 'Burnley'], ['Leicester', 'Crystal Palace'], ['Brentford', 'West Ham']], 'dates': ['Après-demain 13:30', 'Après-demain 16:00', 'Après-demain 16:00', 'Après-demain 16:00', 'Après-demain 16:00', 'Après-demain 16:00', 'Après-demain 18:30', '03/04/2022 15:00', '03/04/2022 17:30', '04/04/2022 21:00', '06/04/2022 20:30', '08/04/2022 21:00', '09/04/2022 13:30', '09/04/2022 16:00', '09/04/2022 16:00', '09/04/2022 16:00', '09/04/2022 18:30', '10/04/2022 15:00', '10/04/2022 15:00', '10/04/2022 15:00']}, 'l1': {'cotes': [['3,05', '3,35', '2,25'], ['1,48', '4,35', '6,00'], ['3,45', '3,35', '2,08'], ['2,10', '3,30', '3,45'], ['5,95', '4,00', '1,53'], ['2,08', '3,40', '3,35'], ['2,48', '3,05', '2,95'], ['2,50', '3,00', '2,95'], ['1,38', '4,80', '7,35'], ['1,17', '7,25', '13'], ['2,28', '3,15', '3,00'], ['3,95', '3,35', '1,86'], ['6,35', '4,80', '1,38'], ['1,82', '3,45', '4,00'], ['2,35', '3,20', '2,85'], ['1,30', '4,90', '8,75'], ['3,15', '3,10', '2,22'], ['2,17', '3,30', '3,05'], ['2,55', '3,35', '2,52'], ['1,48', '4,20', '5,75']], 'noms': [['Nice', 'Rennes'], ['Lille', 'Bordeaux'], ['Saint-Etienne', 'Marseille'], ['Strasbourg', 'Lens'], ['Metz', 'Monaco'], ['Montpellier', 'Brest'], ['Clermont', 'Nantes'], ['Troyes', 'Reims'], ['Lyon', 'Angers'], ['Paris SG', 'Lorient'], ['Lorient', 'Saint-Etienne'], ['Reims', 'Rennes'], ['Clermont', 'Paris SG'], ['Bordeaux', 'Metz'], ['Brest', 'Nantes'], ['Monaco', 'Troyes'], ['Angers', 'Lille'], ['Lens', 'Nice'], ['Strasbourg', 'Lyon'], ['Marseille', 'Montpellier']], 'dates': ['Après-demain 17:00', 'Après-demain 19:00', 'Après-demain 21:00', '03/04/2022 13:00', '03/04/2022 15:00', '03/04/2022 15:00', '03/04/2022 15:00', '03/04/2022 15:00', '03/04/2022 17:05', '03/04/2022 20:45', '08/04/2022 21:00', '09/04/2022 17:00', '09/04/2022 21:00', '10/04/2022 13:00', '10/04/2022 15:00', '10/04/2022 15:00', '10/04/2022 15:00', '10/04/2022 17:05', '10/04/2022 19:00', '10/04/2022 21:00']}, 'liga': {'cotes': [['2,10', '3,00', '3,85'], ['3,55', '3,65', '1,93'], ['3,80', '3,55', '1,90'], ['1,34', '4,65', '9,20'], ['1,47', '4,15', '6,70'], ['1,95', '3,45', '3,75'], ['1,83', '3,35', '4,40'], ['2,55', '3,10', '2,80'], ['1,45', '4,30', '6,80'], ['1,57', '3,95', '5,55'], ['1,39', '4,20', '7,50'], ['3,30', '3,20', '2,13'], ['4,25', '3,30', '1,82'], ['2,05', '3,25', '3,40'], ['1,37', '4,40', '7,50'], ['1,78', '3,35', '4,35'], ['2,78', '3,05', '2,48'], ['2,95', '3,15', '2,30'], ['5,45', '4,40', '1,47'], ['0', '0', '0']], 'noms': [['Getafe', 'Majorque'], ['Levante', 'Villarreal'], ['Celta Vigo', 'Real Madrid'], ['Atletico Madrid', 'Alaves'], ['Athletic Bilbao', 'Elche'], ['Betis', 'Osasuna'], ['Valence', 'Cadix'], ['Grenade', 'Rayo Vallecano'], ['FC Barcelone', 'FC Séville'], ['Real Sociedad', 'Espanyol'], ['FC Séville', 'Grenade'], ['Cadix', 'Betis'], ['Majorque', 'Atletico Madrid'], ['Villarreal', 'Athletic Bilbao'], ['Real Madrid', 'Getafe'], ['Osasuna', 'Alavés'], ['Espanyol', 'Celta Vigo'], ['Elche', 'Real Sociedad'], ['Levante', 'FC Barcelone'], ['Rayo Vallecano', 'Valence']], 'dates': ['Après-demain 14:00', 'Après-demain 16:15', 'Après-demain 18:30', 'Après-demain 21:00', '03/04/2022 14:00', '03/04/2022 16:15', '03/04/2022 18:30', '03/04/2022 18:30', '03/04/2022 21:00', '04/04/2022 21:00', '08/04/2022 21:00', '09/04/2022 14:00', '09/04/2022 16:15', '09/04/2022 18:30', '09/04/2022 21:00', '10/04/2022 14:00', '10/04/2022 16:15', '10/04/2022 18:30', '10/04/2022 21:00', '11/04/2022 21:00']}}\n"
     ]
    }
   ],
   "source": [
    "print(res_betclic)\n"
   ]
  },
  {
   "cell_type": "code",
   "execution_count": 48,
   "metadata": {},
   "outputs": [],
   "source": [
    "# ---------------------------------------------------------------\n",
    "# Winamax\n",
    "# ---------------------------------------------------------------\n",
    "\n",
    "compets_winamax = {'ldc': 'https://www.winamax.fr/paris-sportifs/sports/1/800000542/23',\n",
    "                   'pl': 'https://www.winamax.fr/paris-sportifs/sports/1/1/1',\n",
    "                   'l1': 'https://www.winamax.fr/paris-sportifs/sports/1/7/4',\n",
    "                   'liga': 'https://www.winamax.fr/paris-sportifs/sports/1/32/36'}\n",
    "\n",
    "res_winamax = {'ldc': {'cotes': [], 'noms': [], 'dates': []},\n",
    "               'pl': {'cotes': [], 'noms': [], 'dates': []},\n",
    "               'l1': {'cotes': [], 'noms': [], 'dates': []},\n",
    "               'liga': {'cotes': [], 'noms': [], 'dates': []}}"
   ]
  },
  {
   "cell_type": "code",
   "execution_count": 49,
   "metadata": {},
   "outputs": [
    {
     "name": "stderr",
     "output_type": "stream",
     "text": [
      "<ipython-input-49-64ccc6ec26ff>:7: DeprecationWarning: find_elements_by_xpath is deprecated. Please use find_elements(by=By.XPATH, value=xpath) instead\n",
      "  cotes_liga_temp = browser.find_elements_by_xpath(\n",
      "<ipython-input-49-64ccc6ec26ff>:26: DeprecationWarning: find_elements_by_xpath is deprecated. Please use find_elements(by=By.XPATH, value=xpath) instead\n",
      "  noms_temp = browser.find_elements_by_xpath(\n",
      "<ipython-input-49-64ccc6ec26ff>:33: DeprecationWarning: find_elements_by_xpath is deprecated. Please use find_elements(by=By.XPATH, value=xpath) instead\n",
      "  dates_temp = browser.find_elements_by_xpath(\n"
     ]
    }
   ],
   "source": [
    "for i, compet in enumerate(compets_winamax):\n",
    "    browser.get(compets_winamax[compet])\n",
    "    time.sleep(1)\n",
    "\n",
    "    '''On récupère les cotes'''\n",
    "\n",
    "    cotes_liga_temp = browser.find_elements_by_xpath(\n",
    "        '//*[@id=\"app\"]/div[1]/div[1]/div/div[2]/div/section/div[3]/div[1]/div/div/div/div/div[1]/a')\n",
    "    cotes_liga = []\n",
    "    try:\n",
    "        for lien in cotes_liga_temp:\n",
    "            for i in range(0, 3):\n",
    "                x = lien.get_property('lastChild')\n",
    "                x = x.get_property('lastChild')\n",
    "                x = x.get_property('lastChild')\n",
    "                x = x.get_property('children')[0]\n",
    "                x = x.get_property('children')[i]\n",
    "                x = x.get_property('children')[1]\n",
    "                x = x.get_property('children')[0]\n",
    "                x = x.get_property('children')[1]\n",
    "                res_winamax[compet]['cotes'].append(x.text)\n",
    "    except:\n",
    "        None\n",
    "\n",
    "    '''On récupère les noms d'équipes'''\n",
    "    noms_temp = browser.find_elements_by_xpath(\n",
    "        '//*[@id=\"app\"]/div/div[1]/div/div[2]/div/section/div[3]/div[1]/div/div/div/div/div[1]/a/div[2]/div[1]/div[1]/div[1]/div/span')\n",
    "    for x in noms_temp:\n",
    "        res_winamax[compet]['noms'].append(x.text)\n",
    "\n",
    "    '''On récupère les dates des matchs'''\n",
    "\n",
    "    dates_temp = browser.find_elements_by_xpath(\n",
    "        '//*[@id=\"app\"]/div/div[1]/div/div[2]/div/section/div[3]/div[1]/div/div/div/div/div[1]/a/div[1]/div[2]/div')\n",
    "    dates_temp = dates_temp[:-1]\n",
    "\n",
    "    for x in dates_temp:\n",
    "        res_winamax[compet]['dates'].append(x.text)"
   ]
  },
  {
   "cell_type": "code",
   "execution_count": 50,
   "metadata": {},
   "outputs": [
    {
     "name": "stdout",
     "output_type": "stream",
     "text": [
      "{'ldc': {'cotes': [['1,40', '4,75', '8,50'], ['8,50', '4,80', '1,37'], ['2,05', '3,40', '3,75'], ['5,85', '4,30', '1,55']], 'noms': [['Manchester City', 'Atletico Madrid'], ['Benfica', 'Liverpool'], ['Chelsea', 'Real Madrid'], ['Villarreal', 'Bayern Munich']], 'dates': ['MARDI À 21:00', 'MARDI À 21:00', '6 AVR. 2022 À 21:00', '6 AVR. 2022 À 21:00']}, 'pl': {'cotes': [['1,11', '9,50', '21'], ['14,50', '7,00', '1,21'], ['1,34', '5,00', '10'], ['2,90', '3,15', '2,60'], ['1,50', '4,10', '6,75'], ['2,40', '3,65', '2,75'], ['1,51', '4,65', '6,25'], ['1,80', '3,80', '4,50'], ['1,52', '4,50', '6,25'], ['3,90', '3,40', '2,00'], ['2,60', '3,15', '2,70'], ['2,40', '3,05', '2,95'], ['4,30', '3,65', '1,76'], ['1,58', '3,80', '5,60'], ['4,80', '3,70', '1,68'], ['2,75', '3,20', '2,50'], ['3,15', '3,25', '2,20'], ['3,00', '3,20', '2,30'], ['2,70', '3,10', '2,55'], ['2,15', '3,30', '3,15'], ['2,05', '3,55', '3,25']], 'noms': [['Liverpool', 'Watford'], ['Burnley', 'Manchester City'], ['Chelsea', 'Brentford'], ['Wolverhampton', 'Aston Villa'], ['Brighton', 'Norwich'], ['Leeds', 'Southampton'], ['Manchester United', 'Leicester'], ['West Ham', 'Everton'], ['Tottenham', 'Newcastle'], ['Crystal Palace', 'Arsenal'], ['Burnley', 'Everton'], ['Newcastle', 'Wolverhampton'], ['Everton', 'Manchester United'], ['Arsenal', 'Brighton'], ['Southampton', 'Chelsea'], ['Watford', 'Leeds'], ['Aston Villa', 'Tottenham'], ['Brentford', 'West Ham'], ['Norwich', 'Burnley'], ['Leicester', 'Crystal Palace'], ['Manchester City', 'Liverpool']], 'dates': ['SAMEDI À 13:30', 'SAMEDI À 16:00', 'SAMEDI À 16:00', 'SAMEDI À 16:00', 'SAMEDI À 16:00', 'SAMEDI À 16:00', 'SAMEDI À 18:30', 'DIMANCHE À 15:00', 'DIMANCHE À 17:30', 'LUNDI À 21:00', '6 AVR. 2022 À 20:30', '8 AVR. 2022 À 21:00', '9 AVR. 2022 À 13:30', '9 AVR. 2022 À 16:00', '9 AVR. 2022 À 16:00', '9 AVR. 2022 À 16:00', '9 AVR. 2022 À 18:30', '10 AVR. 2022 À 15:00', '10 AVR. 2022 À 15:00', '10 AVR. 2022 À 15:00', '10 AVR. 2022 À 17:30']}, 'l1': {'cotes': [['3,05', '3,35', '2,30'], ['1,50', '4,40', '6,00'], ['3,50', '3,35', '2,10'], ['2,15', '3,35', '3,55'], ['6,00', '4,10', '1,54'], ['2,10', '3,45', '3,40'], ['2,55', '3,10', '3,00'], ['2,55', '3,00', '3,00'], ['1,41', '4,90', '7,50'], ['1,18', '7,75', '15'], ['2,30', '3,20', '3,05'], ['4,00', '3,40', '1,88'], ['6,50', '4,90', '1,39'], ['1,82', '3,50', '4,10'], ['1,31', '5,00', '9,00'], ['3,20', '3,15', '2,20'], ['2,35', '3,25', '2,85'], ['2,15', '3,35', '3,10'], ['2,55', '3,40', '2,55'], ['1,49', '4,30', '5,90']], 'noms': [['Nice', 'Rennes'], ['Lille', 'Bordeaux'], ['Saint-Étienne', 'Marseille'], ['Strasbourg', 'Lens'], ['Metz', 'Monaco'], ['Montpellier', 'Brest'], ['Clermont', 'Nantes'], ['Troyes', 'Reims'], ['Lyon', 'Angers'], ['Paris SG', 'Lorient'], ['Lorient', 'Saint-Étienne'], ['Reims', 'Rennes'], ['Clermont', 'Paris SG'], ['Bordeaux', 'Metz'], ['Monaco', 'Troyes'], ['Angers', 'Lille'], ['Brest', 'Nantes'], ['Lens', 'Nice'], ['Strasbourg', 'Lyon'], ['Marseille', 'Montpellier']], 'dates': ['SAMEDI À 17:00', 'SAMEDI À 19:00', 'SAMEDI À 21:00', 'DIMANCHE À 13:00', 'DIMANCHE À 15:00', 'DIMANCHE À 15:00', 'DIMANCHE À 15:00', 'DIMANCHE À 15:00', 'DIMANCHE À 17:05', 'DIMANCHE À 20:45', '8 AVR. 2022 À 21:00', '9 AVR. 2022 À 17:00', '9 AVR. 2022 À 21:00', '10 AVR. 2022 À 13:00', '10 AVR. 2022 À 15:00', '10 AVR. 2022 À 15:00', '10 AVR. 2022 À 15:00', '10 AVR. 2022 À 17:05', '10 AVR. 2022 À 19:00', '10 AVR. 2022 À 21:00']}, 'liga': {'cotes': [['2,15', '3,00', '3,95'], ['3,65', '3,75', '1,98'], ['3,85', '3,60', '1,92'], ['1,35', '4,80', '11'], ['1,49', '4,30', '7,00'], ['2,00', '3,50', '3,80'], ['1,90', '3,40', '4,40'], ['2,65', '3,10', '2,80'], ['1,45', '4,75', '7,00'], ['1,64', '4,00', '5,70'], ['1,41', '4,30', '7,75'], ['3,35', '3,20', '2,15'], ['4,30', '3,35', '1,82'], ['2,05', '3,30', '3,45'], ['1,38', '4,50', '7,75'], ['1,80', '3,40', '4,40'], ['2,80', '3,10', '2,50'], ['3,00', '3,20', '2,30'], ['5,60', '4,50', '1,49'], ['2,35', '3,10', '3,05']], 'noms': [['Getafe', 'Majorque'], ['Levante', 'Villarreal'], ['Celta Vigo', 'Real Madrid'], ['Atletico Madrid', 'Alaves'], ['Athletic Bilbao', 'Elche'], ['Betis Séville', 'Osasuna'], ['Valence', 'Cadix'], ['Grenade', 'Rayo Vallecano'], ['FC Barcelone', 'FC Séville'], ['Real Sociedad', 'Espanyol Barcelone'], ['FC Séville', 'Grenade'], ['Cadix', 'Betis Séville'], ['Majorque', 'Atletico Madrid'], ['Villarreal', 'Athletic Bilbao'], ['Real Madrid', 'Getafe'], ['Osasuna', 'Alaves'], ['Espanyol Barcelone', 'Celta Vigo'], ['Elche', 'Real Sociedad'], ['Levante', 'FC Barcelone'], ['Rayo Vallecano', 'Valence']], 'dates': ['SAMEDI À 14:00', 'SAMEDI À 16:15', 'SAMEDI À 18:30', 'SAMEDI À 21:00', 'DIMANCHE À 14:00', 'DIMANCHE À 16:15', 'DIMANCHE À 18:30', 'DIMANCHE À 18:30', 'DIMANCHE À 21:00', 'LUNDI À 21:00', '8 AVR. 2022 À 21:00', '9 AVR. 2022 À 14:00', '9 AVR. 2022 À 16:15', '9 AVR. 2022 À 18:30', '9 AVR. 2022 À 21:00', '10 AVR. 2022 À 14:00', '10 AVR. 2022 À 16:15', '10 AVR. 2022 À 18:30', '10 AVR. 2022 À 21:00', '11 AVR. 2022 À 21:00']}}\n"
     ]
    }
   ],
   "source": [
    "for compet in res_winamax: \n",
    "    while ' - ' in res_winamax[compet]['noms']:\n",
    "        res_winamax[compet]['noms'].remove(' - ')\n",
    "        \n",
    "for compet in res_winamax:\n",
    "    for i,name in enumerate(res_winamax[compet]['noms']):\n",
    "        if name == 'CF Cadiz':\n",
    "            res_winamax[compet]['noms'][i] = 'Cadix'\n",
    "\n",
    "for compet in res_betclic:\n",
    "    res_winamax[compet]['cotes']= [[res_winamax[compet]['cotes'][i],res_winamax[compet]['cotes'][i+1],res_winamax[compet]['cotes'][i+2]] for i in range(len(res_winamax[compet]['cotes'])-2) if i%3==0]\n",
    "    res_winamax[compet]['noms']=[[res_winamax[compet]['noms'][i],res_winamax[compet]['noms'][i+1]] for i in range(len(res_winamax[compet]['noms'])-1) if i%2 ==0]\n",
    "\n",
    "print(res_winamax)"
   ]
  },
  {
   "cell_type": "code",
   "execution_count": 51,
   "metadata": {},
   "outputs": [],
   "source": [
    "# ---------------------------------------------------------------\n",
    "# unibet\n",
    "# ---------------------------------------------------------------\n",
    "\n",
    "compets_unibet = {'ldc': 'https://www.unibet.fr/sport/football/ligue-des-champions/ligue-des-champions-matchs',\n",
    "                  'pl': 'https://www.unibet.fr/sport/football/premier-league/matchs',\n",
    "                  'l1': 'https://www.unibet.fr/sport/football/ligue-1-ubereats/ligue-1-matchs',\n",
    "                  'liga': 'https://www.unibet.fr/sport/football/liga/matchs'}\n",
    "\n",
    "res_unibet = {'ldc': {'cotes': [], 'noms': [], 'dates': []},\n",
    "              'pl': {'cotes': [], 'noms': [], 'dates': []},\n",
    "              'l1': {'cotes': [], 'noms': [], 'dates': []},\n",
    "              'liga': {'cotes': [], 'noms': [], 'dates': []}}"
   ]
  },
  {
   "cell_type": "code",
   "execution_count": 52,
   "metadata": {},
   "outputs": [
    {
     "name": "stderr",
     "output_type": "stream",
     "text": [
      "<ipython-input-52-e5da6e225fe2>:5: DeprecationWarning: find_elements_by_xpath is deprecated. Please use find_elements(by=By.XPATH, value=xpath) instead\n",
      "  cotes_temp = browser.find_elements_by_xpath(\n",
      "<ipython-input-52-e5da6e225fe2>:20: DeprecationWarning: find_elements_by_xpath is deprecated. Please use find_elements(by=By.XPATH, value=xpath) instead\n",
      "  noms_temp = browser.find_elements_by_xpath(\n"
     ]
    }
   ],
   "source": [
    "for i, compet in enumerate(compets_unibet):\n",
    "    browser.get(compets_unibet[compet])\n",
    "    time.sleep(2)\n",
    "    '''On cherche les côtes '''\n",
    "    cotes_temp = browser.find_elements_by_xpath(\n",
    "        '//*[@id=\"page__competitionview\"]/div[1]/div/div[2]/div/div/div[2]/div[2]/div/div/div/div[2]')\n",
    "    for match in cotes_temp:\n",
    "        for i in range(0, 3):\n",
    "            x = match.get_property('children')[0]\n",
    "            x = x.get_property('children')[0]\n",
    "            x = x.get_property('children')[0]\n",
    "            x = x.get_property('children')[0]\n",
    "            x = x.get_property('children')[i]\n",
    "            x = x.get_property('children')[0]\n",
    "            x = x.get_property('children')[2]\n",
    "            res_unibet[compet]['cotes'].append(x.text)\n",
    "\n",
    "    '''On cherche les noms d'équipes'''\n",
    "\n",
    "    noms_temp = browser.find_elements_by_xpath(\n",
    "        '//*[@id=\"page__competitionview\"]/div[1]/div/div[2]/div/div/div[2]/div[2]/div/div/div/div/div/div[2]/div[1]/div/span')\n",
    "    for x in noms_temp:\n",
    "        res_unibet[compet]['noms'].append(x.text.split('-'))"
   ]
  },
  {
   "cell_type": "code",
   "execution_count": 53,
   "metadata": {},
   "outputs": [],
   "source": [
    "sites={'ldc': \"https://www.livefootballtickets.com/champions-league-tickets.html\" ,\n",
    "        'lp': \"https://www.livefootballtickets.com/english-championship-tickets.html\",\n",
    "        'liga':'https://www.livefootballtickets.com/la-liga-tickets.html',\n",
    "        'l1':'https://www.livefootballtickets.com/ligue-1-tickets.html'}\n",
    "\n",
    "k={'ldc':{},'lp':{},'liga':{},'l1':{}}\n",
    "# option = webdriver.ChromeOptions()\n",
    "# option.add_argument(\"--incognito\") \n",
    "# browser = webdriver.Chrome(\n",
    "#     executable_path=r\"C:/Users/HP/OneDrive/Bureau/scrap/chromedriver.exe\", options=option)\n",
    "# for compet in sites:\n",
    "#     browser.get(sites[compet])\n",
    "#     liste = browser.find_elements_by_xpath(\n",
    "#         '/html/body/div[4]/form/div[3]/div[1]/div[1]/div/div[3]/ol/li')\n",
    "\n",
    "#     for i in range(len(liste)):\n",
    "#         print(i)\n",
    "#         x=liste[i]\n",
    "#         x=x.get_property('children')\n",
    "#         x=x[0].text.split('\\n')\n",
    "#         try:\n",
    "#             k[compet][x[4]]={}\n",
    "#             k[compet][x[4]]['date']= x[1]+' '+x[0]+' '+x[2]\n",
    "#             k[compet][x[4]]['hour'],k[compet][x[4]]['place']= x[5].split(' - ')[0],x[5].split(' - ')[1]\n",
    "#             k[compet][x[4]]['equip1'],k[compet][x[4]]['equip2']= x[4].split(' v ')[0],x[4].split(' v ')[1]\n",
    "#         except:\n",
    "#             pass\n",
    "        \n",
    "\n",
    "        \n",
    "#         try:\n",
    "#             tick = browser.find_element_by_xpath('/html/body/div[4]/form/div[3]/div[1]/div[1]/div/div[3]/ol/li['+str(i+1)+']/div/div[3]/a')\n",
    "#             browser.get(tick.get_attribute('href'))\n",
    "#             #available=browser.find_elements_by_xpath('/html/body/div[4]/form/div[3]/div[1]/div[2]/div[1]/div/h3/span')\n",
    "#             #k[compet][x[4]]['Tickets']=available.text         \n",
    "#             time.sleep(2)\n",
    "#         except:\n",
    "#             pass\n",
    "#         browser.get(sites[compet])\n",
    "\n",
    "\n",
    "# print(k)"
   ]
  },
  {
   "cell_type": "code",
   "execution_count": 54,
   "metadata": {},
   "outputs": [
    {
     "name": "stdout",
     "output_type": "stream",
     "text": [
      "{'ldc': {'cotes': [['8.50', '4.70', '1.34'], ['1.34', '4.90', '7.90'], ['1.96', '3.40', '3.75'], ['5.35', '4.30', '1.53']], 'noms': [['Benfica ', 'Liverpool'], ['Manchester City ', 'Atletico Madrid'], ['Chelsea ', 'Real Madrid'], ['Villarreal ', 'Bayern Munich']], 'dates': []}, 'pl': {'cotes': [['1.12', '8.70', '17.50'], ['1.48', '4.10', '6.80'], ['11.80', '6.20', '1.22'], ['1.34', '4.85', '9.00'], ['2.37', '3.62', '2.75'], ['2.90', '3.10', '2.52'], ['1.50', '4.50', '5.40'], ['1.75', '3.68', '4.35'], ['1.48', '4.30', '6.10'], ['3.78', '3.28', '1.87'], ['2.43', '3.12', '2.70'], ['2.31', '2.95', '2.85'], ['4.10', '3.48', '1.69'], ['1.51', '3.62', '5.30'], ['4.60', '3.52', '1.60'], ['2.65', '3.08', '2.36'], ['3.02', '3.15', '2.11'], ['2.90', '3.10', '2.19'], ['2.07', '3.20', '3.05'], ['2.62', '3.00', '2.43'], ['1.96', '3.40', '3.15']], 'noms': [['Liverpool ', 'Watford'], ['Brighton ', 'Norwich City'], ['Burnley ', 'Manchester City'], ['Chelsea ', 'Brentford'], ['Leeds United ', 'Southampton'], ['Wolverhampton ', 'Aston Villa'], ['Manchester United ', 'Leicester'], ['West Ham ', 'Everton'], ['Tottenham ', 'Newcastle'], ['Crystal Palace ', 'Arsenal'], ['Burnley ', 'Everton'], ['Newcastle ', 'Wolverhampton'], ['Everton ', 'Manchester United'], ['Arsenal ', 'Brighton'], ['Southampton ', 'Chelsea'], ['Watford ', 'Leeds United'], ['Aston Villa ', 'Tottenham'], ['Brentford ', 'West Ham'], ['Leicester ', 'Crystal Palace'], ['Norwich City ', 'Burnley'], ['Manchester City ', 'Liverpool']], 'dates': []}, 'l1': {'cotes': [['3.02', '3.32', '2.27'], ['1.47', '4.35', '6.05'], ['3.45', '3.32', '2.07'], ['2.09', '3.28', '3.45'], ['2.46', '3.05', '2.92'], ['5.95', '4.05', '1.52'], ['2.08', '3.42', '3.35'], ['2.50', '2.98', '2.95'], ['1.38', '4.70', '7.20'], ['1.18', '6.90', '12'], ['2.19', '3.08', '2.92'], ['3.82', '3.25', '1.80'], ['6.15', '4.65', '1.34'], ['1.75', '3.35', '3.95'], ['3.08', '3.05', '2.12'], ['2.26', '3.12', '2.78'], ['1.26', '4.70', '8.40'], ['2.08', '3.22', '3.00'], ['2.49', '3.25', '2.41'], ['1.43', '4.05', '5.55']], 'noms': [['Nice ', 'Rennes'], ['Lille ', 'Bordeaux'], ['Saint', 'Marseille'], ['Strasbourg ', 'Lens'], ['Clermont ', 'Nantes'], ['Metz ', 'Monaco'], ['Montpellier ', 'Brest'], ['Troyes ', 'Reims'], ['Lyon ', 'Angers'], ['Paris SG ', 'Lorient'], ['Lorient ', 'Saint', 'Etienne'], ['Reims ', 'Rennes'], ['Clermont ', 'Paris SG'], ['Bordeaux ', 'Metz'], ['Angers ', 'Lille'], ['Brest ', 'Nantes'], ['Monaco ', 'Troyes'], ['Lens ', 'Nice'], ['Strasbourg ', 'Lyon'], ['Marseille ', 'Montpellier']], 'dates': []}, 'liga': {'cotes': [['2.13', '2.98', '3.88'], ['3.60', '3.72', '1.93'], ['3.78', '3.55', '1.89'], ['1.36', '4.55', '8.20'], ['1.46', '4.15', '6.75'], ['1.95', '3.42', '3.72'], ['2.58', '3.08', '2.78'], ['1.85', '3.32', '4.30'], ['1.45', '4.30', '6.50'], ['1.56', '3.72', '5.20'], ['1.35', '4.05', '7.20'], ['3.20', '3.10', '2.04'], ['4.15', '3.22', '1.75'], ['1.97', '3.18', '3.32'], ['1.33', '4.25', '7.25'], ['1.72', '3.25', '4.25'], ['2.70', '3.00', '2.38'], ['2.90', '3.08', '2.21'], ['5.25', '4.25', '1.43'], ['2.23', '3.00', '2.95']], 'noms': [['Getafe ', 'Majorque'], ['Levante ', 'Villarreal'], ['Celta Vigo ', 'Real Madrid'], ['Atletico Madrid ', 'Alaves'], ['Athletic Bilbao ', 'Elche'], ['Betis Séville ', 'Osasuna'], ['Grenade ', 'Rayo Vallecano'], ['Valence ', 'Cadiz CF'], ['FC Barcelone ', 'FC Séville'], ['Real Sociedad ', 'Espanyol Barcelone'], ['FC Séville ', 'Grenade'], ['Cadiz CF ', 'Betis Séville'], ['Majorque ', 'Atletico Madrid'], ['Villarreal ', 'Athletic Bilbao'], ['Real Madrid ', 'Getafe'], ['Osasuna ', 'Alaves'], ['Espanyol Barcelone ', 'Celta Vigo'], ['Elche ', 'Real Sociedad'], ['Levante ', 'FC Barcelone'], ['Rayo Vallecano ', 'Valence']], 'dates': []}}\n"
     ]
    }
   ],
   "source": [
    "for compet in res_unibet:\n",
    "    res_unibet[compet]['cotes']= [[res_unibet[compet]['cotes'][i],res_unibet[compet]['cotes'][i+1],res_unibet[compet]['cotes'][i+2]] for i in range(len(res_unibet[compet]['cotes'])-2) if i%3==0]\n",
    "for compet in res_unibet:\n",
    "    for x in res_unibet[compet]['noms']:\n",
    "        x[1]=x[1][1:]\n",
    "for match in res_unibet['l1']['noms']:\n",
    "    if match[0]=='Saint':\n",
    "        match[2] = match[2][1:]\n",
    "        match.pop(1)\n",
    "\n",
    "print(res_unibet)"
   ]
  },
  {
   "cell_type": "code",
   "execution_count": 98,
   "metadata": {},
   "outputs": [],
   "source": [
    "res = {\n",
    "    'ldc' : {},\n",
    "    'pl' : {},\n",
    "    'l1' : {},\n",
    "    'liga'  : {}\n",
    "    }\n",
    "sites = {'betclic': res_betclic,'winamax': res_winamax, 'unibet':res_unibet}\n",
    "for site in sites:\n",
    "    for comp in sites[site]:\n",
    "        for i,match in enumerate(sites[site][comp]['noms']):\n",
    "            if match[0][:2]+match[1][:2] not in res[comp]:\n",
    "                res[comp][match[0][:2]+match[1][:2]] = {}\n",
    "                res[comp][match[0][:2]+match[1][:2]]['equip1'] = match[0]\n",
    "                res[comp][match[0][:2]+match[1][:2]]['equip2'] = match[1]\n",
    "            try:\n",
    "                res[comp][match[0][:2]+match[1][:2]][site] = sites[site][comp]['cotes'][i]\n",
    "            except:\n",
    "                pass\n",
    "\n",
    "\n",
    "\n"
   ]
  },
  {
   "cell_type": "code",
   "execution_count": 111,
   "metadata": {},
   "outputs": [
    {
     "name": "stdout",
     "output_type": "stream",
     "text": [
      "ldc \n",
      " {'BeLi': {'equip1': 'Benfica', 'equip2': 'Liverpool', 'betclic': [7.7, 4.3, 1.34], 'winamax': [8.5, 4.8, 1.37], 'unibet': [8.5, 4.7, 1.34]}, 'MaAt': {'equip1': 'Manchester City', 'equip2': 'Atletico Madrid', 'betclic': [1.34, 4.45, 7.25], 'winamax': [1.4, 4.75, 8.5], 'unibet': [1.34, 4.9, 7.9]}, 'ViBa': {'equip1': 'Villarreal', 'equip2': 'Bayern Munich', 'betclic': [4.95, 4.0, 1.52], 'winamax': [5.85, 4.3, 1.55], 'unibet': [5.35, 4.3, 1.53]}, 'ChRe': {'equip1': 'Chelsea', 'equip2': 'Real Madrid', 'betclic': [0.0, 0.0, 0.0], 'winamax': [2.05, 3.4, 3.75], 'unibet': [1.96, 3.4, 3.75]}} \n",
      "\n",
      "pl \n",
      " {'LiWa': {'equip1': 'Liverpool', 'equip2': 'Watford', 'betclic': [1.11, 9.0, 18.0], 'winamax': [1.11, 9.5, 21.0], 'unibet': [1.12, 8.7, 17.5]}, 'BuMa': {'equip1': 'Burnley', 'equip2': 'Manchester City', 'betclic': [12.0, 6.25, 1.21], 'winamax': [14.5, 7.0, 1.21], 'unibet': [11.8, 6.2, 1.22]}, 'ChBr': {'equip1': 'Chelsea', 'equip2': 'Brentford', 'betclic': [1.33, 4.85, 8.9], 'winamax': [1.34, 5.0, 10.0], 'unibet': [1.34, 4.85, 9.0]}, 'BrNo': {'equip1': 'Brighton', 'equip2': 'Norwich City', 'betclic': [1.47, 4.15, 6.8], 'winamax': [1.5, 4.1, 6.75], 'unibet': [1.48, 4.1, 6.8]}, 'WoAs': {'equip1': 'Wolverhampton', 'equip2': 'Aston Villa', 'betclic': [2.88, 3.05, 2.52], 'winamax': [2.9, 3.15, 2.6], 'unibet': [2.9, 3.1, 2.52]}, 'LeSo': {'equip1': 'Leeds', 'equip2': 'Southampton', 'betclic': [2.35, 3.6, 2.72], 'winamax': [2.4, 3.65, 2.75], 'unibet': [2.37, 3.62, 2.75]}, 'MaLe': {'equip1': 'Manchester Utd', 'equip2': 'Leicester', 'betclic': [1.49, 4.6, 5.55], 'winamax': [1.51, 4.65, 6.25], 'unibet': [1.5, 4.5, 5.4]}, 'WeEv': {'equip1': 'West Ham', 'equip2': 'Everton', 'betclic': [1.75, 3.7, 4.35], 'winamax': [1.8, 3.8, 4.5], 'unibet': [1.75, 3.68, 4.35]}, 'ToNe': {'equip1': 'Tottenham', 'equip2': 'Newcastle', 'betclic': [1.47, 4.4, 6.2], 'winamax': [1.52, 4.5, 6.25], 'unibet': [1.48, 4.3, 6.1]}, 'CrAr': {'equip1': 'Crystal Palace', 'equip2': 'Arsenal', 'betclic': [3.9, 3.4, 1.93], 'winamax': [3.9, 3.4, 2.0], 'unibet': [3.78, 3.28, 1.87]}, 'BuEv': {'equip1': 'Burnley', 'equip2': 'Everton', 'betclic': [2.6, 3.15, 2.72], 'winamax': [2.6, 3.15, 2.7], 'unibet': [2.43, 3.12, 2.7]}, 'NeWo': {'equip1': 'Newcastle', 'equip2': 'Wolverhampton', 'betclic': [2.4, 3.0, 2.9], 'winamax': [2.4, 3.05, 2.95], 'unibet': [2.31, 2.95, 2.85]}, 'EvMa': {'equip1': 'Everton', 'equip2': 'Manchester Utd', 'betclic': [4.25, 3.55, 1.75], 'winamax': [4.3, 3.65, 1.76], 'unibet': [4.1, 3.48, 1.69]}, 'WaLe': {'equip1': 'Watford', 'equip2': 'Leeds', 'betclic': [2.72, 3.15, 2.48], 'winamax': [2.75, 3.2, 2.5], 'unibet': [2.65, 3.08, 2.36]}, 'SoCh': {'equip1': 'Southampton', 'equip2': 'Chelsea', 'betclic': [4.75, 3.65, 1.66], 'winamax': [4.8, 3.7, 1.68], 'unibet': [4.6, 3.52, 1.6]}, 'ArBr': {'equip1': 'Arsenal', 'equip2': 'Brighton', 'betclic': [1.56, 3.75, 5.45], 'winamax': [1.58, 3.8, 5.6], 'unibet': [1.51, 3.62, 5.3]}, 'AsTo': {'equip1': 'Aston Villa', 'equip2': 'Tottenham', 'betclic': [3.1, 3.2, 2.2], 'winamax': [3.15, 3.25, 2.2], 'unibet': [3.02, 3.15, 2.11]}, 'NoBu': {'equip1': 'Norwich City', 'equip2': 'Burnley', 'betclic': [2.7, 3.05, 2.55], 'winamax': [2.7, 3.1, 2.55], 'unibet': [2.62, 3.0, 2.43]}, 'LeCr': {'equip1': 'Leicester', 'equip2': 'Crystal Palace', 'betclic': [2.15, 3.3, 3.1], 'winamax': [2.15, 3.3, 3.15], 'unibet': [2.07, 3.2, 3.05]}, 'BrWe': {'equip1': 'Brentford', 'equip2': 'West Ham', 'betclic': [2.95, 3.15, 2.28], 'winamax': [3.0, 3.2, 2.3], 'unibet': [2.9, 3.1, 2.19]}, 'MaLi': {'equip1': 'Manchester City', 'equip2': 'Liverpool', 'winamax': [2.05, 3.55, 3.25], 'unibet': [1.96, 3.4, 3.15]}} \n",
      "\n",
      "l1 \n",
      " {'NiRe': {'equip1': 'Nice', 'equip2': 'Rennes', 'betclic': [3.05, 3.35, 2.25], 'winamax': [3.05, 3.35, 2.3], 'unibet': [3.02, 3.32, 2.27]}, 'LiBo': {'equip1': 'Lille', 'equip2': 'Bordeaux', 'betclic': [1.48, 4.35, 6.0], 'winamax': [1.5, 4.4, 6.0], 'unibet': [1.47, 4.35, 6.05]}, 'SaMa': {'equip1': 'Saint-Etienne', 'equip2': 'Marseille', 'betclic': [3.45, 3.35, 2.08], 'winamax': [3.5, 3.35, 2.1], 'unibet': [3.45, 3.32, 2.07]}, 'StLe': {'equip1': 'Strasbourg', 'equip2': 'Lens', 'betclic': [2.1, 3.3, 3.45], 'winamax': [2.15, 3.35, 3.55], 'unibet': [2.09, 3.28, 3.45]}, 'MeMo': {'equip1': 'Metz', 'equip2': 'Monaco', 'betclic': [5.95, 4.0, 1.53], 'winamax': [6.0, 4.1, 1.54], 'unibet': [5.95, 4.05, 1.52]}, 'MoBr': {'equip1': 'Montpellier', 'equip2': 'Brest', 'betclic': [2.08, 3.4, 3.35], 'winamax': [2.1, 3.45, 3.4], 'unibet': [2.08, 3.42, 3.35]}, 'ClNa': {'equip1': 'Clermont', 'equip2': 'Nantes', 'betclic': [2.48, 3.05, 2.95], 'winamax': [2.55, 3.1, 3.0], 'unibet': [2.46, 3.05, 2.92]}, 'TrRe': {'equip1': 'Troyes', 'equip2': 'Reims', 'betclic': [2.5, 3.0, 2.95], 'winamax': [2.55, 3.0, 3.0], 'unibet': [2.5, 2.98, 2.95]}, 'LyAn': {'equip1': 'Lyon', 'equip2': 'Angers', 'betclic': [1.38, 4.8, 7.35], 'winamax': [1.41, 4.9, 7.5], 'unibet': [1.38, 4.7, 7.2]}, 'PaLo': {'equip1': 'Paris SG', 'equip2': 'Lorient', 'betclic': [1.17, 7.25, 13.0], 'winamax': [1.18, 7.75, 15.0], 'unibet': [1.18, 6.9, 12.0]}, 'LoSa': {'equip1': 'Lorient', 'equip2': 'Saint-Etienne', 'betclic': [2.28, 3.15, 3.0], 'winamax': [2.3, 3.2, 3.05], 'unibet': [2.19, 3.08, 2.92]}, 'ReRe': {'equip1': 'Reims', 'equip2': 'Rennes', 'betclic': [3.95, 3.35, 1.86], 'winamax': [4.0, 3.4, 1.88], 'unibet': [3.82, 3.25, 1.8]}, 'ClPa': {'equip1': 'Clermont', 'equip2': 'Paris SG', 'betclic': [6.35, 4.8, 1.38], 'winamax': [6.5, 4.9, 1.39], 'unibet': [6.15, 4.65, 1.34]}, 'BoMe': {'equip1': 'Bordeaux', 'equip2': 'Metz', 'betclic': [1.82, 3.45, 4.0], 'winamax': [1.82, 3.5, 4.1], 'unibet': [1.75, 3.35, 3.95]}, 'BrNa': {'equip1': 'Brest', 'equip2': 'Nantes', 'betclic': [2.35, 3.2, 2.85], 'winamax': [2.35, 3.25, 2.85], 'unibet': [2.26, 3.12, 2.78]}, 'MoTr': {'equip1': 'Monaco', 'equip2': 'Troyes', 'betclic': [1.3, 4.9, 8.75], 'winamax': [1.31, 5.0, 9.0], 'unibet': [1.26, 4.7, 8.4]}, 'AnLi': {'equip1': 'Angers', 'equip2': 'Lille', 'betclic': [3.15, 3.1, 2.22], 'winamax': [3.2, 3.15, 2.2], 'unibet': [3.08, 3.05, 2.12]}, 'LeNi': {'equip1': 'Lens', 'equip2': 'Nice', 'betclic': [2.17, 3.3, 3.05], 'winamax': [2.15, 3.35, 3.1], 'unibet': [2.08, 3.22, 3.0]}, 'StLy': {'equip1': 'Strasbourg', 'equip2': 'Lyon', 'betclic': [2.55, 3.35, 2.52], 'winamax': [2.55, 3.4, 2.55], 'unibet': [2.49, 3.25, 2.41]}, 'MaMo': {'equip1': 'Marseille', 'equip2': 'Montpellier', 'betclic': [1.48, 4.2, 5.75], 'winamax': [1.49, 4.3, 5.9], 'unibet': [1.43, 4.05, 5.55]}} \n",
      "\n",
      "liga \n",
      " {'GeMa': {'equip1': 'Getafe', 'equip2': 'Majorque', 'betclic': [2.1, 3.0, 3.85], 'winamax': [2.15, 3.0, 3.95], 'unibet': [2.13, 2.98, 3.88]}, 'LeVi': {'equip1': 'Levante', 'equip2': 'Villarreal', 'betclic': [3.55, 3.65, 1.93], 'winamax': [3.65, 3.75, 1.98], 'unibet': [3.6, 3.72, 1.93]}, 'CeRe': {'equip1': 'Celta Vigo', 'equip2': 'Real Madrid', 'betclic': [3.8, 3.55, 1.9], 'winamax': [3.85, 3.6, 1.92], 'unibet': [3.78, 3.55, 1.89]}, 'AtAl': {'equip1': 'Atletico Madrid', 'equip2': 'Alaves', 'betclic': [1.34, 4.65, 9.2], 'winamax': [1.35, 4.8, 11.0], 'unibet': [1.36, 4.55, 8.2]}, 'AtEl': {'equip1': 'Athletic Bilbao', 'equip2': 'Elche', 'betclic': [1.47, 4.15, 6.7], 'winamax': [1.49, 4.3, 7.0], 'unibet': [1.46, 4.15, 6.75]}, 'BeOs': {'equip1': 'Betis', 'equip2': 'Osasuna', 'betclic': [1.95, 3.45, 3.75], 'winamax': [2.0, 3.5, 3.8], 'unibet': [1.95, 3.42, 3.72]}, 'VaCa': {'equip1': 'Valence', 'equip2': 'Cadix', 'betclic': [1.83, 3.35, 4.4], 'winamax': [1.9, 3.4, 4.4], 'unibet': [1.85, 3.32, 4.3]}, 'GrRa': {'equip1': 'Grenade', 'equip2': 'Rayo Vallecano', 'betclic': [2.55, 3.1, 2.8], 'winamax': [2.65, 3.1, 2.8], 'unibet': [2.58, 3.08, 2.78]}, 'FCFC': {'equip1': 'FC Barcelone', 'equip2': 'FC Séville', 'betclic': [1.45, 4.3, 6.8], 'winamax': [1.45, 4.75, 7.0], 'unibet': [1.45, 4.3, 6.5]}, 'ReEs': {'equip1': 'Real Sociedad', 'equip2': 'Espanyol', 'betclic': [1.57, 3.95, 5.55], 'winamax': [1.64, 4.0, 5.7], 'unibet': [1.56, 3.72, 5.2]}, 'FCGr': {'equip1': 'FC Séville', 'equip2': 'Grenade', 'betclic': [1.39, 4.2, 7.5], 'winamax': [1.41, 4.3, 7.75], 'unibet': [1.35, 4.05, 7.2]}, 'CaBe': {'equip1': 'Cadix', 'equip2': 'Betis', 'betclic': [3.3, 3.2, 2.13], 'winamax': [3.35, 3.2, 2.15], 'unibet': [3.2, 3.1, 2.04]}, 'MaAt': {'equip1': 'Majorque', 'equip2': 'Atletico Madrid', 'betclic': [4.25, 3.3, 1.82], 'winamax': [4.3, 3.35, 1.82], 'unibet': [4.15, 3.22, 1.75]}, 'ViAt': {'equip1': 'Villarreal', 'equip2': 'Athletic Bilbao', 'betclic': [2.05, 3.25, 3.4], 'winamax': [2.05, 3.3, 3.45], 'unibet': [1.97, 3.18, 3.32]}, 'ReGe': {'equip1': 'Real Madrid', 'equip2': 'Getafe', 'betclic': [1.37, 4.4, 7.5], 'winamax': [1.38, 4.5, 7.75], 'unibet': [1.33, 4.25, 7.25]}, 'OsAl': {'equip1': 'Osasuna', 'equip2': 'Alavés', 'betclic': [1.78, 3.35, 4.35], 'winamax': [1.8, 3.4, 4.4], 'unibet': [1.72, 3.25, 4.25]}, 'EsCe': {'equip1': 'Espanyol', 'equip2': 'Celta Vigo', 'betclic': [2.78, 3.05, 2.48], 'winamax': [2.8, 3.1, 2.5], 'unibet': [2.7, 3.0, 2.38]}, 'ElRe': {'equip1': 'Elche', 'equip2': 'Real Sociedad', 'betclic': [2.95, 3.15, 2.3], 'winamax': [3.0, 3.2, 2.3], 'unibet': [2.9, 3.08, 2.21]}, 'LeFC': {'equip1': 'Levante', 'equip2': 'FC Barcelone', 'betclic': [5.45, 4.4, 1.47], 'winamax': [5.6, 4.5, 1.49], 'unibet': [5.25, 4.25, 1.43]}, 'RaVa': {'equip1': 'Rayo Vallecano', 'equip2': 'Valence', 'betclic': [0.0, 0.0, 0.0], 'winamax': [2.35, 3.1, 3.05], 'unibet': [2.23, 3.0, 2.95]}} \n",
      "\n"
     ]
    }
   ],
   "source": [
    "for compet in res:\n",
    "    for match in res[compet]:\n",
    "        for site in sites:\n",
    "            for i in range(0,3):\n",
    "                # print(i)\n",
    "                # print(site)\n",
    "                # print(res[compet][match])\n",
    "                # print(match[site])\n",
    "                try:\n",
    "                    res[compet][match][site][i] = float(res[compet][match][site][i].replace(',','.'))\n",
    "                except:\n",
    "                    pass\n",
    "\n",
    "for compet in res:\n",
    "    print(compet,'\\n' ,res[compet],'\\n' )\n"
   ]
  },
  {
   "cell_type": "code",
   "execution_count": 118,
   "metadata": {},
   "outputs": [],
   "source": [
    "style_betclic = PatternFill(fgColor='FF0000', patternType=FILL_SOLID)\n",
    "style_winamax = PatternFill(fgColor='6C6868', patternType=FILL_SOLID)\n",
    "style_unibet = PatternFill(fgColor='5CB84E', patternType=FILL_SOLID)\n",
    "\n",
    "wb = Workbook() # création du classeur\n",
    "for i, compet in enumerate(res.keys()):\n",
    "    if i==0:\n",
    "        ws= wb.active \n",
    "        ws.title = compet\n",
    "    else:\n",
    "        ws = wb.create_sheet(compet)  \n",
    "    ws.merge_cells('A1:K1', 'Merged Range')\n",
    "    ws.cell(1,1).value= compet\n",
    "    ws.cell(2,1).value= 'equip1'\n",
    "    ws.cell(2,2).value= 'equip2'\n",
    "    ws.merge_cells('C2:E2', 'Merged Range')\n",
    "    ws.merge_cells('F2:H2', 'Merged Range')\n",
    "    ws.merge_cells('I2:K2', 'Merged Range')\n",
    "    ws.cell(2,3).value= 'Betclic'\n",
    "    ws.cell(2,3).fill = style_betclic\n",
    "    ws.cell(2,6).value= 'Winamax'\n",
    "    ws.cell(2,6).fill = style_winamax\n",
    "    ws.cell(2,9).value= 'Unibet'\n",
    "    ws.cell(2,9).fill = style_unibet\n",
    "    ws.cell(2,12).value = 'Best Bet 1'\n",
    "    ws.cell(2,13).value = 'Best Bet 2'\n",
    "    ws.cell(2,14).value = 'Best Bet 3'\n",
    "    r,c=2,1\n",
    "    for match in res[compet]:\n",
    "        if 'unibet' in res[compet][match] and 'winamax' in res[compet][match] and 'betclic' in res[compet][match]:\n",
    "            r+=1\n",
    "            ws.cell(r,c).value=res[compet][match]['equip1']\n",
    "            c+=1\n",
    "            ws.cell(r,c).value=res[compet][match]['equip2']\n",
    "            c+=1\n",
    "            for element in res[compet][match]:\n",
    "                if element != 'equip1' and element != 'equip2':\n",
    "                    for cote in res[compet][match][element]:\n",
    "                        if cote == '':\n",
    "                            cote = 0\n",
    "                            ws.cell(r,c).value= 0\n",
    "\n",
    "                        else:    \n",
    "                            ws.cell(r,c).value= cote\n",
    "                        c+=1\n",
    "        c=1     \n",
    "    r,c = 3,12\n",
    "    for match in res[compet]:\n",
    "        for i in range(0,3):\n",
    "            ws.cell(r,c+i).value = '= MAX('+ws.cell(r,c-9+i).coordinate+','+ws.cell(r,c-6+i).coordinate+','+ws.cell(r,c-3+i).coordinate+')'\n",
    "            try:\n",
    "                max_temp = max(res[compet][match]['betclic'][i],res[compet][match]['winamax'][i],res[compet][match]['unibet'][i])\n",
    "                if max_temp == res[compet][match]['betclic'][i]:\n",
    "                    ws.cell(r,c+i).fill = style_betclic\n",
    "                if max_temp == res[compet][match]['winamax'][i]:\n",
    "                    ws.cell(r,c+i).fill = style_winamax\n",
    "                if max_temp == res[compet][match]['unibet'][i]:\n",
    "                    ws.cell(r,c+i).fill = style_unibet\n",
    "            except:\n",
    "                None\n",
    "\n",
    "\n",
    "        r+=1\n",
    "    \n",
    "    \n",
    "try:\n",
    "    # on sauve l'excel sous la forme xls.\n",
    "    #Pour windows\n",
    "    # wb.save(\"C:/Users/HP/OneDrive/Bureau/scrap/paris_sportif\"+\".xlsx\")\n",
    "    #Pour Mac\n",
    "    wb.save(\"/Users/thomasbouiniere/Desktop/Scrapping/paris_sportif\"+\".xlsx\")\n",
    "\n",
    "except:\n",
    "    print('Problème pour sauver l Excel')\n",
    "browser.quit()\n"
   ]
  }
 ],
 "metadata": {
  "interpreter": {
   "hash": "9bf2ca0f4a7adc3ce2f237ca763c1538d3ef289a4e7face3612a01cdae9f6807"
  },
  "kernelspec": {
   "display_name": "Python 3.10.2 64-bit",
   "language": "python",
   "name": "python3"
  },
  "language_info": {
   "codemirror_mode": {
    "name": "ipython",
    "version": 3
   },
   "file_extension": ".py",
   "mimetype": "text/x-python",
   "name": "python",
   "nbconvert_exporter": "python",
   "pygments_lexer": "ipython3",
   "version": "3.8.3"
  },
  "orig_nbformat": 4
 },
 "nbformat": 4,
 "nbformat_minor": 2
}
