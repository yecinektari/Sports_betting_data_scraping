{
 "cells": [
  {
   "cell_type": "code",
<<<<<<< HEAD
   "execution_count": 1,
   "metadata": {},
   "outputs": [
    {
     "name": "stderr",
     "output_type": "stream",
     "text": [
      "<ipython-input-1-14cb60356e8b>:15: DeprecationWarning: executable_path has been deprecated, please pass in a Service object\n",
      "  browser = webdriver.Chrome(\n"
     ]
    }
   ],
=======
   "execution_count": 25,
   "metadata": {},
   "outputs": [],
>>>>>>> ed0dfeb523df7ab042507f8e4db929748e732008
   "source": [
    "from selenium import webdriver\n",
    "from selenium.webdriver.common.keys import Keys\n",
    "import time\n",
    "import os  # permet d'aller écrire dans les répertoires\n",
    "from openpyxl import Workbook\n",
<<<<<<< HEAD
    "import pandas as pd\n",
    "\n",
    "\n",
=======
    "import pandas as pd"
   ]
  },
  {
   "cell_type": "code",
   "execution_count": 26,
   "metadata": {},
   "outputs": [],
   "source": [
>>>>>>> ed0dfeb523df7ab042507f8e4db929748e732008
    "option = webdriver.ChromeOptions()\n",
    "option.add_argument(\"--incognito\")  # Navigation privée\n",
    "# option.add_argument(\"kiosk\")  # grand ecran sur mac\n",
    "#prefs={\"profile.managed_default_content_settings.images\": 2, 'disk-cache-size': 4096 }\n",
<<<<<<< HEAD
    "#option.add_experimental_option('prefs', prefs)\n",
    "\n",
    "browser = webdriver.Chrome(\n",
    "    executable_path=\"/Users/thomasbouiniere/Desktop/Scrapping/chromedriver\", options=option)\n",
    "\n"
=======
    "#option.add_experimental_option('prefs', prefs)"
>>>>>>> ed0dfeb523df7ab042507f8e4db929748e732008
   ]
  },
  {
   "cell_type": "code",
<<<<<<< HEAD
   "execution_count": 2,
=======
   "execution_count": 27,
>>>>>>> ed0dfeb523df7ab042507f8e4db929748e732008
   "metadata": {},
   "outputs": [
    {
     "name": "stderr",
     "output_type": "stream",
     "text": [
<<<<<<< HEAD
      "<ipython-input-2-fa0598465e63>:19: DeprecationWarning: find_element_by_xpath is deprecated. Please use find_element(by=By.XPATH, value=xpath) instead\n",
      "  button = browser.find_element_by_xpath(\n",
      "<ipython-input-2-fa0598465e63>:23: DeprecationWarning: find_elements_by_xpath is deprecated. Please use find_elements(by=By.XPATH, value=xpath) instead\n",
      "  cotes_temp = browser.find_elements_by_xpath(\n",
      "<ipython-input-2-fa0598465e63>:28: DeprecationWarning: find_elements_by_xpath is deprecated. Please use find_elements(by=By.XPATH, value=xpath) instead\n",
      "  nom_temp = browser.find_elements_by_xpath(\n",
      "<ipython-input-2-fa0598465e63>:33: DeprecationWarning: find_elements_by_xpath is deprecated. Please use find_elements(by=By.XPATH, value=xpath) instead\n",
      "  date_temp = browser.find_elements_by_xpath(\n"
=======
      "<ipython-input-27-41f305e4f926>:2: DeprecationWarning: executable_path has been deprecated, please pass in a Service object\n",
      "  browser = webdriver.Chrome(\n"
>>>>>>> ed0dfeb523df7ab042507f8e4db929748e732008
     ]
    }
   ],
   "source": [
<<<<<<< HEAD
=======
    "# Pour Mac\n",
    "browser = webdriver.Chrome(\n",
    "   executable_path=\"/Users/thomasbouiniere/Desktop/Scrapping/chromedriver\", options=option)\n",
    "\n",
    "# Pour windows\n",
    "# browser = webdriver.Chrome(\n",
    "#     executable_path=r\"C:/Users/HP/OneDrive/Bureau/scrap/chromedriver.exe\", options=option)"
   ]
  },
  {
   "cell_type": "code",
   "execution_count": 28,
   "metadata": {},
   "outputs": [],
   "source": [
>>>>>>> ed0dfeb523df7ab042507f8e4db929748e732008
    "# ---------------------------------------------------------------\n",
    "# Betclic\n",
    "# ---------------------------------------------------------------\n",
    "compets_betclic = {'ldc': 'https://www.betclic.fr/football-s1/ligue-des-champions-c8',\n",
    "                   'pl': 'https://www.betclic.fr/football-s1/angl-premier-league-c3',\n",
    "                   'l1': 'https://www.betclic.fr/football-s1/ligue-1-uber-eats-c4',\n",
    "                   'liga': 'https://www.betclic.fr/football-s1/espagne-liga-primera-c7'}\n",
    "\n",
    "res_betclic = {'ldc': {'cotes': [], 'noms': [], 'dates': []},\n",
    "               'pl': {'cotes': [], 'noms': [], 'dates': []},\n",
    "               'l1': {'cotes': [], 'noms': [], 'dates': []},\n",
<<<<<<< HEAD
    "               'liga': {'cotes': [], 'noms': [], 'dates': []}}\n",
    "\n",
    "for i, compet in enumerate(compets_betclic):\n",
    "    browser.get(compets_betclic[compet])\n",
    "    time.sleep(1)\n",
    "    if i in [0]:\n",
=======
    "               'liga': {'cotes': [], 'noms': [], 'dates': []}}"
   ]
  },
  {
   "cell_type": "code",
   "execution_count": 29,
   "metadata": {},
   "outputs": [
    {
     "name": "stderr",
     "output_type": "stream",
     "text": [
      "<ipython-input-29-6ca12833ae80>:10: DeprecationWarning: find_elements_by_xpath is deprecated. Please use find_elements(by=By.XPATH, value=xpath) instead\n",
      "  cotes_temp = browser.find_elements_by_xpath(\n",
      "<ipython-input-29-6ca12833ae80>:15: DeprecationWarning: find_elements_by_xpath is deprecated. Please use find_elements(by=By.XPATH, value=xpath) instead\n",
      "  nom_temp = browser.find_elements_by_xpath(\n",
      "<ipython-input-29-6ca12833ae80>:20: DeprecationWarning: find_elements_by_xpath is deprecated. Please use find_elements(by=By.XPATH, value=xpath) instead\n",
      "  date_temp = browser.find_elements_by_xpath(\n",
      "<ipython-input-29-6ca12833ae80>:6: DeprecationWarning: find_element_by_xpath is deprecated. Please use find_element(by=By.XPATH, value=xpath) instead\n",
      "  button = browser.find_element_by_xpath(\n"
     ]
    }
   ],
   "source": [
    "for i, compet in enumerate(compets_betclic):\n",
    "    browser.get(compets_betclic[compet])\n",
    "    time.sleep(1)\n",
    "    if i == 1:\n",
>>>>>>> ed0dfeb523df7ab042507f8e4db929748e732008
    "        time.sleep(2)\n",
    "        button = browser.find_element_by_xpath(\n",
    "            '//*[@id=\"popin_tc_privacy_button_2\"]')\n",
    "        button.click()\n",
    "\n",
    "    cotes_temp = browser.find_elements_by_xpath(\n",
    "        '/html/body/app-desktop/div[1]/div/bcdk-content-scroller/div/sports-competition/div/sports-events-list/bcdk-vertical-scroller/div/div[2]/div/div/div/div[2]/div/sports-events-event/a/sports-events-event-markets/sports-markets-default[1]/div/sports-selections-selection/div[1]/span[2]')\n",
    "    for x in cotes_temp:\n",
    "        res_betclic[compet]['cotes'].append(x.text)\n",
    "\n",
    "    nom_temp = browser.find_elements_by_xpath(\n",
    "        '/html/body/app-desktop/div[1]/div/bcdk-content-scroller/div/sports-competition/div/sports-events-list/bcdk-vertical-scroller/div/div[2]/div/div/div/div[2]/div/sports-events-event/a/div/scoreboards-scoreboard/scoreboards-scoreboard-global/div/div/div')\n",
    "    for x in nom_temp:\n",
    "        res_betclic[compet]['noms'].append(x.text)\n",
    "\n",
    "    date_temp = browser.find_elements_by_xpath(\n",
    "        '/html/body/app-desktop/div[1]/div/bcdk-content-scroller/div/sports-competition/div/sports-events-list/bcdk-vertical-scroller/div/div[2]/div/div/div/div[2]/div/sports-events-event/a/div/sports-events-event-info/div')\n",
    "    for x in date_temp:\n",
<<<<<<< HEAD
    "        res_betclic[compet]['dates'].append(x.text)\n"
=======
    "        res_betclic[compet]['dates'].append(x.text)"
>>>>>>> ed0dfeb523df7ab042507f8e4db929748e732008
   ]
  },
  {
   "cell_type": "code",
<<<<<<< HEAD
   "execution_count": 3,
   "metadata": {},
   "outputs": [
    {
     "name": "stderr",
     "output_type": "stream",
     "text": [
      "<ipython-input-3-1ebacfd403d1>:21: DeprecationWarning: find_elements_by_xpath is deprecated. Please use find_elements(by=By.XPATH, value=xpath) instead\n",
      "  cotes_liga_temp = browser.find_elements_by_xpath(\n",
      "<ipython-input-3-1ebacfd403d1>:40: DeprecationWarning: find_elements_by_xpath is deprecated. Please use find_elements(by=By.XPATH, value=xpath) instead\n",
      "  noms_temp = browser.find_elements_by_xpath(\n",
      "<ipython-input-3-1ebacfd403d1>:47: DeprecationWarning: find_elements_by_xpath is deprecated. Please use find_elements(by=By.XPATH, value=xpath) instead\n",
      "  dates_temp = browser.find_elements_by_xpath(\n"
=======
   "execution_count": 30,
   "metadata": {},
   "outputs": [
    {
     "name": "stdout",
     "output_type": "stream",
     "text": [
      "{'ldc': {'cotes': ['1,38', '4,35', '6,55', '7,70', '4,30', '1,34', '4,95', '4,00', '1,53', '', '', ''], 'noms': ['Manchester City', 'Atletico Madrid', 'Benfica', 'Liverpool', 'Villarreal', 'Bayern Munich', 'Chelsea', 'Real Madrid'], 'dates': ['05/04/2022 21:00', '05/04/2022 21:00', '06/04/2022 21:00', '06/04/2022 21:00']}, 'pl': {'cotes': ['1,11', '8,30', '16', '11,50', '6,15', '1,19', '2,30', '3,40', '2,75', '1,31', '4,75', '8,60', '2,70', '3,05', '2,58', '1,58', '3,60', '5,45', '1,53', '4,15', '5,15', '1,77', '3,55', '4,10', '1,49', '4,15', '5,70', '4,00', '3,30', '1,86', '2,50', '3,10', '2,60', '2,38', '3,00', '2,82', '4,00', '3,55', '1,72', '2,65', '3,15', '2,40', '4,65', '3,65', '1,62', '1,56', '3,70', '5,10', '2,82', '3,15', '2,28', '2,65', '3,10', '2,45', '2,07', '3,25', '3,15', '3,05', '3,20', '2,13'], 'noms': ['Liverpool', 'Watford', 'Burnley', 'Manchester City', 'Leeds', 'Southampton', 'Chelsea', 'Brentford', 'Wolverhampton', 'Aston Villa', 'Brighton', 'Norwich City', 'Manchester Utd', 'Leicester', 'West Ham', 'Everton', 'Tottenham', 'Newcastle', 'Crystal Palace', 'Arsenal', 'Burnley', 'Everton', 'Newcastle', 'Wolverhampton', 'Everton', 'Manchester Utd', 'Watford', 'Leeds', 'Southampton', 'Chelsea', 'Arsenal', 'Brighton', 'Aston Villa', 'Tottenham', 'Norwich City', 'Burnley', 'Leicester', 'Crystal Palace', 'Brentford', 'West Ham'], 'dates': ['02/04/2022 13:30', '02/04/2022 16:00', '02/04/2022 16:00', '02/04/2022 16:00', '02/04/2022 16:00', '02/04/2022 16:00', '02/04/2022 18:30', '03/04/2022 15:00', '03/04/2022 17:30', '04/04/2022 21:00', '06/04/2022 20:30', '08/04/2022 21:00', '09/04/2022 13:30', '09/04/2022 16:00', '09/04/2022 16:00', '09/04/2022 16:00', '09/04/2022 18:30', '10/04/2022 15:00', '10/04/2022 15:00', '10/04/2022 15:00']}, 'l1': {'cotes': ['2,95', '3,15', '2,30', '1,50', '4,00', '5,60', '3,65', '3,35', '1,95', '2,12', '3,25', '3,25', '2,62', '3,00', '2,68', '2,12', '3,25', '3,20', '5,10', '3,80', '1,58', '2,52', '2,95', '2,82', '1,40', '4,45', '6,65', '1,16', '6,90', '12,50', '2,25', '3,10', '2,95', '3,80', '3,25', '1,85', '6,80', '4,85', '1,32', '2,58', '3,30', '2,40', '2,32', '3,15', '2,78', '1,80', '3,35', '3,90', '1,28', '4,75', '8,55', '3,10', '3,05', '2,17', '2,13', '3,25', '3,00', '1,45', '4,10', '5,65'], 'noms': ['Nice', 'Rennes', 'Lille', 'Bordeaux', 'Saint-Etienne', 'Marseille', 'Strasbourg', 'Lens', 'Clermont', 'Nantes', 'Montpellier', 'Brest', 'Metz', 'Monaco', 'Troyes', 'Reims', 'Lyon', 'Angers', 'Paris SG', 'Lorient', 'Lorient', 'Saint-Etienne', 'Reims', 'Rennes', 'Clermont', 'Paris SG', 'Strasbourg', 'Lyon', 'Brest', 'Nantes', 'Bordeaux', 'Metz', 'Monaco', 'Troyes', 'Angers', 'Lille', 'Lens', 'Nice', 'Marseille', 'Montpellier'], 'dates': ['02/04/2022 17:00', '02/04/2022 19:00', '02/04/2022 21:00', '03/04/2022 13:00', '03/04/2022 15:00', '03/04/2022 15:00', '03/04/2022 15:00', '03/04/2022 15:00', '03/04/2022 17:05', '03/04/2022 20:45', '08/04/2022 21:00', '09/04/2022 17:00', '09/04/2022 21:00', '10/04/2022 13:00', '10/04/2022 15:00', '10/04/2022 15:00', '10/04/2022 15:00', '10/04/2022 15:00', '10/04/2022 17:05', '10/04/2022 20:45']}, 'liga': {'cotes': ['2,10', '2,88', '3,75', '3,65', '3,55', '1,88', '4,00', '3,55', '1,80', '1,34', '4,55', '8,10', '1,47', '4,00', '6,30', '1,78', '3,50', '4,10', '1,95', '3,20', '3,80', '2,62', '3,00', '2,65', '1,52', '3,95', '5,55', '1,68', '3,60', '4,55', '4,15', '3,25', '1,77', '2,07', '3,15', '3,25', '1,35', '4,35', '7,20', '1,76', '3,25', '4,25', '2,52', '3,05', '2,60', '3,75', '3,25', '1,86', '1,38', '4,10', '7,20', '3,45', '3,25', '1,96', '5,50', '4,30', '1,44', '2,13', '3,10', '3,15'], 'noms': ['Getafe', 'Majorque', 'Levante', 'Villarreal', 'Celta Vigo', 'Real Madrid', 'Atletico Madrid', 'Alaves', 'Athletic Bilbao', 'Elche', 'Betis', 'Osasuna', 'Valence', 'Cadix', 'Grenade', 'Rayo Vallecano', 'Barcelone', 'Séville', 'Real Sociedad', 'Espanyol', 'Majorque', 'Atletico Madrid', 'Villarreal', 'Athletic Bilbao', 'Real Madrid', 'Getafe', 'Osasuna', 'Alavés', 'Espanyol', 'Celta Vigo', 'Elche', 'Real Sociedad', 'Séville', 'Grenade', 'Cadix', 'Betis', 'Levante', 'Barcelone', 'Rayo Vallecano', 'Valence'], 'dates': ['02/04/2022 14:00', '02/04/2022 16:15', '02/04/2022 18:30', '02/04/2022 21:00', '03/04/2022 14:00', '03/04/2022 16:15', '03/04/2022 18:30', '03/04/2022 18:30', '03/04/2022 21:00', '04/04/2022 21:00', '09/04/2022 16:15', '09/04/2022 18:30', '09/04/2022 21:00', '10/04/2022 14:00', '10/04/2022 16:15', '10/04/2022 18:30', '10/04/2022 21:00', '10/04/2022 21:00', '10/04/2022 21:00', '11/04/2022 21:00']}}\n"
>>>>>>> ed0dfeb523df7ab042507f8e4db929748e732008
     ]
    }
   ],
   "source": [
<<<<<<< HEAD
    "\n",
=======
    "print (res_betclic)"
   ]
  },
  {
   "cell_type": "code",
   "execution_count": 31,
   "metadata": {},
   "outputs": [],
   "source": [
>>>>>>> ed0dfeb523df7ab042507f8e4db929748e732008
    "# ---------------------------------------------------------------\n",
    "# Winamax\n",
    "# ---------------------------------------------------------------\n",
    "\n",
    "compets_winamax = {'ldc': 'https://www.winamax.fr/paris-sportifs/sports/1/800000542/23',\n",
    "                   'pl': 'https://www.winamax.fr/paris-sportifs/sports/1/1/1',\n",
    "                   'l1': 'https://www.winamax.fr/paris-sportifs/sports/1/7/4',\n",
    "                   'liga': 'https://www.winamax.fr/paris-sportifs/sports/1/32/36'}\n",
    "\n",
    "res_winamax = {'ldc': {'cotes': [], 'noms': [], 'dates': []},\n",
    "               'pl': {'cotes': [], 'noms': [], 'dates': []},\n",
    "               'l1': {'cotes': [], 'noms': [], 'dates': []},\n",
<<<<<<< HEAD
    "               'liga': {'cotes': [], 'noms': [], 'dates': []}}\n",
    "\n",
=======
    "               'liga': {'cotes': [], 'noms': [], 'dates': []}}"
   ]
  },
  {
   "cell_type": "code",
   "execution_count": 32,
   "metadata": {},
   "outputs": [
    {
     "name": "stderr",
     "output_type": "stream",
     "text": [
      "<ipython-input-32-64ccc6ec26ff>:7: DeprecationWarning: find_elements_by_xpath is deprecated. Please use find_elements(by=By.XPATH, value=xpath) instead\n",
      "  cotes_liga_temp = browser.find_elements_by_xpath(\n",
      "<ipython-input-32-64ccc6ec26ff>:26: DeprecationWarning: find_elements_by_xpath is deprecated. Please use find_elements(by=By.XPATH, value=xpath) instead\n",
      "  noms_temp = browser.find_elements_by_xpath(\n",
      "<ipython-input-32-64ccc6ec26ff>:33: DeprecationWarning: find_elements_by_xpath is deprecated. Please use find_elements(by=By.XPATH, value=xpath) instead\n",
      "  dates_temp = browser.find_elements_by_xpath(\n"
     ]
    }
   ],
   "source": [
>>>>>>> ed0dfeb523df7ab042507f8e4db929748e732008
    "for i, compet in enumerate(compets_winamax):\n",
    "    browser.get(compets_winamax[compet])\n",
    "    time.sleep(1)\n",
    "\n",
    "    '''On récupère les cotes'''\n",
    "\n",
    "    cotes_liga_temp = browser.find_elements_by_xpath(\n",
    "        '//*[@id=\"app\"]/div[1]/div[1]/div/div[2]/div/section/div[3]/div[1]/div/div/div/div/div[1]/a')\n",
    "    cotes_liga = []\n",
    "    try:\n",
    "        for lien in cotes_liga_temp:\n",
    "            for i in range(0, 3):\n",
    "                x = lien.get_property('lastChild')\n",
    "                x = x.get_property('lastChild')\n",
    "                x = x.get_property('lastChild')\n",
    "                x = x.get_property('children')[0]\n",
    "                x = x.get_property('children')[i]\n",
    "                x = x.get_property('children')[1]\n",
    "                x = x.get_property('children')[0]\n",
    "                x = x.get_property('children')[1]\n",
    "                res_winamax[compet]['cotes'].append(x.text)\n",
    "    except:\n",
    "        None\n",
    "\n",
    "    '''On récupère les noms d'équipes'''\n",
    "    noms_temp = browser.find_elements_by_xpath(\n",
    "        '//*[@id=\"app\"]/div/div[1]/div/div[2]/div/section/div[3]/div[1]/div/div/div/div/div[1]/a/div[2]/div[1]/div[1]/div[1]/div/span')\n",
    "    for x in noms_temp:\n",
    "        res_winamax[compet]['noms'].append(x.text)\n",
    "\n",
    "    '''On récupère les dates des matchs'''\n",
    "\n",
    "    dates_temp = browser.find_elements_by_xpath(\n",
    "        '//*[@id=\"app\"]/div/div[1]/div/div[2]/div/section/div[3]/div[1]/div/div/div/div/div[1]/a/div[1]/div[2]/div')\n",
    "    dates_temp = dates_temp[:-1]\n",
    "\n",
    "    for x in dates_temp:\n",
    "        res_winamax[compet]['dates'].append(x.text)"
   ]
  },
  {
   "cell_type": "code",
<<<<<<< HEAD
   "execution_count": 4,
   "metadata": {},
   "outputs": [
    {
     "name": "stderr",
     "output_type": "stream",
     "text": [
      "<ipython-input-4-14dea39b756c>:19: DeprecationWarning: find_elements_by_xpath is deprecated. Please use find_elements(by=By.XPATH, value=xpath) instead\n",
      "  cotes_temp = browser.find_elements_by_xpath(\n",
      "<ipython-input-4-14dea39b756c>:34: DeprecationWarning: find_elements_by_xpath is deprecated. Please use find_elements(by=By.XPATH, value=xpath) instead\n",
      "  noms_temp = browser.find_elements_by_xpath(\n"
=======
   "execution_count": 33,
   "metadata": {},
   "outputs": [
    {
     "name": "stdout",
     "output_type": "stream",
     "text": [
      "{'ldc': {'cotes': ['1,38', '4,40', '6,50', '7,75', '4,30', '1,34', '2,00', '3,20', '3,40', '4,90', '4,00', '1,52'], 'noms': ['Manchester City', ' - ', 'Atletico Madrid', 'Benfica', ' - ', 'Liverpool', 'Chelsea', ' - ', 'Real Madrid', 'Villarreal', ' - ', 'Bayern Munich'], 'dates': ['5 AVR. 2022 À 21:00', '5 AVR. 2022 À 21:00', '6 AVR. 2022 À 21:00', '6 AVR. 2022 À 21:00']}, 'pl': {'cotes': ['1,11', '9,00', '20', '12', '6,25', '1,19', '1,30', '5,00', '10', '2,70', '3,05', '2,60', '1,60', '3,70', '5,50', '2,30', '3,45', '2,80', '1,54', '4,20', '5,20', '1,78', '3,60', '4,20', '1,50', '4,20', '5,80', '4,10', '3,35', '1,88', '2,55', '3,20', '2,65', '2,45', '3,05', '2,90', '4,20', '3,70', '1,76', '1,58', '3,85', '5,40', '4,80', '3,80', '1,64', '2,75', '3,25', '2,45', '2,90', '3,25', '2,35', '2,10', '3,35', '3,25', '3,15', '3,30', '2,15', '2,70', '3,20', '2,50', '2,05', '3,50', '3,20'], 'noms': ['Liverpool', ' - ', 'Watford', 'Burnley', ' - ', 'Manchester City', 'Chelsea', ' - ', 'Brentford', 'Wolverhampton', ' - ', 'Aston Villa', 'Brighton', ' - ', 'Norwich', 'Leeds', ' - ', 'Southampton', 'Manchester United', ' - ', 'Leicester', 'West Ham', ' - ', 'Everton', 'Tottenham', ' - ', 'Newcastle', 'Crystal Palace', ' - ', 'Arsenal', 'Burnley', ' - ', 'Everton', 'Newcastle', ' - ', 'Wolverhampton', 'Everton', ' - ', 'Manchester United', 'Arsenal', ' - ', 'Brighton', 'Southampton', ' - ', 'Chelsea', 'Watford', ' - ', 'Leeds', 'Aston Villa', ' - ', 'Tottenham', 'Leicester', ' - ', 'Crystal Palace', 'Brentford', ' - ', 'West Ham', 'Norwich', ' - ', 'Burnley', 'Manchester City', ' - ', 'Liverpool'], 'dates': ['2 AVR. 2022 À 13:30', '2 AVR. 2022 À 16:00', '2 AVR. 2022 À 16:00', '2 AVR. 2022 À 16:00', '2 AVR. 2022 À 16:00', '2 AVR. 2022 À 16:00', '2 AVR. 2022 À 18:30', '3 AVR. 2022 À 15:00', '3 AVR. 2022 À 17:30', '4 AVR. 2022 À 21:00', '6 AVR. 2022 À 20:30', '8 AVR. 2022 À 21:00', '9 AVR. 2022 À 13:30', '9 AVR. 2022 À 16:00', '9 AVR. 2022 À 16:00', '9 AVR. 2022 À 16:00', '9 AVR. 2022 À 18:30', '10 AVR. 2022 À 15:00', '10 AVR. 2022 À 15:00', '10 AVR. 2022 À 15:00', '10 AVR. 2022 À 17:30']}, 'l1': {'cotes': ['3,00', '3,20', '2,30', '1,52', '4,10', '5,70', '3,70', '3,40', '1,96', '2,10', '3,30', '3,30', '5,20', '3,90', '1,60', '2,10', '3,30', '3,25', '2,65', '3,05', '2,70', '2,55', '3,00', '2,85', '1,41', '4,50', '6,75', '1,17', '7,25', '12', '2,30', '3,20', '3,00', '3,95', '3,40', '1,90', '7,25', '5,10', '1,35', '2,65', '3,40', '2,45', '1,84', '3,45', '4,00', '1,30', '5,10', '9,00', '3,20', '3,15', '2,20', '2,35', '3,25', '2,85', '2,15', '3,35', '3,10', '1,48', '4,30', '6,00'], 'noms': ['Nice', ' - ', 'Rennes', 'Lille', ' - ', 'Bordeaux', 'Saint-Étienne', ' - ', 'Marseille', 'Strasbourg', ' - ', 'Lens', 'Metz', ' - ', 'Monaco', 'Montpellier', ' - ', 'Brest', 'Clermont', ' - ', 'Nantes', 'Troyes', ' - ', 'Reims', 'Lyon', ' - ', 'Angers', 'Paris SG', ' - ', 'Lorient', 'Lorient', ' - ', 'Saint-Étienne', 'Reims', ' - ', 'Rennes', 'Clermont', ' - ', 'Paris SG', 'Strasbourg', ' - ', 'Lyon', 'Bordeaux', ' - ', 'Metz', 'Monaco', ' - ', 'Troyes', 'Angers', ' - ', 'Lille', 'Brest', ' - ', 'Nantes', 'Lens', ' - ', 'Nice', 'Marseille', ' - ', 'Montpellier'], 'dates': ['2 AVR. 2022 À 17:00', '2 AVR. 2022 À 19:00', '2 AVR. 2022 À 21:00', '3 AVR. 2022 À 13:00', '3 AVR. 2022 À 15:00', '3 AVR. 2022 À 15:00', '3 AVR. 2022 À 15:00', '3 AVR. 2022 À 15:00', '3 AVR. 2022 À 17:05', '3 AVR. 2022 À 20:45', '8 AVR. 2022 À 21:00', '9 AVR. 2022 À 17:00', '9 AVR. 2022 À 21:00', '10 AVR. 2022 À 13:00', '10 AVR. 2022 À 15:00', '10 AVR. 2022 À 15:00', '10 AVR. 2022 À 15:00', '10 AVR. 2022 À 15:00', '10 AVR. 2022 À 17:05', '10 AVR. 2022 À 20:45']}, 'liga': {'cotes': ['2,10', '2,90', '3,80', '3,70', '3,60', '1,90', '4,00', '3,60', '1,80', '1,35', '4,60', '8,00', '1,48', '4,10', '6,25', '1,80', '3,55', '4,10', '1,96', '3,25', '3,85', '2,65', '3,05', '2,70', '1,54', '4,00', '5,70', '1,70', '3,70', '4,60', '4,30', '3,40', '1,82', '2,10', '3,25', '3,40', '1,37', '4,60', '7,50', '1,80', '3,40', '4,40', '2,60', '3,15', '2,65', '3,90', '3,40', '1,90', '5,80', '4,50', '1,47', '1,40', '4,30', '7,50', '3,55', '3,35', '2,00', '2,15', '3,20', '3,25'], 'noms': ['Getafe', ' - ', 'Majorque', 'Levante', ' - ', 'Villarreal', 'Celta Vigo', ' - ', 'Real Madrid', 'Atletico Madrid', ' - ', 'Alaves', 'Athletic Bilbao', ' - ', 'Elche', 'Betis Séville', ' - ', 'Osasuna', 'Valence', ' - ', 'CF Cadiz', 'Grenade', ' - ', 'Rayo Vallecano', 'FC Barcelone', ' - ', 'FC Séville', 'Real Sociedad', ' - ', 'Espanyol Barcelone', 'Majorque', ' - ', 'Atletico Madrid', 'Villarreal', ' - ', 'Athletic Bilbao', 'Real Madrid', ' - ', 'Getafe', 'Osasuna', ' - ', 'Alaves', 'Espanyol Barcelone', ' - ', 'Celta Vigo', 'Elche', ' - ', 'Real Sociedad', 'Levante', ' - ', 'FC Barcelone', 'FC Séville', ' - ', 'Grenade', 'CF Cadiz', ' - ', 'Betis Séville', 'Rayo Vallecano', ' - ', 'Valence'], 'dates': ['2 AVR. 2022 À 14:00', '2 AVR. 2022 À 16:15', '2 AVR. 2022 À 18:30', '2 AVR. 2022 À 21:00', '3 AVR. 2022 À 14:00', '3 AVR. 2022 À 16:15', '3 AVR. 2022 À 18:30', '3 AVR. 2022 À 18:30', '3 AVR. 2022 À 21:00', '4 AVR. 2022 À 21:00', '9 AVR. 2022 À 16:15', '9 AVR. 2022 À 18:30', '9 AVR. 2022 À 21:00', '10 AVR. 2022 À 14:00', '10 AVR. 2022 À 16:15', '10 AVR. 2022 À 18:30', '10 AVR. 2022 À 21:00', '10 AVR. 2022 À 21:00', '10 AVR. 2022 À 21:00', '11 AVR. 2022 À 21:00']}}\n"
>>>>>>> ed0dfeb523df7ab042507f8e4db929748e732008
     ]
    }
   ],
   "source": [
<<<<<<< HEAD
    "\n",
    "# ---------------------------------------------------------------\n",
    "# Unibet\n",
=======
    "print (res_winamax)"
   ]
  },
  {
   "cell_type": "code",
   "execution_count": 34,
   "metadata": {},
   "outputs": [],
   "source": [
    "# ---------------------------------------------------------------\n",
    "# unibet\n",
>>>>>>> ed0dfeb523df7ab042507f8e4db929748e732008
    "# ---------------------------------------------------------------\n",
    "\n",
    "compets_unibet = {'ldc': 'https://www.unibet.fr/sport/football/ligue-des-champions/ligue-des-champions-matchs',\n",
    "                  'pl': 'https://www.unibet.fr/sport/football/premier-league/matchs',\n",
    "                  'l1': 'https://www.unibet.fr/sport/football/ligue-1-ubereats/ligue-1-matchs',\n",
    "                  'liga': 'https://www.unibet.fr/sport/football/liga/matchs'}\n",
    "\n",
    "res_unibet = {'ldc': {'cotes': [], 'noms': [], 'dates': []},\n",
    "              'pl': {'cotes': [], 'noms': [], 'dates': []},\n",
    "              'l1': {'cotes': [], 'noms': [], 'dates': []},\n",
<<<<<<< HEAD
    "              'liga': {'cotes': [], 'noms': [], 'dates': []}}\n",
    "\n",
=======
    "              'liga': {'cotes': [], 'noms': [], 'dates': []}}"
   ]
  },
  {
   "cell_type": "code",
   "execution_count": 35,
   "metadata": {},
   "outputs": [
    {
     "name": "stderr",
     "output_type": "stream",
     "text": [
      "<ipython-input-35-e5da6e225fe2>:5: DeprecationWarning: find_elements_by_xpath is deprecated. Please use find_elements(by=By.XPATH, value=xpath) instead\n",
      "  cotes_temp = browser.find_elements_by_xpath(\n",
      "<ipython-input-35-e5da6e225fe2>:20: DeprecationWarning: find_elements_by_xpath is deprecated. Please use find_elements(by=By.XPATH, value=xpath) instead\n",
      "  noms_temp = browser.find_elements_by_xpath(\n"
     ]
    }
   ],
   "source": [
>>>>>>> ed0dfeb523df7ab042507f8e4db929748e732008
    "for i, compet in enumerate(compets_unibet):\n",
    "    browser.get(compets_unibet[compet])\n",
    "    time.sleep(2)\n",
    "    '''On cherche les côtes '''\n",
    "    cotes_temp = browser.find_elements_by_xpath(\n",
    "        '//*[@id=\"page__competitionview\"]/div[1]/div/div[2]/div/div/div[2]/div[2]/div/div/div/div[2]')\n",
    "    for match in cotes_temp:\n",
    "        for i in range(0, 3):\n",
    "            x = match.get_property('children')[0]\n",
    "            x = x.get_property('children')[0]\n",
    "            x = x.get_property('children')[0]\n",
    "            x = x.get_property('children')[0]\n",
    "            x = x.get_property('children')[i]\n",
    "            x = x.get_property('children')[0]\n",
    "            x = x.get_property('children')[2]\n",
    "            res_unibet[compet]['cotes'].append(x.text)\n",
    "\n",
    "    '''On cherche les noms d'équipes'''\n",
    "\n",
    "    noms_temp = browser.find_elements_by_xpath(\n",
    "        '//*[@id=\"page__competitionview\"]/div[1]/div/div[2]/div/div/div[2]/div[2]/div/div/div/div/div/div[2]/div[1]/div/span')\n",
    "    for x in noms_temp:\n",
<<<<<<< HEAD
    "        res_unibet[compet]['noms'].append(x.text.split('-'))\n"
=======
    "        res_unibet[compet]['noms'].append(x.text.split('-'))"
>>>>>>> ed0dfeb523df7ab042507f8e4db929748e732008
   ]
  },
  {
   "cell_type": "code",
<<<<<<< HEAD
   "execution_count": 5,
   "metadata": {},
   "outputs": [],
   "source": [
    "\"On retire les tirets dans la liste des noms d'équipes\"\n",
    "for comp in res_winamax:\n",
    "    while ' - ' in res_winamax[comp]['noms']:\n",
    "        res_winamax[comp]['noms'].remove(' - ')\n",
    "\n"
=======
   "execution_count": 36,
   "metadata": {},
   "outputs": [
    {
     "name": "stdout",
     "output_type": "stream",
     "text": [
      "{'cotes': ['1.09', '7.25', '14.80', '1.54', '3.52', '5.25', '11', '5.90', '1.16', '1.27', '4.55', '8.25', '2.21', '3.32', '2.70', '2.62', '2.95', '2.46', '1.48', '4.00', '5.00', '1.71', '3.45', '4.00', '1.44', '4.00', '5.50', '3.92', '3.22', '1.79', '2.44', '3.05', '2.58', '2.31', '2.95', '2.82', '4.00', '3.55', '1.68', '1.53', '3.68', '5.10', '4.60', '3.65', '1.58', '2.65', '3.12', '2.35', '2.82', '3.12', '2.23', '3.02', '3.20', '2.08', '2.02', '3.25', '3.12', '2.62', '3.08', '2.39', '1.98', '3.38', '3.10'], 'noms': [['Liverpool ', ' Watford'], ['Brighton ', ' Norwich City'], ['Burnley ', ' Manchester City'], ['Chelsea ', ' Brentford'], ['Leeds United ', ' Southampton'], ['Wolverhampton ', ' Aston Villa'], ['Manchester United ', ' Leicester'], ['West Ham ', ' Everton'], ['Tottenham ', ' Newcastle'], ['Crystal Palace ', ' Arsenal'], ['Burnley ', ' Everton'], ['Newcastle ', ' Wolverhampton'], ['Everton ', ' Manchester United'], ['Arsenal ', ' Brighton'], ['Southampton ', ' Chelsea'], ['Watford ', ' Leeds United'], ['Aston Villa ', ' Tottenham'], ['Brentford ', ' West Ham'], ['Leicester ', ' Crystal Palace'], ['Norwich City ', ' Burnley'], ['Manchester City ', ' Liverpool']], 'dates': []}\n"
     ]
    }
   ],
   "source": [
    "print(res_unibet['pl'])"
>>>>>>> ed0dfeb523df7ab042507f8e4db929748e732008
   ]
  },
  {
   "cell_type": "code",
<<<<<<< HEAD
   "execution_count": 6,
=======
   "execution_count": 37,
>>>>>>> ed0dfeb523df7ab042507f8e4db929748e732008
   "metadata": {},
   "outputs": [
    {
     "name": "stdout",
     "output_type": "stream",
     "text": [
<<<<<<< HEAD
      "{'cotes': ['1,38', '4,35', '6,55', '7,70', '4,30', '1,34', '4,95', '4,00', '1,53', '2,03', '3,25', '3,25'], 'noms': ['Manchester City', 'Atletico Madrid', 'Benfica', 'Liverpool', 'Villarreal', 'Bayern Munich', 'Chelsea', 'Real Madrid'], 'dates': ['05/04/2022 21:00', '05/04/2022 21:00', '06/04/2022 21:00', '06/04/2022 21:00']}\n"
=======
      "4\n"
>>>>>>> ed0dfeb523df7ab042507f8e4db929748e732008
     ]
    }
   ],
   "source": [
<<<<<<< HEAD
    "\"on redivise les listes par paquets de matchs\"\n",
    "print(res_betclic['ldc'])"
=======
    "print(len(res_betclic['ldc']['cotes'])//3)\n",
    "\n",
    "\n"
   ]
  },
  {
   "cell_type": "code",
   "execution_count": 38,
   "metadata": {},
   "outputs": [],
   "source": [
    "wb = Workbook()  # création du classeur\n",
    "ws = wb.active  # création de la feuille\n",
    "ws.title = \"ldc\"  # titre de la feuille\n",
    "ws.cell(1,1).value= 'Ligue des Champions'\n",
    "sites=[res_betclic,res_winamax,res_unibet]\n",
    "name=['Betclic','winamax' ,'unibet']\n",
    "r,c=-5,1\n",
    "o=-1\n",
    "for compet in sites:\n",
    "    o+=1\n",
    "    r+=7\n",
    "    ws.cell(r,c).value = name[o]\n",
    "    r+=1\n",
    "    row,column=r,c\n",
    "    ws.cell(row, column).value = 'Match'\n",
    "    ws.cell(row, column+1).value = 'dates'\n",
    "    # Merge 3 cells.\n",
    "    ws.merge_cells('C'+str(row)+':E'+str(row), 'Merged Range')\n",
    "    ws.cell(row,column+2).value = 'cotes'\n",
    "    # on set le \"curseur\"\n",
    "    row+=1\n",
    "    for i in range(len(res_betclic['ldc']['noms'])):\n",
    "        if i%2==0:\n",
    "            ws.cell(row, column).value = res_betclic['ldc']['noms'][i] +'-'+ res_betclic['ldc']['noms'][i+1]\n",
    "            row += 1  # sur une ligne on change de colonne\n",
    "    \n",
    "    row=r+1\n",
    "    column+=1\n",
    "\n",
    "    for i in range(len(res_betclic['ldc']['dates'])):\n",
    "        # assigne la valeur info à la cellule en ligne(row) et en colonne (column)  \n",
    "        ws.cell(row, column).value = res_betclic['ldc']['dates'][i] \n",
    "        row += 1  # sur une ligne on change de colonne\n",
    "    row=r+1\n",
    "    column+=1\n",
    "\n",
    "    for i in range(len(res_betclic['ldc']['cotes'])):\n",
    "        # assigne la valeur info à la cellule en ligne(row) et en colonne (column)\n",
    "        if i%3==0:\n",
    "            ws.cell(row, column).value = compet['ldc']['cotes'][i] \n",
    "            column += 1  # sur une ligne on change de colonne\n",
    "            ws.cell(row, column).value = compet['ldc']['cotes'][i+1] \n",
    "            column += 1  # sur une ligne on change de colonne\n",
    "            ws.cell(row, column).value = compet['ldc']['cotes'][i+2] \n",
    "            column += 1  # sur une ligne on change de colonne\n",
    "            row+=1\n",
    "        column = 3\n",
    "        \n",
    "    \n",
    "try:\n",
    "    # on sauve l'excel sous la forme xls.\n",
    "    #Pour windows\n",
    "    # wb.save(\"C:/Users/HP/OneDrive/Bureau/scrap/paris_sportif\"+\".xlsx\")\n",
    "    #Pour Mac\n",
    "    wb.save(\"/Users/thomasbouiniere/Desktop/Scrapping/paris_sportif\"+\".xlsx\")\n",
    "\n",
    "except:\n",
    "    print('Problème pour sauver l Excel')\n",
    "browser.quit()\n"
>>>>>>> ed0dfeb523df7ab042507f8e4db929748e732008
   ]
  }
 ],
 "metadata": {
  "interpreter": {
<<<<<<< HEAD
   "hash": "40d3a090f54c6569ab1632332b64b2c03c39dcf918b08424e98f38b5ae0af88f"
  },
  "kernelspec": {
   "display_name": "Python 3.8.3 ('base')",
=======
   "hash": "9bf2ca0f4a7adc3ce2f237ca763c1538d3ef289a4e7face3612a01cdae9f6807"
  },
  "kernelspec": {
   "display_name": "Python 3.10.2 64-bit",
>>>>>>> ed0dfeb523df7ab042507f8e4db929748e732008
   "language": "python",
   "name": "python3"
  },
  "language_info": {
   "codemirror_mode": {
    "name": "ipython",
    "version": 3
   },
   "file_extension": ".py",
   "mimetype": "text/x-python",
   "name": "python",
   "nbconvert_exporter": "python",
   "pygments_lexer": "ipython3",
   "version": "3.8.3"
  },
  "orig_nbformat": 4
 },
 "nbformat": 4,
 "nbformat_minor": 2
}
